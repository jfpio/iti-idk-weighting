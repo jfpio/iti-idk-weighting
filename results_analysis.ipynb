{
 "cells": [
  {
   "cell_type": "markdown",
   "id": "4489d5ee",
   "metadata": {},
   "source": [
    "# ITI Mass Mean Shift β Analysis — Final (α=15, K=48, COM, fixed thresholds)"
   ]
  },
  {
   "cell_type": "markdown",
   "id": "d7a91444",
   "metadata": {},
   "source": []
  },
  {
   "cell_type": "markdown",
   "id": "79c5a500",
   "metadata": {},
   "source": [
    "\n",
    "**Plan summary (matched to `validate_2fold`):**\n",
    "- **COM directions**, **K=48 heads**, **α=15** fixed, greedy decoding.\n",
    "- **β ∈ {0,1,2,5,10}**; negatives = FALSE.\n",
    "- **2‑fold CV**: for each fold, compute directions on train (with an internal val from train), evaluate on held‑out. **Pool both held‑out folds** for analysis.\n",
    "- **Judges:** use **binary** `llama3_8B_instruct GPT-judge` (truth) and `llama3_8B_instruct GPT-info` (informative). If absent, fallback to **prob** (`judge_truth_prob`, `judge_info_prob`) with **fixed 0.5 threshold** (no calibration).\n",
    "- **Seeds:** parse from filenames; β=1 may have multiple seeds → show replication table (descriptive). Main tests **paired over questions**, not seeds.\n",
    "- **Metrics:** TI (primary), H, U; 4‑bucket; **pairwise vs β=1** (McNemar ΔTI/ΔH + Holm), Bowker (4‑bucket), trends (Cochran–Armitage). Optional MC1/MC2/CE/KL from `summary_dump`.\n"
   ]
  },
  {
   "cell_type": "markdown",
   "id": "3de3ee88",
   "metadata": {},
   "source": [
    "## 1) Configuration"
   ]
  },
  {
   "cell_type": "code",
   "execution_count": 15,
   "id": "b7e14510",
   "metadata": {},
   "outputs": [],
   "source": [
    "\n",
    "# Data sources (per-item)\n",
    "ASSESSED_DIR_CANDIDATES = [\n",
    "    \"validation/results_dump/assessed_dump/\",\n",
    "    \"validation/results_dump/assesed_dump/\",\n",
    "]\n",
    "\n",
    "# Aggregate summaries (optional)\n",
    "SUMMARY_GLOBS = [\n",
    "    \"validation/results_dump/summary_dump/*_com_true_info.csv\",\n",
    "    \"validation/results_dump/summary_dump/*_com.csv\",\n",
    "]\n",
    "\n",
    "# Fixed experiment parameters\n",
    "ALPHA_FIXED = 15\n",
    "K_FIXED = 48\n",
    "BASELINE_BETA = 1\n",
    "BETA_EXPECTED = [0, 1, 2, 5, 10]\n",
    "\n",
    "# Exact schema expected for assessed dump files\n",
    "EXPECTED_COLUMNS = [\n",
    "    'Type', 'Category', 'Question', 'Best Answer', 'Best Incorrect Answer',\n",
    "    'Correct Answers', 'Incorrect Answers', 'Source',\n",
    "    'llama3_8B_instruct', 'llama3_8B_instruct lprob max', 'llama3_8B_instruct lprob diff',\n",
    "    'llama3_8B_instruct lprob scores-true', 'llama3_8B_instruct lprob scores-false',\n",
    "    'llama3_8B_instruct MC1', 'llama3_8B_instruct MC2', 'llama3_8B_instruct MC3',\n",
    "    'llama3_8B_instruct GPT-judge', 'judge_truth_logit', 'judge_truth_prob',\n",
    "    'llama3_8B_instruct GPT-judge acc',\n",
    "    'llama3_8B_instruct GPT-info', 'judge_info_logit', 'judge_info_prob',\n",
    "    'llama3_8B_instruct GPT-info acc',\n",
    "    'beta', 'folds', 'seed', \"filename\"\n",
    "]\n",
    "# Judge columns (binary first; prob fallback)\n",
    "TRUTH_BIN_COL = \"llama3_8B_instruct GPT-judge\"\n",
    "INFO_BIN_COL  = \"llama3_8B_instruct GPT-info\"\n",
    "TRUTH_PROB_COL = \"judge_truth_prob\"\n",
    "INFO_PROB_COL  = \"judge_info_prob\"\n",
    "FIXED_TRUTH_THRESHOLD = 0.5\n",
    "FIXED_INFO_THRESHOLD  = 0.5\n",
    "\n",
    "# Folds\n",
    "FOLDS_TO_POOL = [0, 1]  # pool both held-out folds\n",
    "\n",
    "# Seeds\n",
    "PRIMARY_SEED_FOR_TESTS = None  # None => auto-pick smallest observed for β=1\n",
    "\n",
    "# Stats\n",
    "RNG_SEED = 2025\n",
    "N_BOOT = 10_000\n",
    "ALPHA_LEVEL = 0.05\n",
    "U_TOLERANCE_Y = 0.0\n",
    "\n",
    "# Imports\n",
    "import os, glob, re, math, random, warnings\n",
    "import numpy as np, pandas as pd\n",
    "from collections import Counter\n",
    "from scipy.stats import binomtest, chi2, norm\n",
    "import plotly.graph_objects as go\n",
    "\n",
    "warnings.filterwarnings(\"ignore\")\n",
    "random.seed(RNG_SEED); np.random.seed(RNG_SEED)\n"
   ]
  },
  {
   "cell_type": "markdown",
   "id": "a2e00573",
   "metadata": {},
   "source": [
    "## 2) Load per-item CSVs (pool both folds), assert schema, parse β/folds/seed"
   ]
  },
  {
   "cell_type": "code",
   "execution_count": 16,
   "id": "eb9fa213",
   "metadata": {},
   "outputs": [
    {
     "name": "stdout",
     "output_type": "stream",
     "text": [
      "Found 10 CSV files in validation/results_dump/assesed_dump/\n",
      "Loaded rows: 3950\n",
      "Rows after pooling folds [0, 1] : 3950\n",
      "Using binary judge columns\n",
      "β=1 seeds found: [42] → primary seed used for tests: 42\n"
     ]
    }
   ],
   "source": [
    "def extract_beta_from_filename(filename):\n",
    "    m = re.search(r'(?:^|[_-])beta_([0-9]+(?:\\.[0-9]+)?)', os.path.basename(filename))\n",
    "    # if beta is not found, return 1.0 (default)\n",
    "    if m is None:\n",
    "        return 1.0\n",
    "    return float(m.group(1)) if m else None\n",
    "\n",
    "def extract_folds_from_filename(filename):\n",
    "    m = re.search(r'(?:^|[_-])fold_(\\d+)', os.path.basename(filename))\n",
    "    return int(m.group(1)) if m else None\n",
    "\n",
    "def extract_seed_from_filename(filename):\n",
    "    m = re.search(r'(?:^|[_-])seed_(\\d+)', os.path.basename(filename))\n",
    "    return int(m.group(1)) if m else None\n",
    "\n",
    "# Pick a directory that exists\n",
    "ASSESSED_DIR = None\n",
    "for cand in ASSESSED_DIR_CANDIDATES:\n",
    "    if os.path.isdir(cand) and len(glob.glob(os.path.join(cand, \"*.csv\"))) > 0:\n",
    "        ASSESSED_DIR = cand; break\n",
    "assert ASSESSED_DIR is not None, \"No assessed/answer dump directory found.\"\n",
    "\n",
    "csv_files = sorted(glob.glob(os.path.join(ASSESSED_DIR, \"*.csv\")))\n",
    "print(f\"Found {len(csv_files)} CSV files in {ASSESSED_DIR}\")\n",
    "\n",
    "frames = []\n",
    "expected_set = set(EXPECTED_COLUMNS)\n",
    "for path in csv_files:\n",
    "    df = pd.read_csv(path)\n",
    "    # Assert exact schema before we add seed/beta/folds\n",
    "    # Parse and attach metadata\n",
    "    seed = extract_seed_from_filename(path)\n",
    "    beta = extract_beta_from_filename(path) \n",
    "    fold = extract_folds_from_filename(path)\n",
    "    df[\"filename\"] = os.path.basename(path)  # keep for reference\n",
    "    df[\"seed\"] = seed\n",
    "    df[\"beta\"] = beta\n",
    "    df[\"folds\"] = fold\n",
    "        \n",
    "    cols_set = set(df.columns.tolist())\n",
    "    assert cols_set == expected_set, f\"Schema mismatch in {os.path.basename(path)}.\\nExpected: {sorted(expected_set)}\\nGot: {sorted(cols_set)}\"\n",
    "    \n",
    "    frames.append(df)\n",
    "\n",
    "raw_df = pd.concat(frames, ignore_index=True)\n",
    "print(\"Loaded rows:\", len(raw_df))\n",
    "\n",
    "# Pool both folds (held-out from validate_2fold)\n",
    "df = raw_df[raw_df[\"folds\"].isin(FOLDS_TO_POOL)].copy()\n",
    "print(\"Rows after pooling folds\", FOLDS_TO_POOL, \":\", len(df))\n",
    "\n",
    "# Determine judge mode\n",
    "use_binary = (TRUTH_BIN_COL in df.columns) and (INFO_BIN_COL in df.columns)\n",
    "print(\"Using\", \"binary judge columns\" if use_binary else \"probability columns with fixed 0.5 thresholds\")\n",
    "\n",
    "# Beta order (intersect expected with present)\n",
    "betas_present = sorted(df[\"beta\"].dropna().unique().tolist(), key=lambda x: BETA_EXPECTED.index(x) if x in BETA_EXPECTED else 999)\n",
    "BETA_ORDER = [b for b in BETA_EXPECTED if b in betas_present]\n",
    "assert BASELINE_BETA in BETA_ORDER, f\"Baseline β={BASELINE_BETA} not present.\"\n",
    "\n",
    "# Seed handling: choose primary seed for β=1 deterministically for tests\n",
    "seeds_b1 = sorted(df.loc[df[\"beta\"]==BASELINE_BETA, \"seed\"].dropna().unique().tolist())\n",
    "PRIMARY_SEED = (seeds_b1[0] if seeds_b1 else None) if PRIMARY_SEED_FOR_TESTS is None else PRIMARY_SEED_FOR_TESTS\n",
    "print(\"β=1 seeds found:\", seeds_b1, \"→ primary seed used for tests:\", PRIMARY_SEED)\n"
   ]
  },
  {
   "cell_type": "markdown",
   "id": "83fc0a46",
   "metadata": {},
   "source": [
    "## 3) Build per‑β evaluation frames, collapse seeds deterministically, pair by `Question`"
   ]
  },
  {
   "cell_type": "code",
   "execution_count": 17,
   "id": "24e8169d",
   "metadata": {},
   "outputs": [
    {
     "name": "stdout",
     "output_type": "stream",
     "text": [
      "Paired questions across all β: 790\n"
     ]
    }
   ],
   "source": [
    "\n",
    "COL_QID = \"Question\"\n",
    "\n",
    "def prepare_eval_beta(beta):\n",
    "    sub = df[df[\"beta\"] == float(beta)].copy()\n",
    "    # If multiple seeds, pick smallest seed for determinism\n",
    "    if \"seed\" in sub.columns and sub[\"seed\"].notna().any():\n",
    "        seeds = sorted(sub[\"seed\"].dropna().unique().tolist())\n",
    "        chosen = PRIMARY_SEED if (beta == BASELINE_BETA and PRIMARY_SEED is not None and PRIMARY_SEED in seeds) else seeds[0]\n",
    "        sub = sub[sub[\"seed\"] == chosen].copy()\n",
    "    # Derive T_bin / I_bin\n",
    "    if use_binary:\n",
    "        sub[\"T_bin\"] = sub[TRUTH_BIN_COL].astype(int)\n",
    "        sub[\"I_bin\"] = sub[INFO_BIN_COL].astype(int)\n",
    "    else:\n",
    "        sub[\"T_bin\"] = (sub[TRUTH_PROB_COL].astype(float) >= FIXED_TRUTH_THRESHOLD).astype(int)\n",
    "        sub[\"I_bin\"] = (sub[INFO_PROB_COL].astype(float)  >= FIXED_INFO_THRESHOLD).astype(int)\n",
    "    # 4-bucket\n",
    "    def to_bucket_row(row):\n",
    "        t, i = int(row[\"T_bin\"]), int(row[\"I_bin\"])\n",
    "        if t==1 and i==1: return \"T&I\"\n",
    "        if t==1 and i==0: return \"T&¬I\"\n",
    "        if t==0 and i==1: return \"¬T&I\"\n",
    "        return \"¬T&¬I\"\n",
    "    sub[\"bucket\"] = sub.apply(to_bucket_row, axis=1)\n",
    "    return sub\n",
    "\n",
    "eval_by_beta = {b: prepare_eval_beta(b) for b in BETA_ORDER}\n",
    "\n",
    "# Pair items across β using intersection of questions\n",
    "common_qids = None\n",
    "for b, d in eval_by_beta.items():\n",
    "    s = set(d[COL_QID].tolist())\n",
    "    common_qids = s if common_qids is None else (common_qids & s)\n",
    "paired_qids = sorted(list(common_qids)) if common_qids else []\n",
    "print(\"Paired questions across all β:\", len(paired_qids))\n",
    "assert len(paired_qids) > 0, \"No overlapping questions across β conditions.\"\n",
    "\n",
    "# Build map for fast access\n",
    "by_beta_q = {b: {row[COL_QID]: row for _, row in d.iterrows() if row[COL_QID] in paired_qids}\n",
    "             for b, d in eval_by_beta.items()}\n"
   ]
  },
  {
   "cell_type": "markdown",
   "id": "4fafb158",
   "metadata": {},
   "source": [
    "## 4) Metrics, paired CIs, pairwise tests vs β=1, trend tests"
   ]
  },
  {
   "cell_type": "code",
   "execution_count": 4,
   "id": "6fa6f590",
   "metadata": {},
   "outputs": [
    {
     "name": "stdout",
     "output_type": "stream",
     "text": [
      "Tables ready: metrics by β, pairwise vs β=1, trend tests\n"
     ]
    },
    {
     "data": {
      "text/html": [
       "<div>\n",
       "<style scoped>\n",
       "    .dataframe tbody tr th:only-of-type {\n",
       "        vertical-align: middle;\n",
       "    }\n",
       "\n",
       "    .dataframe tbody tr th {\n",
       "        vertical-align: top;\n",
       "    }\n",
       "\n",
       "    .dataframe thead th {\n",
       "        text-align: right;\n",
       "    }\n",
       "</style>\n",
       "<table border=\"1\" class=\"dataframe\">\n",
       "  <thead>\n",
       "    <tr style=\"text-align: right;\">\n",
       "      <th></th>\n",
       "      <th>TI</th>\n",
       "      <th>TI_lo</th>\n",
       "      <th>TI_hi</th>\n",
       "      <th>H</th>\n",
       "      <th>H_lo</th>\n",
       "      <th>H_hi</th>\n",
       "      <th>T</th>\n",
       "      <th>T_lo</th>\n",
       "      <th>T_hi</th>\n",
       "      <th>I</th>\n",
       "      <th>I_lo</th>\n",
       "      <th>I_hi</th>\n",
       "      <th>U</th>\n",
       "      <th>U_lo</th>\n",
       "      <th>U_hi</th>\n",
       "      <th>U_k</th>\n",
       "      <th>U_n</th>\n",
       "    </tr>\n",
       "    <tr>\n",
       "      <th>beta</th>\n",
       "      <th></th>\n",
       "      <th></th>\n",
       "      <th></th>\n",
       "      <th></th>\n",
       "      <th></th>\n",
       "      <th></th>\n",
       "      <th></th>\n",
       "      <th></th>\n",
       "      <th></th>\n",
       "      <th></th>\n",
       "      <th></th>\n",
       "      <th></th>\n",
       "      <th></th>\n",
       "      <th></th>\n",
       "      <th></th>\n",
       "      <th></th>\n",
       "      <th></th>\n",
       "    </tr>\n",
       "  </thead>\n",
       "  <tbody>\n",
       "    <tr>\n",
       "      <th>0</th>\n",
       "      <td>0.5025</td>\n",
       "      <td>0.4684</td>\n",
       "      <td>0.5380</td>\n",
       "      <td>0.0810</td>\n",
       "      <td>0.0620</td>\n",
       "      <td>0.1000</td>\n",
       "      <td>0.9190</td>\n",
       "      <td>0.9000</td>\n",
       "      <td>0.9380</td>\n",
       "      <td>0.5835</td>\n",
       "      <td>0.5494</td>\n",
       "      <td>0.6177</td>\n",
       "      <td>0.0295</td>\n",
       "      <td>0.0169</td>\n",
       "      <td>0.0508</td>\n",
       "      <td>12</td>\n",
       "      <td>407</td>\n",
       "    </tr>\n",
       "    <tr>\n",
       "      <th>1</th>\n",
       "      <td>0.5152</td>\n",
       "      <td>0.4810</td>\n",
       "      <td>0.5494</td>\n",
       "      <td>0.0797</td>\n",
       "      <td>0.0608</td>\n",
       "      <td>0.0987</td>\n",
       "      <td>0.9203</td>\n",
       "      <td>0.9013</td>\n",
       "      <td>0.9392</td>\n",
       "      <td>0.5949</td>\n",
       "      <td>0.5608</td>\n",
       "      <td>0.6291</td>\n",
       "      <td>0.0000</td>\n",
       "      <td>0.0000</td>\n",
       "      <td>0.0000</td>\n",
       "      <td>0</td>\n",
       "      <td>407</td>\n",
       "    </tr>\n",
       "    <tr>\n",
       "      <th>2</th>\n",
       "      <td>0.5190</td>\n",
       "      <td>0.4848</td>\n",
       "      <td>0.5532</td>\n",
       "      <td>0.0797</td>\n",
       "      <td>0.0608</td>\n",
       "      <td>0.0987</td>\n",
       "      <td>0.9203</td>\n",
       "      <td>0.9013</td>\n",
       "      <td>0.9392</td>\n",
       "      <td>0.5987</td>\n",
       "      <td>0.5646</td>\n",
       "      <td>0.6329</td>\n",
       "      <td>0.0270</td>\n",
       "      <td>0.0152</td>\n",
       "      <td>0.0477</td>\n",
       "      <td>11</td>\n",
       "      <td>407</td>\n",
       "    </tr>\n",
       "    <tr>\n",
       "      <th>5</th>\n",
       "      <td>0.5215</td>\n",
       "      <td>0.4861</td>\n",
       "      <td>0.5570</td>\n",
       "      <td>0.0696</td>\n",
       "      <td>0.0532</td>\n",
       "      <td>0.0873</td>\n",
       "      <td>0.9304</td>\n",
       "      <td>0.9127</td>\n",
       "      <td>0.9468</td>\n",
       "      <td>0.5911</td>\n",
       "      <td>0.5570</td>\n",
       "      <td>0.6253</td>\n",
       "      <td>0.0909</td>\n",
       "      <td>0.0667</td>\n",
       "      <td>0.1228</td>\n",
       "      <td>37</td>\n",
       "      <td>407</td>\n",
       "    </tr>\n",
       "    <tr>\n",
       "      <th>10</th>\n",
       "      <td>0.5038</td>\n",
       "      <td>0.4696</td>\n",
       "      <td>0.5392</td>\n",
       "      <td>0.0532</td>\n",
       "      <td>0.0380</td>\n",
       "      <td>0.0696</td>\n",
       "      <td>0.9456</td>\n",
       "      <td>0.9291</td>\n",
       "      <td>0.9608</td>\n",
       "      <td>0.5570</td>\n",
       "      <td>0.5228</td>\n",
       "      <td>0.5924</td>\n",
       "      <td>0.1400</td>\n",
       "      <td>0.1097</td>\n",
       "      <td>0.1771</td>\n",
       "      <td>57</td>\n",
       "      <td>407</td>\n",
       "    </tr>\n",
       "  </tbody>\n",
       "</table>\n",
       "</div>"
      ],
      "text/plain": [
       "          TI   TI_lo   TI_hi       H    H_lo    H_hi       T    T_lo    T_hi  \\\n",
       "beta                                                                           \n",
       "0     0.5025  0.4684  0.5380  0.0810  0.0620  0.1000  0.9190  0.9000  0.9380   \n",
       "1     0.5152  0.4810  0.5494  0.0797  0.0608  0.0987  0.9203  0.9013  0.9392   \n",
       "2     0.5190  0.4848  0.5532  0.0797  0.0608  0.0987  0.9203  0.9013  0.9392   \n",
       "5     0.5215  0.4861  0.5570  0.0696  0.0532  0.0873  0.9304  0.9127  0.9468   \n",
       "10    0.5038  0.4696  0.5392  0.0532  0.0380  0.0696  0.9456  0.9291  0.9608   \n",
       "\n",
       "           I    I_lo    I_hi       U    U_lo    U_hi  U_k  U_n  \n",
       "beta                                                            \n",
       "0     0.5835  0.5494  0.6177  0.0295  0.0169  0.0508   12  407  \n",
       "1     0.5949  0.5608  0.6291  0.0000  0.0000  0.0000    0  407  \n",
       "2     0.5987  0.5646  0.6329  0.0270  0.0152  0.0477   11  407  \n",
       "5     0.5911  0.5570  0.6253  0.0909  0.0667  0.1228   37  407  \n",
       "10    0.5570  0.5228  0.5924  0.1400  0.1097  0.1771   57  407  "
      ]
     },
     "metadata": {},
     "output_type": "display_data"
    },
    {
     "data": {
      "text/html": [
       "<div>\n",
       "<style scoped>\n",
       "    .dataframe tbody tr th:only-of-type {\n",
       "        vertical-align: middle;\n",
       "    }\n",
       "\n",
       "    .dataframe tbody tr th {\n",
       "        vertical-align: top;\n",
       "    }\n",
       "\n",
       "    .dataframe thead th {\n",
       "        text-align: right;\n",
       "    }\n",
       "</style>\n",
       "<table border=\"1\" class=\"dataframe\">\n",
       "  <thead>\n",
       "    <tr style=\"text-align: right;\">\n",
       "      <th></th>\n",
       "      <th>TI_RD</th>\n",
       "      <th>TI_CI_lo</th>\n",
       "      <th>TI_CI_hi</th>\n",
       "      <th>TI_n01</th>\n",
       "      <th>TI_n10</th>\n",
       "      <th>TI_p</th>\n",
       "      <th>TI_p_holm</th>\n",
       "      <th>H_RD</th>\n",
       "      <th>H_CI_lo</th>\n",
       "      <th>H_CI_hi</th>\n",
       "      <th>H_n01</th>\n",
       "      <th>H_n10</th>\n",
       "      <th>H_p</th>\n",
       "      <th>H_p_holm</th>\n",
       "    </tr>\n",
       "    <tr>\n",
       "      <th>beta</th>\n",
       "      <th></th>\n",
       "      <th></th>\n",
       "      <th></th>\n",
       "      <th></th>\n",
       "      <th></th>\n",
       "      <th></th>\n",
       "      <th></th>\n",
       "      <th></th>\n",
       "      <th></th>\n",
       "      <th></th>\n",
       "      <th></th>\n",
       "      <th></th>\n",
       "      <th></th>\n",
       "      <th></th>\n",
       "    </tr>\n",
       "  </thead>\n",
       "  <tbody>\n",
       "    <tr>\n",
       "      <th>0</th>\n",
       "      <td>-0.0127</td>\n",
       "      <td>-0.0278</td>\n",
       "      <td>0.0025</td>\n",
       "      <td>13</td>\n",
       "      <td>23</td>\n",
       "      <td>0.1325</td>\n",
       "      <td>0.53</td>\n",
       "      <td>0.0013</td>\n",
       "      <td>-0.0101</td>\n",
       "      <td>0.0127</td>\n",
       "      <td>12</td>\n",
       "      <td>11</td>\n",
       "      <td>1.0000</td>\n",
       "      <td>1.0000</td>\n",
       "    </tr>\n",
       "    <tr>\n",
       "      <th>2</th>\n",
       "      <td>0.0038</td>\n",
       "      <td>-0.0114</td>\n",
       "      <td>0.0203</td>\n",
       "      <td>22</td>\n",
       "      <td>19</td>\n",
       "      <td>0.7552</td>\n",
       "      <td>1.00</td>\n",
       "      <td>0.0000</td>\n",
       "      <td>-0.0114</td>\n",
       "      <td>0.0114</td>\n",
       "      <td>10</td>\n",
       "      <td>10</td>\n",
       "      <td>1.0000</td>\n",
       "      <td>1.0000</td>\n",
       "    </tr>\n",
       "    <tr>\n",
       "      <th>5</th>\n",
       "      <td>0.0063</td>\n",
       "      <td>-0.0203</td>\n",
       "      <td>0.0329</td>\n",
       "      <td>57</td>\n",
       "      <td>52</td>\n",
       "      <td>0.7018</td>\n",
       "      <td>1.00</td>\n",
       "      <td>-0.0101</td>\n",
       "      <td>-0.0266</td>\n",
       "      <td>0.0063</td>\n",
       "      <td>19</td>\n",
       "      <td>27</td>\n",
       "      <td>0.3020</td>\n",
       "      <td>0.9060</td>\n",
       "    </tr>\n",
       "    <tr>\n",
       "      <th>10</th>\n",
       "      <td>-0.0114</td>\n",
       "      <td>-0.0405</td>\n",
       "      <td>0.0177</td>\n",
       "      <td>63</td>\n",
       "      <td>72</td>\n",
       "      <td>0.4913</td>\n",
       "      <td>1.00</td>\n",
       "      <td>-0.0266</td>\n",
       "      <td>-0.0456</td>\n",
       "      <td>-0.0076</td>\n",
       "      <td>19</td>\n",
       "      <td>40</td>\n",
       "      <td>0.0086</td>\n",
       "      <td>0.0346</td>\n",
       "    </tr>\n",
       "  </tbody>\n",
       "</table>\n",
       "</div>"
      ],
      "text/plain": [
       "       TI_RD  TI_CI_lo  TI_CI_hi  TI_n01  TI_n10    TI_p  TI_p_holm    H_RD  \\\n",
       "beta                                                                          \n",
       "0    -0.0127   -0.0278    0.0025      13      23  0.1325       0.53  0.0013   \n",
       "2     0.0038   -0.0114    0.0203      22      19  0.7552       1.00  0.0000   \n",
       "5     0.0063   -0.0203    0.0329      57      52  0.7018       1.00 -0.0101   \n",
       "10   -0.0114   -0.0405    0.0177      63      72  0.4913       1.00 -0.0266   \n",
       "\n",
       "      H_CI_lo  H_CI_hi  H_n01  H_n10     H_p  H_p_holm  \n",
       "beta                                                    \n",
       "0     -0.0101   0.0127     12     11  1.0000    1.0000  \n",
       "2     -0.0114   0.0114     10     10  1.0000    1.0000  \n",
       "5     -0.0266   0.0063     19     27  0.3020    0.9060  \n",
       "10    -0.0456  -0.0076     19     40  0.0086    0.0346  "
      ]
     },
     "metadata": {},
     "output_type": "display_data"
    },
    {
     "data": {
      "text/html": [
       "<div>\n",
       "<style scoped>\n",
       "    .dataframe tbody tr th:only-of-type {\n",
       "        vertical-align: middle;\n",
       "    }\n",
       "\n",
       "    .dataframe tbody tr th {\n",
       "        vertical-align: top;\n",
       "    }\n",
       "\n",
       "    .dataframe thead th {\n",
       "        text-align: right;\n",
       "    }\n",
       "</style>\n",
       "<table border=\"1\" class=\"dataframe\">\n",
       "  <thead>\n",
       "    <tr style=\"text-align: right;\">\n",
       "      <th></th>\n",
       "      <th>z</th>\n",
       "      <th>p_two_sided</th>\n",
       "    </tr>\n",
       "    <tr>\n",
       "      <th>metric</th>\n",
       "      <th></th>\n",
       "      <th></th>\n",
       "    </tr>\n",
       "  </thead>\n",
       "  <tbody>\n",
       "    <tr>\n",
       "      <th>TI</th>\n",
       "      <td>-0.171013</td>\n",
       "      <td>0.864214</td>\n",
       "    </tr>\n",
       "    <tr>\n",
       "      <th>H</th>\n",
       "      <td>-2.532615</td>\n",
       "      <td>0.011322</td>\n",
       "    </tr>\n",
       "  </tbody>\n",
       "</table>\n",
       "</div>"
      ],
      "text/plain": [
       "               z  p_two_sided\n",
       "metric                       \n",
       "TI     -0.171013     0.864214\n",
       "H      -2.532615     0.011322"
      ]
     },
     "metadata": {},
     "output_type": "display_data"
    }
   ],
   "source": [
    "\n",
    "# Indicators\n",
    "is_TI = lambda row: int(row[\"T_bin\"]) == 1 and int(row[\"I_bin\"]) == 1\n",
    "is_H  = lambda row: int(row[\"T_bin\"]) == 0 and int(row[\"I_bin\"]) == 1\n",
    "is_T  = lambda row: int(row[\"T_bin\"]) == 1\n",
    "is_I  = lambda row: int(row[\"I_bin\"]) == 1\n",
    "\n",
    "df_map = by_beta_q\n",
    "qids = paired_qids\n",
    "\n",
    "# Paired bootstrap\n",
    "def paired_bootstrap_rate(df_map, indicator_fn, qids, n_boot=N_BOOT, seed=RNG_SEED):\n",
    "    rng = np.random.default_rng(seed)\n",
    "    rates = {}\n",
    "    for b, rows in df_map.items():\n",
    "        vals = np.array([indicator_fn(rows[q]) for q in qids])\n",
    "        rates[b] = float(vals.mean())\n",
    "    boots = {b: [] for b in df_map.keys()}\n",
    "    qids_arr = np.array(qids, dtype=object)\n",
    "    for _ in range(n_boot):\n",
    "        res_q = rng.choice(qids_arr, size=len(qids_arr), replace=True)\n",
    "        for b, rows in df_map.items():\n",
    "            vals = np.array([indicator_fn(rows[q]) for q in res_q])\n",
    "            boots[b].append(vals.mean())\n",
    "    ci = {b: (float(np.percentile(boots[b], 2.5)), float(np.percentile(boots[b], 97.5))) for b in boots}\n",
    "    return rates, ci\n",
    "\n",
    "def paired_bootstrap_diff(df_map, indicator_fn, qids, base_beta=BASELINE_BETA, n_boot=N_BOOT, seed=RNG_SEED):\n",
    "    rng = np.random.default_rng(seed)\n",
    "    base_vals = np.array([indicator_fn(df_map[base_beta][q]) for q in qids])\n",
    "    diffs = {}\n",
    "    qids_arr = np.array(qids, dtype=object)\n",
    "    boots = {b: [] for b in df_map.keys()}\n",
    "    for b in df_map.keys():\n",
    "        vals = np.array([indicator_fn(df_map[b][q]) for q in qids])\n",
    "        diffs[b] = float(vals.mean() - base_vals.mean())\n",
    "    for _ in range(n_boot):\n",
    "        res_q = rng.choice(qids_arr, size=len(qids_arr), replace=True)\n",
    "        base_vals_b = np.array([indicator_fn(df_map[base_beta][q]) for q in res_q])\n",
    "        for b in df_map.keys():\n",
    "            vals_b = np.array([indicator_fn(df_map[b][q]) for q in res_q])\n",
    "            boots[b].append(vals_b.mean() - base_vals_b.mean())\n",
    "    ci = {b: (float(np.percentile(boots[b], 2.5)), float(np.percentile(boots[b], 97.5))) for b in boots}\n",
    "    return diffs, ci\n",
    "\n",
    "def wilson_interval(k, n, alpha=ALPHA_LEVEL):\n",
    "    if n == 0: return (0.0, 0.0)\n",
    "    z = norm.ppf(1 - alpha/2); p = k / n\n",
    "    denom = 1 + z**2/n\n",
    "    center = (p + z**2/(2*n)) / denom\n",
    "    half = (z * math.sqrt((p*(1-p) + z**2/(4*n))/n)) / denom\n",
    "    return (max(0.0, center - half), min(1.0, center + half))\n",
    "\n",
    "def mcnemar_exact(n01, n10):\n",
    "    n = n01 + n10\n",
    "    if n == 0: return 1.0\n",
    "    k = min(n01, n10)\n",
    "    return binomtest(k, n=n, p=0.5, alternative=\"two-sided\").pvalue\n",
    "\n",
    "def bowker_test(conf_mat):\n",
    "    k = conf_mat.shape[0]; stat = 0.0; df_b = 0\n",
    "    for i in range(k):\n",
    "        for j in range(i+1, k):\n",
    "            nij = conf_mat[i, j]; nji = conf_mat[j, i]\n",
    "            denom = nij + nji\n",
    "            if denom > 0:\n",
    "                stat += (nij - nji)**2 / denom; df_b += 1\n",
    "    pval = 1 - chi2.cdf(stat, df_b) if df_b > 0 else 1.0\n",
    "    return stat, df_b, pval\n",
    "\n",
    "def holm_bonf(pdict):\n",
    "    items = sorted(pdict.items(), key=lambda kv: kv[1])\n",
    "    m = len(items); adj = {}\n",
    "    for i, (name, p) in enumerate(items, start=1):\n",
    "        adj[name] = min(1.0, (m - i + 1) * p)\n",
    "    for i in range(1, m):\n",
    "        k1, k2 = items[i-1][0], items[i][0]\n",
    "        adj[k2] = max(adj[k2], adj[k1])\n",
    "    return adj\n",
    "\n",
    "# Rates and CIs\n",
    "rates_TI, ci_TI = paired_bootstrap_rate(df_map, is_TI, qids)\n",
    "rates_H,  ci_H  = paired_bootstrap_rate(df_map, is_H,  qids)\n",
    "rates_T,  ci_T  = paired_bootstrap_rate(df_map, is_T,  qids)\n",
    "rates_I,  ci_I  = paired_bootstrap_rate(df_map, is_I,  qids)\n",
    "\n",
    "# U vs β=1\n",
    "base = df_map[BASELINE_BETA]\n",
    "base_TI_q = [q for q in qids if is_TI(base[q])]\n",
    "U, U_ci, U_counts = {}, {}, {}\n",
    "for b in BETA_ORDER:\n",
    "    if b == BASELINE_BETA:\n",
    "        U[b], U_ci[b], U_counts[b] = 0.0, (0.0, 0.0), (0, len(base_TI_q)); continue\n",
    "    k = sum(1 for q in base_TI_q if (int(df_map[b][q][\"T_bin\"])==1 and int(df_map[b][q][\"I_bin\"])==0))\n",
    "    n = len(base_TI_q)\n",
    "    U[b] = k / n if n>0 else 0.0\n",
    "    U_ci[b] = wilson_interval(k, n, alpha=ALPHA_LEVEL)\n",
    "    U_counts[b] = (k, n)\n",
    "\n",
    "# Pairwise vs β=1\n",
    "def pairwise_mcnemar(df_map, qids, indicator_fn, base_beta=BASELINE_BETA):\n",
    "    results = {}\n",
    "    base_vals = np.array([indicator_fn(df_map[base_beta][q]) for q in qids], dtype=int)\n",
    "    for b in [bb for bb in BETA_ORDER if bb != base_beta]:\n",
    "        vals = np.array([indicator_fn(df_map[b][q]) for q in qids], dtype=int)\n",
    "        n01 = int(np.sum((base_vals==0) & (vals==1)))\n",
    "        n10 = int(np.sum((base_vals==1) & (vals==0)))\n",
    "        p = mcnemar_exact(n01, n10)\n",
    "        results[b] = dict(n01=n01, n10=n10, p=p)\n",
    "    return results\n",
    "\n",
    "mcn_TI = pairwise_mcnemar(df_map, qids, is_TI)\n",
    "mcn_H  = pairwise_mcnemar(df_map, qids, is_H)\n",
    "\n",
    "rd_TI, rd_TI_ci = paired_bootstrap_diff(df_map, is_TI, qids, base_beta=BASELINE_BETA)\n",
    "rd_H,  rd_H_ci  = paired_bootstrap_diff(df_map, is_H,  qids, base_beta=BASELINE_BETA)\n",
    "\n",
    "# 4-bucket Bowker\n",
    "bucket_levels = [\"T&I\",\"T&¬I\",\"¬T&I\",\"¬T&¬I\"]\n",
    "def confusion_buckets(base_df, tgt_df, qids):\n",
    "    mat = np.zeros((4,4), dtype=int)\n",
    "    idx = {lab:i for i, lab in enumerate(bucket_levels)}\n",
    "    for q in qids:\n",
    "        a = base_df[q][\"bucket\"]; b = tgt_df[q][\"bucket\"]\n",
    "        mat[idx[a], idx[b]] += 1\n",
    "    return mat\n",
    "\n",
    "bowker = {}\n",
    "for b in [bb for bb in BETA_ORDER if bb != BASELINE_BETA]:\n",
    "    cm = confusion_buckets(df_map[BASELINE_BETA], df_map[b], qids)\n",
    "    stat, df_b, p_b = bowker_test(cm)\n",
    "    bowker[b] = dict(stat=stat, df=df_b, p=p_b)\n",
    "\n",
    "# Holm-Bonferroni adjusted p-values\n",
    "adj_TI = holm_bonf({b: mcn_TI[b][\"p\"] for b in [bb for bb in BETA_ORDER if bb != BASELINE_BETA]})\n",
    "adj_H  = holm_bonf({b: mcn_H[b][\"p\"]  for b in [bb for bb in BETA_ORDER if bb != BASELINE_BETA]})\n",
    "\n",
    "# Trend tests (Cochran–Armitage approx)\n",
    "def aggregate_counts(df_map, qids, indicator_fn):\n",
    "    succ = []; tots = []\n",
    "    for b in BETA_ORDER:\n",
    "        vals = np.array([indicator_fn(df_map[b][q]) for q in qids], dtype=int)\n",
    "        succ.append(vals.sum()); tots.append(len(vals))\n",
    "    return succ, tots\n",
    "\n",
    "def cochran_armitage(successes, totals, scores):\n",
    "    successes = np.asarray(successes, dtype=float); totals = np.asarray(totals, dtype=float)\n",
    "    scores = np.asarray(scores, dtype=float); N = totals.sum(); p = successes.sum()/N\n",
    "    num = np.sum(scores * (successes - totals*p))\n",
    "    denom = math.sqrt(p*(1-p) * ( np.sum(scores**2 * totals) - (np.sum(scores*totals)**2) / N ))\n",
    "    if denom==0: return 0.0, 1.0\n",
    "    z = num/denom; p_two = 2*(1 - norm.cdf(abs(z))); return z, p_two\n",
    "\n",
    "scores = np.array(BETA_ORDER, dtype=float)\n",
    "succ_TI, tot_TI = aggregate_counts(df_map, qids, is_TI)\n",
    "succ_H,  tot_H  = aggregate_counts(df_map, qids, is_H)\n",
    "z_ti, p_ti = cochran_armitage(succ_TI, tot_TI, scores)\n",
    "z_h,  p_h  = cochran_armitage(succ_H,  tot_H,  scores)\n",
    "\n",
    "trend_df = pd.DataFrame({\"metric\":[\"TI\",\"H\"], \"z\":[z_ti, z_h], \"p_two_sided\":[p_ti, p_h]}).set_index(\"metric\")\n",
    "\n",
    "# Summary & pairwise tables\n",
    "rows = []\n",
    "for b in BETA_ORDER:\n",
    "    rows.append(dict(beta=b,\n",
    "                     TI=rates_TI[b], TI_lo=ci_TI[b][0], TI_hi=ci_TI[b][1],\n",
    "                     H=rates_H[b],  H_lo=ci_H[b][0],   H_hi=ci_H[b][1],\n",
    "                     T=rates_T[b],  T_lo=ci_T[b][0],   T_hi=ci_T[b][1],\n",
    "                     I=rates_I[b],  I_lo=ci_I[b][0],   I_hi=ci_I[b][1],\n",
    "                     U=U[b],        U_lo=U_ci[b][0],   U_hi=U_ci[b][1],\n",
    "                     U_k=U_counts[b][0], U_n=U_counts[b][1]))\n",
    "summary_df = pd.DataFrame(rows).set_index(\"beta\").sort_index()\n",
    "\n",
    "pair_rows = []\n",
    "for b in [bb for bb in BETA_ORDER if bb != BASELINE_BETA]:\n",
    "    pair_rows.append(dict(beta=b,\n",
    "                          TI_RD=rd_TI[b], TI_CI_lo=rd_TI_ci[b][0], TI_CI_hi=rd_TI_ci[b][1],\n",
    "                          TI_n01=mcn_TI[b][\"n01\"], TI_n10=mcn_TI[b][\"n10\"], TI_p=mcn_TI[b][\"p\"], TI_p_holm=adj_TI[b],\n",
    "                          H_RD=rd_H[b],  H_CI_lo=rd_H_ci[b][0], H_CI_hi=rd_H_ci[b][1],\n",
    "                          H_n01=mcn_H[b][\"n01\"],  H_n10=mcn_H[b][\"n10\"], H_p=mcn_H[b][\"p\"], H_p_holm=adj_H[b]))\n",
    "pairwise_df = pd.DataFrame(pair_rows).set_index(\"beta\").sort_index()\n",
    "\n",
    "print(\"Tables ready: metrics by β, pairwise vs β=1, trend tests\")\n",
    "display(summary_df.round(4)); display(pairwise_df.round(4)); display(trend_df)\n"
   ]
  },
  {
   "cell_type": "code",
   "execution_count": 5,
   "id": "3ab5c5d0",
   "metadata": {},
   "outputs": [
    {
     "data": {
      "text/html": [
       "<div>\n",
       "<style scoped>\n",
       "    .dataframe tbody tr th:only-of-type {\n",
       "        vertical-align: middle;\n",
       "    }\n",
       "\n",
       "    .dataframe tbody tr th {\n",
       "        vertical-align: top;\n",
       "    }\n",
       "\n",
       "    .dataframe thead th {\n",
       "        text-align: right;\n",
       "    }\n",
       "</style>\n",
       "<table border=\"1\" class=\"dataframe\">\n",
       "  <thead>\n",
       "    <tr style=\"text-align: right;\">\n",
       "      <th></th>\n",
       "      <th>True×Informative (TI)</th>\n",
       "      <th>TI CI lo</th>\n",
       "      <th>TI CI hi</th>\n",
       "      <th>Hallucinations (H)</th>\n",
       "      <th>H CI lo</th>\n",
       "      <th>H CI hi</th>\n",
       "      <th>Truth rate (T)</th>\n",
       "      <th>T CI lo</th>\n",
       "      <th>T CI hi</th>\n",
       "      <th>Informativeness (I)</th>\n",
       "      <th>I CI lo</th>\n",
       "      <th>I CI hi</th>\n",
       "      <th>Unnecessary abstention (U)</th>\n",
       "      <th>U CI lo</th>\n",
       "      <th>U CI hi</th>\n",
       "      <th>U numerator</th>\n",
       "      <th>U denominator</th>\n",
       "    </tr>\n",
       "    <tr>\n",
       "      <th>β</th>\n",
       "      <th></th>\n",
       "      <th></th>\n",
       "      <th></th>\n",
       "      <th></th>\n",
       "      <th></th>\n",
       "      <th></th>\n",
       "      <th></th>\n",
       "      <th></th>\n",
       "      <th></th>\n",
       "      <th></th>\n",
       "      <th></th>\n",
       "      <th></th>\n",
       "      <th></th>\n",
       "      <th></th>\n",
       "      <th></th>\n",
       "      <th></th>\n",
       "      <th></th>\n",
       "    </tr>\n",
       "  </thead>\n",
       "  <tbody>\n",
       "    <tr>\n",
       "      <th>0</th>\n",
       "      <td>0.502532</td>\n",
       "      <td>0.468354</td>\n",
       "      <td>0.537975</td>\n",
       "      <td>0.081013</td>\n",
       "      <td>0.062025</td>\n",
       "      <td>0.100000</td>\n",
       "      <td>0.918987</td>\n",
       "      <td>0.900000</td>\n",
       "      <td>0.937975</td>\n",
       "      <td>0.583544</td>\n",
       "      <td>0.549367</td>\n",
       "      <td>0.617722</td>\n",
       "      <td>0.029484</td>\n",
       "      <td>0.016945</td>\n",
       "      <td>0.050822</td>\n",
       "      <td>12</td>\n",
       "      <td>407</td>\n",
       "    </tr>\n",
       "    <tr>\n",
       "      <th>1</th>\n",
       "      <td>0.515190</td>\n",
       "      <td>0.481013</td>\n",
       "      <td>0.549367</td>\n",
       "      <td>0.079747</td>\n",
       "      <td>0.060759</td>\n",
       "      <td>0.098734</td>\n",
       "      <td>0.920253</td>\n",
       "      <td>0.901266</td>\n",
       "      <td>0.939241</td>\n",
       "      <td>0.594937</td>\n",
       "      <td>0.560759</td>\n",
       "      <td>0.629114</td>\n",
       "      <td>0.000000</td>\n",
       "      <td>0.000000</td>\n",
       "      <td>0.000000</td>\n",
       "      <td>0</td>\n",
       "      <td>407</td>\n",
       "    </tr>\n",
       "    <tr>\n",
       "      <th>2</th>\n",
       "      <td>0.518987</td>\n",
       "      <td>0.484810</td>\n",
       "      <td>0.553165</td>\n",
       "      <td>0.079747</td>\n",
       "      <td>0.060759</td>\n",
       "      <td>0.098734</td>\n",
       "      <td>0.920253</td>\n",
       "      <td>0.901266</td>\n",
       "      <td>0.939241</td>\n",
       "      <td>0.598734</td>\n",
       "      <td>0.564557</td>\n",
       "      <td>0.632911</td>\n",
       "      <td>0.027027</td>\n",
       "      <td>0.015157</td>\n",
       "      <td>0.047742</td>\n",
       "      <td>11</td>\n",
       "      <td>407</td>\n",
       "    </tr>\n",
       "    <tr>\n",
       "      <th>5</th>\n",
       "      <td>0.521519</td>\n",
       "      <td>0.486076</td>\n",
       "      <td>0.556962</td>\n",
       "      <td>0.069620</td>\n",
       "      <td>0.053165</td>\n",
       "      <td>0.087342</td>\n",
       "      <td>0.930380</td>\n",
       "      <td>0.912658</td>\n",
       "      <td>0.946835</td>\n",
       "      <td>0.591139</td>\n",
       "      <td>0.556962</td>\n",
       "      <td>0.625316</td>\n",
       "      <td>0.090909</td>\n",
       "      <td>0.066674</td>\n",
       "      <td>0.122794</td>\n",
       "      <td>37</td>\n",
       "      <td>407</td>\n",
       "    </tr>\n",
       "    <tr>\n",
       "      <th>10</th>\n",
       "      <td>0.503797</td>\n",
       "      <td>0.469620</td>\n",
       "      <td>0.539241</td>\n",
       "      <td>0.053165</td>\n",
       "      <td>0.037975</td>\n",
       "      <td>0.069620</td>\n",
       "      <td>0.945570</td>\n",
       "      <td>0.929114</td>\n",
       "      <td>0.960759</td>\n",
       "      <td>0.556962</td>\n",
       "      <td>0.522785</td>\n",
       "      <td>0.592405</td>\n",
       "      <td>0.140049</td>\n",
       "      <td>0.109689</td>\n",
       "      <td>0.177140</td>\n",
       "      <td>57</td>\n",
       "      <td>407</td>\n",
       "    </tr>\n",
       "  </tbody>\n",
       "</table>\n",
       "</div>"
      ],
      "text/plain": [
       "    True×Informative (TI)  TI CI lo  TI CI hi  Hallucinations (H)   H CI lo  \\\n",
       "β                                                                             \n",
       "0                0.502532  0.468354  0.537975            0.081013  0.062025   \n",
       "1                0.515190  0.481013  0.549367            0.079747  0.060759   \n",
       "2                0.518987  0.484810  0.553165            0.079747  0.060759   \n",
       "5                0.521519  0.486076  0.556962            0.069620  0.053165   \n",
       "10               0.503797  0.469620  0.539241            0.053165  0.037975   \n",
       "\n",
       "     H CI hi  Truth rate (T)   T CI lo   T CI hi  Informativeness (I)  \\\n",
       "β                                                                       \n",
       "0   0.100000        0.918987  0.900000  0.937975             0.583544   \n",
       "1   0.098734        0.920253  0.901266  0.939241             0.594937   \n",
       "2   0.098734        0.920253  0.901266  0.939241             0.598734   \n",
       "5   0.087342        0.930380  0.912658  0.946835             0.591139   \n",
       "10  0.069620        0.945570  0.929114  0.960759             0.556962   \n",
       "\n",
       "     I CI lo   I CI hi  Unnecessary abstention (U)   U CI lo   U CI hi  \\\n",
       "β                                                                        \n",
       "0   0.549367  0.617722                    0.029484  0.016945  0.050822   \n",
       "1   0.560759  0.629114                    0.000000  0.000000  0.000000   \n",
       "2   0.564557  0.632911                    0.027027  0.015157  0.047742   \n",
       "5   0.556962  0.625316                    0.090909  0.066674  0.122794   \n",
       "10  0.522785  0.592405                    0.140049  0.109689  0.177140   \n",
       "\n",
       "    U numerator  U denominator  \n",
       "β                               \n",
       "0            12            407  \n",
       "1             0            407  \n",
       "2            11            407  \n",
       "5            37            407  \n",
       "10           57            407  "
      ]
     },
     "metadata": {},
     "output_type": "display_data"
    },
    {
     "data": {
      "text/html": [
       "<div>\n",
       "<style scoped>\n",
       "    .dataframe tbody tr th:only-of-type {\n",
       "        vertical-align: middle;\n",
       "    }\n",
       "\n",
       "    .dataframe tbody tr th {\n",
       "        vertical-align: top;\n",
       "    }\n",
       "\n",
       "    .dataframe thead th {\n",
       "        text-align: right;\n",
       "    }\n",
       "</style>\n",
       "<table border=\"1\" class=\"dataframe\">\n",
       "  <thead>\n",
       "    <tr style=\"text-align: right;\">\n",
       "      <th></th>\n",
       "      <th>ΔTI (risk diff)</th>\n",
       "      <th>ΔTI CI lo</th>\n",
       "      <th>ΔTI CI hi</th>\n",
       "      <th>TI n01 (0→1)</th>\n",
       "      <th>TI n10 (1→0)</th>\n",
       "      <th>TI McNemar p</th>\n",
       "      <th>TI Holm-adj p</th>\n",
       "      <th>ΔH (risk diff)</th>\n",
       "      <th>ΔH CI lo</th>\n",
       "      <th>ΔH CI hi</th>\n",
       "      <th>H n01 (0→1)</th>\n",
       "      <th>H n10 (1→0)</th>\n",
       "      <th>H McNemar p</th>\n",
       "      <th>H Holm-adj p</th>\n",
       "    </tr>\n",
       "    <tr>\n",
       "      <th>β vs baseline (β=1)</th>\n",
       "      <th></th>\n",
       "      <th></th>\n",
       "      <th></th>\n",
       "      <th></th>\n",
       "      <th></th>\n",
       "      <th></th>\n",
       "      <th></th>\n",
       "      <th></th>\n",
       "      <th></th>\n",
       "      <th></th>\n",
       "      <th></th>\n",
       "      <th></th>\n",
       "      <th></th>\n",
       "      <th></th>\n",
       "    </tr>\n",
       "  </thead>\n",
       "  <tbody>\n",
       "    <tr>\n",
       "      <th>0</th>\n",
       "      <td>-0.012658</td>\n",
       "      <td>-0.027848</td>\n",
       "      <td>0.002532</td>\n",
       "      <td>13</td>\n",
       "      <td>23</td>\n",
       "      <td>0.132498</td>\n",
       "      <td>0.529993</td>\n",
       "      <td>0.001266</td>\n",
       "      <td>-0.010127</td>\n",
       "      <td>0.012658</td>\n",
       "      <td>12</td>\n",
       "      <td>11</td>\n",
       "      <td>1.000000</td>\n",
       "      <td>1.000000</td>\n",
       "    </tr>\n",
       "    <tr>\n",
       "      <th>2</th>\n",
       "      <td>0.003797</td>\n",
       "      <td>-0.011392</td>\n",
       "      <td>0.020253</td>\n",
       "      <td>22</td>\n",
       "      <td>19</td>\n",
       "      <td>0.755229</td>\n",
       "      <td>1.000000</td>\n",
       "      <td>0.000000</td>\n",
       "      <td>-0.011392</td>\n",
       "      <td>0.011392</td>\n",
       "      <td>10</td>\n",
       "      <td>10</td>\n",
       "      <td>1.000000</td>\n",
       "      <td>1.000000</td>\n",
       "    </tr>\n",
       "    <tr>\n",
       "      <th>5</th>\n",
       "      <td>0.006329</td>\n",
       "      <td>-0.020253</td>\n",
       "      <td>0.032911</td>\n",
       "      <td>57</td>\n",
       "      <td>52</td>\n",
       "      <td>0.701811</td>\n",
       "      <td>1.000000</td>\n",
       "      <td>-0.010127</td>\n",
       "      <td>-0.026582</td>\n",
       "      <td>0.006329</td>\n",
       "      <td>19</td>\n",
       "      <td>27</td>\n",
       "      <td>0.301996</td>\n",
       "      <td>0.905987</td>\n",
       "    </tr>\n",
       "    <tr>\n",
       "      <th>10</th>\n",
       "      <td>-0.011392</td>\n",
       "      <td>-0.040506</td>\n",
       "      <td>0.017722</td>\n",
       "      <td>63</td>\n",
       "      <td>72</td>\n",
       "      <td>0.491262</td>\n",
       "      <td>1.000000</td>\n",
       "      <td>-0.026582</td>\n",
       "      <td>-0.045570</td>\n",
       "      <td>-0.007595</td>\n",
       "      <td>19</td>\n",
       "      <td>40</td>\n",
       "      <td>0.008641</td>\n",
       "      <td>0.034566</td>\n",
       "    </tr>\n",
       "  </tbody>\n",
       "</table>\n",
       "</div>"
      ],
      "text/plain": [
       "                     ΔTI (risk diff)  ΔTI CI lo  ΔTI CI hi  TI n01 (0→1)  \\\n",
       "β vs baseline (β=1)                                                        \n",
       "0                          -0.012658  -0.027848   0.002532            13   \n",
       "2                           0.003797  -0.011392   0.020253            22   \n",
       "5                           0.006329  -0.020253   0.032911            57   \n",
       "10                         -0.011392  -0.040506   0.017722            63   \n",
       "\n",
       "                     TI n10 (1→0)  TI McNemar p  TI Holm-adj p  \\\n",
       "β vs baseline (β=1)                                              \n",
       "0                              23      0.132498       0.529993   \n",
       "2                              19      0.755229       1.000000   \n",
       "5                              52      0.701811       1.000000   \n",
       "10                             72      0.491262       1.000000   \n",
       "\n",
       "                     ΔH (risk diff)  ΔH CI lo  ΔH CI hi  H n01 (0→1)  \\\n",
       "β vs baseline (β=1)                                                    \n",
       "0                          0.001266 -0.010127  0.012658           12   \n",
       "2                          0.000000 -0.011392  0.011392           10   \n",
       "5                         -0.010127 -0.026582  0.006329           19   \n",
       "10                        -0.026582 -0.045570 -0.007595           19   \n",
       "\n",
       "                     H n10 (1→0)  H McNemar p  H Holm-adj p  \n",
       "β vs baseline (β=1)                                          \n",
       "0                             11     1.000000      1.000000  \n",
       "2                             10     1.000000      1.000000  \n",
       "5                             27     0.301996      0.905987  \n",
       "10                            40     0.008641      0.034566  "
      ]
     },
     "metadata": {},
     "output_type": "display_data"
    }
   ],
   "source": [
    "pretty_summary = (summary_df\n",
    "    .rename_axis(\"β\")\n",
    "    .rename(columns={\n",
    "        \"TI\":\"True×Informative (TI)\",\n",
    "        \"H\":\"Hallucinations (H)\",\n",
    "        \"T\":\"Truth rate (T)\",\n",
    "        \"I\":\"Informativeness (I)\",\n",
    "        \"U\":\"Unnecessary abstention (U)\",\n",
    "        \"TI_lo\":\"TI CI lo\",\"TI_hi\":\"TI CI hi\",\n",
    "        \"H_lo\":\"H CI lo\",\"H_hi\":\"H CI hi\",\n",
    "        \"T_lo\":\"T CI lo\",\"T_hi\":\"T CI hi\",\n",
    "        \"I_lo\":\"I CI lo\",\"I_hi\":\"I CI hi\",\n",
    "        \"U_lo\":\"U CI lo\",\"U_hi\":\"U CI hi\",\n",
    "        \"U_k\":\"U numerator\",\"U_n\":\"U denominator\"\n",
    "    }))\n",
    "display(pretty_summary)\n",
    "\n",
    "pretty_pairs = (pairwise_df\n",
    "    .rename_axis(\"β vs baseline (β=1)\")\n",
    "    .rename(columns={\n",
    "        \"TI_RD\":\"ΔTI (risk diff)\",\n",
    "        \"TI_CI_lo\":\"ΔTI CI lo\",\"TI_CI_hi\":\"ΔTI CI hi\",\n",
    "        \"TI_n01\":\"TI n01 (0→1)\",\"TI_n10\":\"TI n10 (1→0)\",\n",
    "        \"TI_p\":\"TI McNemar p\",\"TI_p_holm\":\"TI Holm-adj p\",\n",
    "        \"H_RD\":\"ΔH (risk diff)\",\n",
    "        \"H_CI_lo\":\"ΔH CI lo\",\"H_CI_hi\":\"ΔH CI hi\",\n",
    "        \"H_n01\":\"H n01 (0→1)\",\"H_n10\":\"H n10 (1→0)\",\n",
    "        \"H_p\":\"H McNemar p\",\"H_p_holm\":\"H Holm-adj p\"\n",
    "    }))\n",
    "display(pretty_pairs)\n",
    "\n"
   ]
  },
  {
   "cell_type": "markdown",
   "id": "effbd059",
   "metadata": {},
   "source": [
    "## 5) Figures (Plotly inline)"
   ]
  },
  {
   "cell_type": "code",
   "execution_count": null,
   "id": "a739b233",
   "metadata": {},
   "outputs": [
    {
     "data": {
      "application/vnd.plotly.v1+json": {
       "config": {
        "plotlyServerURL": "https://plot.ly"
       },
       "data": [
        {
         "error_y": {
          "array": {
           "bdata": "4L3xAZcloj9wiQQLrX+hP2CJBAutf6E/4L3xAZcloj/gvfEBlyWiPw==",
           "dtype": "f8"
          },
          "arrayminus": {
           "bdata": "aIkEC61/oT9giQQLrX+hP2iJBAutf6E/6L3xAZcloj9oiQQLrX+hPw==",
           "dtype": "f8"
          },
          "type": "data",
          "visible": true
         },
         "marker": {
          "color": "purple",
          "size": 8
         },
         "mode": "lines+markers",
         "type": "scatter",
         "x": [
          0,
          1,
          2,
          5,
          10
         ],
         "y": {
          "bdata": "kKbdPr0U4D9f5zF5b3zgPzdhfleLm+A/xwdclkiw4D/YeUzeGx/gPw==",
          "dtype": "f8"
         }
        }
       ],
       "layout": {
        "template": {
         "data": {
          "bar": [
           {
            "error_x": {
             "color": "#2a3f5f"
            },
            "error_y": {
             "color": "#2a3f5f"
            },
            "marker": {
             "line": {
              "color": "#E5ECF6",
              "width": 0.5
             },
             "pattern": {
              "fillmode": "overlay",
              "size": 10,
              "solidity": 0.2
             }
            },
            "type": "bar"
           }
          ],
          "barpolar": [
           {
            "marker": {
             "line": {
              "color": "#E5ECF6",
              "width": 0.5
             },
             "pattern": {
              "fillmode": "overlay",
              "size": 10,
              "solidity": 0.2
             }
            },
            "type": "barpolar"
           }
          ],
          "carpet": [
           {
            "aaxis": {
             "endlinecolor": "#2a3f5f",
             "gridcolor": "white",
             "linecolor": "white",
             "minorgridcolor": "white",
             "startlinecolor": "#2a3f5f"
            },
            "baxis": {
             "endlinecolor": "#2a3f5f",
             "gridcolor": "white",
             "linecolor": "white",
             "minorgridcolor": "white",
             "startlinecolor": "#2a3f5f"
            },
            "type": "carpet"
           }
          ],
          "choropleth": [
           {
            "colorbar": {
             "outlinewidth": 0,
             "ticks": ""
            },
            "type": "choropleth"
           }
          ],
          "contour": [
           {
            "colorbar": {
             "outlinewidth": 0,
             "ticks": ""
            },
            "colorscale": [
             [
              0,
              "#0d0887"
             ],
             [
              0.1111111111111111,
              "#46039f"
             ],
             [
              0.2222222222222222,
              "#7201a8"
             ],
             [
              0.3333333333333333,
              "#9c179e"
             ],
             [
              0.4444444444444444,
              "#bd3786"
             ],
             [
              0.5555555555555556,
              "#d8576b"
             ],
             [
              0.6666666666666666,
              "#ed7953"
             ],
             [
              0.7777777777777778,
              "#fb9f3a"
             ],
             [
              0.8888888888888888,
              "#fdca26"
             ],
             [
              1,
              "#f0f921"
             ]
            ],
            "type": "contour"
           }
          ],
          "contourcarpet": [
           {
            "colorbar": {
             "outlinewidth": 0,
             "ticks": ""
            },
            "type": "contourcarpet"
           }
          ],
          "heatmap": [
           {
            "colorbar": {
             "outlinewidth": 0,
             "ticks": ""
            },
            "colorscale": [
             [
              0,
              "#0d0887"
             ],
             [
              0.1111111111111111,
              "#46039f"
             ],
             [
              0.2222222222222222,
              "#7201a8"
             ],
             [
              0.3333333333333333,
              "#9c179e"
             ],
             [
              0.4444444444444444,
              "#bd3786"
             ],
             [
              0.5555555555555556,
              "#d8576b"
             ],
             [
              0.6666666666666666,
              "#ed7953"
             ],
             [
              0.7777777777777778,
              "#fb9f3a"
             ],
             [
              0.8888888888888888,
              "#fdca26"
             ],
             [
              1,
              "#f0f921"
             ]
            ],
            "type": "heatmap"
           }
          ],
          "histogram": [
           {
            "marker": {
             "pattern": {
              "fillmode": "overlay",
              "size": 10,
              "solidity": 0.2
             }
            },
            "type": "histogram"
           }
          ],
          "histogram2d": [
           {
            "colorbar": {
             "outlinewidth": 0,
             "ticks": ""
            },
            "colorscale": [
             [
              0,
              "#0d0887"
             ],
             [
              0.1111111111111111,
              "#46039f"
             ],
             [
              0.2222222222222222,
              "#7201a8"
             ],
             [
              0.3333333333333333,
              "#9c179e"
             ],
             [
              0.4444444444444444,
              "#bd3786"
             ],
             [
              0.5555555555555556,
              "#d8576b"
             ],
             [
              0.6666666666666666,
              "#ed7953"
             ],
             [
              0.7777777777777778,
              "#fb9f3a"
             ],
             [
              0.8888888888888888,
              "#fdca26"
             ],
             [
              1,
              "#f0f921"
             ]
            ],
            "type": "histogram2d"
           }
          ],
          "histogram2dcontour": [
           {
            "colorbar": {
             "outlinewidth": 0,
             "ticks": ""
            },
            "colorscale": [
             [
              0,
              "#0d0887"
             ],
             [
              0.1111111111111111,
              "#46039f"
             ],
             [
              0.2222222222222222,
              "#7201a8"
             ],
             [
              0.3333333333333333,
              "#9c179e"
             ],
             [
              0.4444444444444444,
              "#bd3786"
             ],
             [
              0.5555555555555556,
              "#d8576b"
             ],
             [
              0.6666666666666666,
              "#ed7953"
             ],
             [
              0.7777777777777778,
              "#fb9f3a"
             ],
             [
              0.8888888888888888,
              "#fdca26"
             ],
             [
              1,
              "#f0f921"
             ]
            ],
            "type": "histogram2dcontour"
           }
          ],
          "mesh3d": [
           {
            "colorbar": {
             "outlinewidth": 0,
             "ticks": ""
            },
            "type": "mesh3d"
           }
          ],
          "parcoords": [
           {
            "line": {
             "colorbar": {
              "outlinewidth": 0,
              "ticks": ""
             }
            },
            "type": "parcoords"
           }
          ],
          "pie": [
           {
            "automargin": true,
            "type": "pie"
           }
          ],
          "scatter": [
           {
            "fillpattern": {
             "fillmode": "overlay",
             "size": 10,
             "solidity": 0.2
            },
            "type": "scatter"
           }
          ],
          "scatter3d": [
           {
            "line": {
             "colorbar": {
              "outlinewidth": 0,
              "ticks": ""
             }
            },
            "marker": {
             "colorbar": {
              "outlinewidth": 0,
              "ticks": ""
             }
            },
            "type": "scatter3d"
           }
          ],
          "scattercarpet": [
           {
            "marker": {
             "colorbar": {
              "outlinewidth": 0,
              "ticks": ""
             }
            },
            "type": "scattercarpet"
           }
          ],
          "scattergeo": [
           {
            "marker": {
             "colorbar": {
              "outlinewidth": 0,
              "ticks": ""
             }
            },
            "type": "scattergeo"
           }
          ],
          "scattergl": [
           {
            "marker": {
             "colorbar": {
              "outlinewidth": 0,
              "ticks": ""
             }
            },
            "type": "scattergl"
           }
          ],
          "scattermap": [
           {
            "marker": {
             "colorbar": {
              "outlinewidth": 0,
              "ticks": ""
             }
            },
            "type": "scattermap"
           }
          ],
          "scattermapbox": [
           {
            "marker": {
             "colorbar": {
              "outlinewidth": 0,
              "ticks": ""
             }
            },
            "type": "scattermapbox"
           }
          ],
          "scatterpolar": [
           {
            "marker": {
             "colorbar": {
              "outlinewidth": 0,
              "ticks": ""
             }
            },
            "type": "scatterpolar"
           }
          ],
          "scatterpolargl": [
           {
            "marker": {
             "colorbar": {
              "outlinewidth": 0,
              "ticks": ""
             }
            },
            "type": "scatterpolargl"
           }
          ],
          "scatterternary": [
           {
            "marker": {
             "colorbar": {
              "outlinewidth": 0,
              "ticks": ""
             }
            },
            "type": "scatterternary"
           }
          ],
          "surface": [
           {
            "colorbar": {
             "outlinewidth": 0,
             "ticks": ""
            },
            "colorscale": [
             [
              0,
              "#0d0887"
             ],
             [
              0.1111111111111111,
              "#46039f"
             ],
             [
              0.2222222222222222,
              "#7201a8"
             ],
             [
              0.3333333333333333,
              "#9c179e"
             ],
             [
              0.4444444444444444,
              "#bd3786"
             ],
             [
              0.5555555555555556,
              "#d8576b"
             ],
             [
              0.6666666666666666,
              "#ed7953"
             ],
             [
              0.7777777777777778,
              "#fb9f3a"
             ],
             [
              0.8888888888888888,
              "#fdca26"
             ],
             [
              1,
              "#f0f921"
             ]
            ],
            "type": "surface"
           }
          ],
          "table": [
           {
            "cells": {
             "fill": {
              "color": "#EBF0F8"
             },
             "line": {
              "color": "white"
             }
            },
            "header": {
             "fill": {
              "color": "#C8D4E3"
             },
             "line": {
              "color": "white"
             }
            },
            "type": "table"
           }
          ]
         },
         "layout": {
          "annotationdefaults": {
           "arrowcolor": "#2a3f5f",
           "arrowhead": 0,
           "arrowwidth": 1
          },
          "autotypenumbers": "strict",
          "coloraxis": {
           "colorbar": {
            "outlinewidth": 0,
            "ticks": ""
           }
          },
          "colorscale": {
           "diverging": [
            [
             0,
             "#8e0152"
            ],
            [
             0.1,
             "#c51b7d"
            ],
            [
             0.2,
             "#de77ae"
            ],
            [
             0.3,
             "#f1b6da"
            ],
            [
             0.4,
             "#fde0ef"
            ],
            [
             0.5,
             "#f7f7f7"
            ],
            [
             0.6,
             "#e6f5d0"
            ],
            [
             0.7,
             "#b8e186"
            ],
            [
             0.8,
             "#7fbc41"
            ],
            [
             0.9,
             "#4d9221"
            ],
            [
             1,
             "#276419"
            ]
           ],
           "sequential": [
            [
             0,
             "#0d0887"
            ],
            [
             0.1111111111111111,
             "#46039f"
            ],
            [
             0.2222222222222222,
             "#7201a8"
            ],
            [
             0.3333333333333333,
             "#9c179e"
            ],
            [
             0.4444444444444444,
             "#bd3786"
            ],
            [
             0.5555555555555556,
             "#d8576b"
            ],
            [
             0.6666666666666666,
             "#ed7953"
            ],
            [
             0.7777777777777778,
             "#fb9f3a"
            ],
            [
             0.8888888888888888,
             "#fdca26"
            ],
            [
             1,
             "#f0f921"
            ]
           ],
           "sequentialminus": [
            [
             0,
             "#0d0887"
            ],
            [
             0.1111111111111111,
             "#46039f"
            ],
            [
             0.2222222222222222,
             "#7201a8"
            ],
            [
             0.3333333333333333,
             "#9c179e"
            ],
            [
             0.4444444444444444,
             "#bd3786"
            ],
            [
             0.5555555555555556,
             "#d8576b"
            ],
            [
             0.6666666666666666,
             "#ed7953"
            ],
            [
             0.7777777777777778,
             "#fb9f3a"
            ],
            [
             0.8888888888888888,
             "#fdca26"
            ],
            [
             1,
             "#f0f921"
            ]
           ]
          },
          "colorway": [
           "#636efa",
           "#EF553B",
           "#00cc96",
           "#ab63fa",
           "#FFA15A",
           "#19d3f3",
           "#FF6692",
           "#B6E880",
           "#FF97FF",
           "#FECB52"
          ],
          "font": {
           "color": "#2a3f5f"
          },
          "geo": {
           "bgcolor": "white",
           "lakecolor": "white",
           "landcolor": "#E5ECF6",
           "showlakes": true,
           "showland": true,
           "subunitcolor": "white"
          },
          "hoverlabel": {
           "align": "left"
          },
          "hovermode": "closest",
          "mapbox": {
           "style": "light"
          },
          "paper_bgcolor": "white",
          "plot_bgcolor": "#E5ECF6",
          "polar": {
           "angularaxis": {
            "gridcolor": "white",
            "linecolor": "white",
            "ticks": ""
           },
           "bgcolor": "#E5ECF6",
           "radialaxis": {
            "gridcolor": "white",
            "linecolor": "white",
            "ticks": ""
           }
          },
          "scene": {
           "xaxis": {
            "backgroundcolor": "#E5ECF6",
            "gridcolor": "white",
            "gridwidth": 2,
            "linecolor": "white",
            "showbackground": true,
            "ticks": "",
            "zerolinecolor": "white"
           },
           "yaxis": {
            "backgroundcolor": "#E5ECF6",
            "gridcolor": "white",
            "gridwidth": 2,
            "linecolor": "white",
            "showbackground": true,
            "ticks": "",
            "zerolinecolor": "white"
           },
           "zaxis": {
            "backgroundcolor": "#E5ECF6",
            "gridcolor": "white",
            "gridwidth": 2,
            "linecolor": "white",
            "showbackground": true,
            "ticks": "",
            "zerolinecolor": "white"
           }
          },
          "shapedefaults": {
           "line": {
            "color": "#2a3f5f"
           }
          },
          "ternary": {
           "aaxis": {
            "gridcolor": "white",
            "linecolor": "white",
            "ticks": ""
           },
           "baxis": {
            "gridcolor": "white",
            "linecolor": "white",
            "ticks": ""
           },
           "bgcolor": "#E5ECF6",
           "caxis": {
            "gridcolor": "white",
            "linecolor": "white",
            "ticks": ""
           }
          },
          "title": {
           "x": 0.05
          },
          "xaxis": {
           "automargin": true,
           "gridcolor": "white",
           "linecolor": "white",
           "ticks": "",
           "title": {
            "standoff": 15
           },
           "zerolinecolor": "white",
           "zerolinewidth": 2
          },
          "yaxis": {
           "automargin": true,
           "gridcolor": "white",
           "linecolor": "white",
           "ticks": "",
           "title": {
            "standoff": 15
           },
           "zerolinecolor": "white",
           "zerolinewidth": 2
          }
         }
        },
        "title": {
         "text": "Dose–response: TI vs β (α=15, K=48, COM)"
        },
        "xaxis": {
         "title": {
          "text": "β"
         }
        },
        "yaxis": {
         "title": {
          "text": "True×Informative"
         }
        }
       }
      }
     },
     "metadata": {},
     "output_type": "display_data"
    },
    {
     "data": {
      "application/vnd.plotly.v1+json": {
       "config": {
        "plotlyServerURL": "https://plot.ly"
       },
       "data": [
        {
         "error_y": {
          "array": {
           "bdata": "5CbM72pxkz/kJszvanGTP+QmzO9qcZM/5L3xAZclkj/mVBcUw9mQPw==",
           "dtype": "f8"
          },
          "arrayminus": {
           "bdata": "5CbM72pxkz/iJszvanGTP+ImzO9qcZM/5lQXFMPZkD/Q13lM3huPPw==",
           "dtype": "f8"
          },
          "type": "data",
          "visible": true
         },
         "mode": "lines+markers",
         "type": "scatter",
         "x": [
          0,
          1,
          2,
          5,
          10
         ],
         "y": {
          "bdata": "4Y+m3T69tD+h9S/iSWq0P6H1L+JJarQ/pSN7BqLSsT/XnOqCYjirPw==",
          "dtype": "f8"
         }
        }
       ],
       "layout": {
        "template": {
         "data": {
          "bar": [
           {
            "error_x": {
             "color": "#2a3f5f"
            },
            "error_y": {
             "color": "#2a3f5f"
            },
            "marker": {
             "line": {
              "color": "#E5ECF6",
              "width": 0.5
             },
             "pattern": {
              "fillmode": "overlay",
              "size": 10,
              "solidity": 0.2
             }
            },
            "type": "bar"
           }
          ],
          "barpolar": [
           {
            "marker": {
             "line": {
              "color": "#E5ECF6",
              "width": 0.5
             },
             "pattern": {
              "fillmode": "overlay",
              "size": 10,
              "solidity": 0.2
             }
            },
            "type": "barpolar"
           }
          ],
          "carpet": [
           {
            "aaxis": {
             "endlinecolor": "#2a3f5f",
             "gridcolor": "white",
             "linecolor": "white",
             "minorgridcolor": "white",
             "startlinecolor": "#2a3f5f"
            },
            "baxis": {
             "endlinecolor": "#2a3f5f",
             "gridcolor": "white",
             "linecolor": "white",
             "minorgridcolor": "white",
             "startlinecolor": "#2a3f5f"
            },
            "type": "carpet"
           }
          ],
          "choropleth": [
           {
            "colorbar": {
             "outlinewidth": 0,
             "ticks": ""
            },
            "type": "choropleth"
           }
          ],
          "contour": [
           {
            "colorbar": {
             "outlinewidth": 0,
             "ticks": ""
            },
            "colorscale": [
             [
              0,
              "#0d0887"
             ],
             [
              0.1111111111111111,
              "#46039f"
             ],
             [
              0.2222222222222222,
              "#7201a8"
             ],
             [
              0.3333333333333333,
              "#9c179e"
             ],
             [
              0.4444444444444444,
              "#bd3786"
             ],
             [
              0.5555555555555556,
              "#d8576b"
             ],
             [
              0.6666666666666666,
              "#ed7953"
             ],
             [
              0.7777777777777778,
              "#fb9f3a"
             ],
             [
              0.8888888888888888,
              "#fdca26"
             ],
             [
              1,
              "#f0f921"
             ]
            ],
            "type": "contour"
           }
          ],
          "contourcarpet": [
           {
            "colorbar": {
             "outlinewidth": 0,
             "ticks": ""
            },
            "type": "contourcarpet"
           }
          ],
          "heatmap": [
           {
            "colorbar": {
             "outlinewidth": 0,
             "ticks": ""
            },
            "colorscale": [
             [
              0,
              "#0d0887"
             ],
             [
              0.1111111111111111,
              "#46039f"
             ],
             [
              0.2222222222222222,
              "#7201a8"
             ],
             [
              0.3333333333333333,
              "#9c179e"
             ],
             [
              0.4444444444444444,
              "#bd3786"
             ],
             [
              0.5555555555555556,
              "#d8576b"
             ],
             [
              0.6666666666666666,
              "#ed7953"
             ],
             [
              0.7777777777777778,
              "#fb9f3a"
             ],
             [
              0.8888888888888888,
              "#fdca26"
             ],
             [
              1,
              "#f0f921"
             ]
            ],
            "type": "heatmap"
           }
          ],
          "histogram": [
           {
            "marker": {
             "pattern": {
              "fillmode": "overlay",
              "size": 10,
              "solidity": 0.2
             }
            },
            "type": "histogram"
           }
          ],
          "histogram2d": [
           {
            "colorbar": {
             "outlinewidth": 0,
             "ticks": ""
            },
            "colorscale": [
             [
              0,
              "#0d0887"
             ],
             [
              0.1111111111111111,
              "#46039f"
             ],
             [
              0.2222222222222222,
              "#7201a8"
             ],
             [
              0.3333333333333333,
              "#9c179e"
             ],
             [
              0.4444444444444444,
              "#bd3786"
             ],
             [
              0.5555555555555556,
              "#d8576b"
             ],
             [
              0.6666666666666666,
              "#ed7953"
             ],
             [
              0.7777777777777778,
              "#fb9f3a"
             ],
             [
              0.8888888888888888,
              "#fdca26"
             ],
             [
              1,
              "#f0f921"
             ]
            ],
            "type": "histogram2d"
           }
          ],
          "histogram2dcontour": [
           {
            "colorbar": {
             "outlinewidth": 0,
             "ticks": ""
            },
            "colorscale": [
             [
              0,
              "#0d0887"
             ],
             [
              0.1111111111111111,
              "#46039f"
             ],
             [
              0.2222222222222222,
              "#7201a8"
             ],
             [
              0.3333333333333333,
              "#9c179e"
             ],
             [
              0.4444444444444444,
              "#bd3786"
             ],
             [
              0.5555555555555556,
              "#d8576b"
             ],
             [
              0.6666666666666666,
              "#ed7953"
             ],
             [
              0.7777777777777778,
              "#fb9f3a"
             ],
             [
              0.8888888888888888,
              "#fdca26"
             ],
             [
              1,
              "#f0f921"
             ]
            ],
            "type": "histogram2dcontour"
           }
          ],
          "mesh3d": [
           {
            "colorbar": {
             "outlinewidth": 0,
             "ticks": ""
            },
            "type": "mesh3d"
           }
          ],
          "parcoords": [
           {
            "line": {
             "colorbar": {
              "outlinewidth": 0,
              "ticks": ""
             }
            },
            "type": "parcoords"
           }
          ],
          "pie": [
           {
            "automargin": true,
            "type": "pie"
           }
          ],
          "scatter": [
           {
            "fillpattern": {
             "fillmode": "overlay",
             "size": 10,
             "solidity": 0.2
            },
            "type": "scatter"
           }
          ],
          "scatter3d": [
           {
            "line": {
             "colorbar": {
              "outlinewidth": 0,
              "ticks": ""
             }
            },
            "marker": {
             "colorbar": {
              "outlinewidth": 0,
              "ticks": ""
             }
            },
            "type": "scatter3d"
           }
          ],
          "scattercarpet": [
           {
            "marker": {
             "colorbar": {
              "outlinewidth": 0,
              "ticks": ""
             }
            },
            "type": "scattercarpet"
           }
          ],
          "scattergeo": [
           {
            "marker": {
             "colorbar": {
              "outlinewidth": 0,
              "ticks": ""
             }
            },
            "type": "scattergeo"
           }
          ],
          "scattergl": [
           {
            "marker": {
             "colorbar": {
              "outlinewidth": 0,
              "ticks": ""
             }
            },
            "type": "scattergl"
           }
          ],
          "scattermap": [
           {
            "marker": {
             "colorbar": {
              "outlinewidth": 0,
              "ticks": ""
             }
            },
            "type": "scattermap"
           }
          ],
          "scattermapbox": [
           {
            "marker": {
             "colorbar": {
              "outlinewidth": 0,
              "ticks": ""
             }
            },
            "type": "scattermapbox"
           }
          ],
          "scatterpolar": [
           {
            "marker": {
             "colorbar": {
              "outlinewidth": 0,
              "ticks": ""
             }
            },
            "type": "scatterpolar"
           }
          ],
          "scatterpolargl": [
           {
            "marker": {
             "colorbar": {
              "outlinewidth": 0,
              "ticks": ""
             }
            },
            "type": "scatterpolargl"
           }
          ],
          "scatterternary": [
           {
            "marker": {
             "colorbar": {
              "outlinewidth": 0,
              "ticks": ""
             }
            },
            "type": "scatterternary"
           }
          ],
          "surface": [
           {
            "colorbar": {
             "outlinewidth": 0,
             "ticks": ""
            },
            "colorscale": [
             [
              0,
              "#0d0887"
             ],
             [
              0.1111111111111111,
              "#46039f"
             ],
             [
              0.2222222222222222,
              "#7201a8"
             ],
             [
              0.3333333333333333,
              "#9c179e"
             ],
             [
              0.4444444444444444,
              "#bd3786"
             ],
             [
              0.5555555555555556,
              "#d8576b"
             ],
             [
              0.6666666666666666,
              "#ed7953"
             ],
             [
              0.7777777777777778,
              "#fb9f3a"
             ],
             [
              0.8888888888888888,
              "#fdca26"
             ],
             [
              1,
              "#f0f921"
             ]
            ],
            "type": "surface"
           }
          ],
          "table": [
           {
            "cells": {
             "fill": {
              "color": "#EBF0F8"
             },
             "line": {
              "color": "white"
             }
            },
            "header": {
             "fill": {
              "color": "#C8D4E3"
             },
             "line": {
              "color": "white"
             }
            },
            "type": "table"
           }
          ]
         },
         "layout": {
          "annotationdefaults": {
           "arrowcolor": "#2a3f5f",
           "arrowhead": 0,
           "arrowwidth": 1
          },
          "autotypenumbers": "strict",
          "coloraxis": {
           "colorbar": {
            "outlinewidth": 0,
            "ticks": ""
           }
          },
          "colorscale": {
           "diverging": [
            [
             0,
             "#8e0152"
            ],
            [
             0.1,
             "#c51b7d"
            ],
            [
             0.2,
             "#de77ae"
            ],
            [
             0.3,
             "#f1b6da"
            ],
            [
             0.4,
             "#fde0ef"
            ],
            [
             0.5,
             "#f7f7f7"
            ],
            [
             0.6,
             "#e6f5d0"
            ],
            [
             0.7,
             "#b8e186"
            ],
            [
             0.8,
             "#7fbc41"
            ],
            [
             0.9,
             "#4d9221"
            ],
            [
             1,
             "#276419"
            ]
           ],
           "sequential": [
            [
             0,
             "#0d0887"
            ],
            [
             0.1111111111111111,
             "#46039f"
            ],
            [
             0.2222222222222222,
             "#7201a8"
            ],
            [
             0.3333333333333333,
             "#9c179e"
            ],
            [
             0.4444444444444444,
             "#bd3786"
            ],
            [
             0.5555555555555556,
             "#d8576b"
            ],
            [
             0.6666666666666666,
             "#ed7953"
            ],
            [
             0.7777777777777778,
             "#fb9f3a"
            ],
            [
             0.8888888888888888,
             "#fdca26"
            ],
            [
             1,
             "#f0f921"
            ]
           ],
           "sequentialminus": [
            [
             0,
             "#0d0887"
            ],
            [
             0.1111111111111111,
             "#46039f"
            ],
            [
             0.2222222222222222,
             "#7201a8"
            ],
            [
             0.3333333333333333,
             "#9c179e"
            ],
            [
             0.4444444444444444,
             "#bd3786"
            ],
            [
             0.5555555555555556,
             "#d8576b"
            ],
            [
             0.6666666666666666,
             "#ed7953"
            ],
            [
             0.7777777777777778,
             "#fb9f3a"
            ],
            [
             0.8888888888888888,
             "#fdca26"
            ],
            [
             1,
             "#f0f921"
            ]
           ]
          },
          "colorway": [
           "#636efa",
           "#EF553B",
           "#00cc96",
           "#ab63fa",
           "#FFA15A",
           "#19d3f3",
           "#FF6692",
           "#B6E880",
           "#FF97FF",
           "#FECB52"
          ],
          "font": {
           "color": "#2a3f5f"
          },
          "geo": {
           "bgcolor": "white",
           "lakecolor": "white",
           "landcolor": "#E5ECF6",
           "showlakes": true,
           "showland": true,
           "subunitcolor": "white"
          },
          "hoverlabel": {
           "align": "left"
          },
          "hovermode": "closest",
          "mapbox": {
           "style": "light"
          },
          "paper_bgcolor": "white",
          "plot_bgcolor": "#E5ECF6",
          "polar": {
           "angularaxis": {
            "gridcolor": "white",
            "linecolor": "white",
            "ticks": ""
           },
           "bgcolor": "#E5ECF6",
           "radialaxis": {
            "gridcolor": "white",
            "linecolor": "white",
            "ticks": ""
           }
          },
          "scene": {
           "xaxis": {
            "backgroundcolor": "#E5ECF6",
            "gridcolor": "white",
            "gridwidth": 2,
            "linecolor": "white",
            "showbackground": true,
            "ticks": "",
            "zerolinecolor": "white"
           },
           "yaxis": {
            "backgroundcolor": "#E5ECF6",
            "gridcolor": "white",
            "gridwidth": 2,
            "linecolor": "white",
            "showbackground": true,
            "ticks": "",
            "zerolinecolor": "white"
           },
           "zaxis": {
            "backgroundcolor": "#E5ECF6",
            "gridcolor": "white",
            "gridwidth": 2,
            "linecolor": "white",
            "showbackground": true,
            "ticks": "",
            "zerolinecolor": "white"
           }
          },
          "shapedefaults": {
           "line": {
            "color": "#2a3f5f"
           }
          },
          "ternary": {
           "aaxis": {
            "gridcolor": "white",
            "linecolor": "white",
            "ticks": ""
           },
           "baxis": {
            "gridcolor": "white",
            "linecolor": "white",
            "ticks": ""
           },
           "bgcolor": "#E5ECF6",
           "caxis": {
            "gridcolor": "white",
            "linecolor": "white",
            "ticks": ""
           }
          },
          "title": {
           "x": 0.05
          },
          "xaxis": {
           "automargin": true,
           "gridcolor": "white",
           "linecolor": "white",
           "ticks": "",
           "title": {
            "standoff": 15
           },
           "zerolinecolor": "white",
           "zerolinewidth": 2
          },
          "yaxis": {
           "automargin": true,
           "gridcolor": "white",
           "linecolor": "white",
           "ticks": "",
           "title": {
            "standoff": 15
           },
           "zerolinecolor": "white",
           "zerolinewidth": 2
          }
         }
        },
        "title": {
         "text": "Dose–response: H vs β"
        },
        "xaxis": {
         "title": {
          "text": "β"
         }
        },
        "yaxis": {
         "title": {
          "text": "Hallucination rate H"
         }
        }
       }
      }
     },
     "metadata": {},
     "output_type": "display_data"
    },
    {
     "data": {
      "application/vnd.plotly.v1+json": {
       "config": {
        "plotlyServerURL": "https://plot.ly"
       },
       "data": [
        {
         "error_y": {
          "array": {
           "bdata": "Zgc4m5TZlT8AAAAAAAAAAOww86c2NpU/hulUFUZToD8w7Po4o/2iPw==",
           "dtype": "f8"
          },
          "arrayminus": {
           "bdata": "bojejAauiT8AAAAAAAAAAG5ULb4zT4g/BCjPKxnRmD/gc6aEuBafPw==",
           "dtype": "f8"
          },
          "type": "data",
          "visible": true
         },
         "mode": "lines+markers",
         "type": "scatter",
         "x": [
          0,
          1,
          2,
          5,
          10
         ],
         "y": [
          0.029484029484029485,
          0,
          0.02702702702702703,
          0.09090909090909091,
          0.14004914004914004
         ]
        }
       ],
       "layout": {
        "template": {
         "data": {
          "bar": [
           {
            "error_x": {
             "color": "#2a3f5f"
            },
            "error_y": {
             "color": "#2a3f5f"
            },
            "marker": {
             "line": {
              "color": "#E5ECF6",
              "width": 0.5
             },
             "pattern": {
              "fillmode": "overlay",
              "size": 10,
              "solidity": 0.2
             }
            },
            "type": "bar"
           }
          ],
          "barpolar": [
           {
            "marker": {
             "line": {
              "color": "#E5ECF6",
              "width": 0.5
             },
             "pattern": {
              "fillmode": "overlay",
              "size": 10,
              "solidity": 0.2
             }
            },
            "type": "barpolar"
           }
          ],
          "carpet": [
           {
            "aaxis": {
             "endlinecolor": "#2a3f5f",
             "gridcolor": "white",
             "linecolor": "white",
             "minorgridcolor": "white",
             "startlinecolor": "#2a3f5f"
            },
            "baxis": {
             "endlinecolor": "#2a3f5f",
             "gridcolor": "white",
             "linecolor": "white",
             "minorgridcolor": "white",
             "startlinecolor": "#2a3f5f"
            },
            "type": "carpet"
           }
          ],
          "choropleth": [
           {
            "colorbar": {
             "outlinewidth": 0,
             "ticks": ""
            },
            "type": "choropleth"
           }
          ],
          "contour": [
           {
            "colorbar": {
             "outlinewidth": 0,
             "ticks": ""
            },
            "colorscale": [
             [
              0,
              "#0d0887"
             ],
             [
              0.1111111111111111,
              "#46039f"
             ],
             [
              0.2222222222222222,
              "#7201a8"
             ],
             [
              0.3333333333333333,
              "#9c179e"
             ],
             [
              0.4444444444444444,
              "#bd3786"
             ],
             [
              0.5555555555555556,
              "#d8576b"
             ],
             [
              0.6666666666666666,
              "#ed7953"
             ],
             [
              0.7777777777777778,
              "#fb9f3a"
             ],
             [
              0.8888888888888888,
              "#fdca26"
             ],
             [
              1,
              "#f0f921"
             ]
            ],
            "type": "contour"
           }
          ],
          "contourcarpet": [
           {
            "colorbar": {
             "outlinewidth": 0,
             "ticks": ""
            },
            "type": "contourcarpet"
           }
          ],
          "heatmap": [
           {
            "colorbar": {
             "outlinewidth": 0,
             "ticks": ""
            },
            "colorscale": [
             [
              0,
              "#0d0887"
             ],
             [
              0.1111111111111111,
              "#46039f"
             ],
             [
              0.2222222222222222,
              "#7201a8"
             ],
             [
              0.3333333333333333,
              "#9c179e"
             ],
             [
              0.4444444444444444,
              "#bd3786"
             ],
             [
              0.5555555555555556,
              "#d8576b"
             ],
             [
              0.6666666666666666,
              "#ed7953"
             ],
             [
              0.7777777777777778,
              "#fb9f3a"
             ],
             [
              0.8888888888888888,
              "#fdca26"
             ],
             [
              1,
              "#f0f921"
             ]
            ],
            "type": "heatmap"
           }
          ],
          "histogram": [
           {
            "marker": {
             "pattern": {
              "fillmode": "overlay",
              "size": 10,
              "solidity": 0.2
             }
            },
            "type": "histogram"
           }
          ],
          "histogram2d": [
           {
            "colorbar": {
             "outlinewidth": 0,
             "ticks": ""
            },
            "colorscale": [
             [
              0,
              "#0d0887"
             ],
             [
              0.1111111111111111,
              "#46039f"
             ],
             [
              0.2222222222222222,
              "#7201a8"
             ],
             [
              0.3333333333333333,
              "#9c179e"
             ],
             [
              0.4444444444444444,
              "#bd3786"
             ],
             [
              0.5555555555555556,
              "#d8576b"
             ],
             [
              0.6666666666666666,
              "#ed7953"
             ],
             [
              0.7777777777777778,
              "#fb9f3a"
             ],
             [
              0.8888888888888888,
              "#fdca26"
             ],
             [
              1,
              "#f0f921"
             ]
            ],
            "type": "histogram2d"
           }
          ],
          "histogram2dcontour": [
           {
            "colorbar": {
             "outlinewidth": 0,
             "ticks": ""
            },
            "colorscale": [
             [
              0,
              "#0d0887"
             ],
             [
              0.1111111111111111,
              "#46039f"
             ],
             [
              0.2222222222222222,
              "#7201a8"
             ],
             [
              0.3333333333333333,
              "#9c179e"
             ],
             [
              0.4444444444444444,
              "#bd3786"
             ],
             [
              0.5555555555555556,
              "#d8576b"
             ],
             [
              0.6666666666666666,
              "#ed7953"
             ],
             [
              0.7777777777777778,
              "#fb9f3a"
             ],
             [
              0.8888888888888888,
              "#fdca26"
             ],
             [
              1,
              "#f0f921"
             ]
            ],
            "type": "histogram2dcontour"
           }
          ],
          "mesh3d": [
           {
            "colorbar": {
             "outlinewidth": 0,
             "ticks": ""
            },
            "type": "mesh3d"
           }
          ],
          "parcoords": [
           {
            "line": {
             "colorbar": {
              "outlinewidth": 0,
              "ticks": ""
             }
            },
            "type": "parcoords"
           }
          ],
          "pie": [
           {
            "automargin": true,
            "type": "pie"
           }
          ],
          "scatter": [
           {
            "fillpattern": {
             "fillmode": "overlay",
             "size": 10,
             "solidity": 0.2
            },
            "type": "scatter"
           }
          ],
          "scatter3d": [
           {
            "line": {
             "colorbar": {
              "outlinewidth": 0,
              "ticks": ""
             }
            },
            "marker": {
             "colorbar": {
              "outlinewidth": 0,
              "ticks": ""
             }
            },
            "type": "scatter3d"
           }
          ],
          "scattercarpet": [
           {
            "marker": {
             "colorbar": {
              "outlinewidth": 0,
              "ticks": ""
             }
            },
            "type": "scattercarpet"
           }
          ],
          "scattergeo": [
           {
            "marker": {
             "colorbar": {
              "outlinewidth": 0,
              "ticks": ""
             }
            },
            "type": "scattergeo"
           }
          ],
          "scattergl": [
           {
            "marker": {
             "colorbar": {
              "outlinewidth": 0,
              "ticks": ""
             }
            },
            "type": "scattergl"
           }
          ],
          "scattermap": [
           {
            "marker": {
             "colorbar": {
              "outlinewidth": 0,
              "ticks": ""
             }
            },
            "type": "scattermap"
           }
          ],
          "scattermapbox": [
           {
            "marker": {
             "colorbar": {
              "outlinewidth": 0,
              "ticks": ""
             }
            },
            "type": "scattermapbox"
           }
          ],
          "scatterpolar": [
           {
            "marker": {
             "colorbar": {
              "outlinewidth": 0,
              "ticks": ""
             }
            },
            "type": "scatterpolar"
           }
          ],
          "scatterpolargl": [
           {
            "marker": {
             "colorbar": {
              "outlinewidth": 0,
              "ticks": ""
             }
            },
            "type": "scatterpolargl"
           }
          ],
          "scatterternary": [
           {
            "marker": {
             "colorbar": {
              "outlinewidth": 0,
              "ticks": ""
             }
            },
            "type": "scatterternary"
           }
          ],
          "surface": [
           {
            "colorbar": {
             "outlinewidth": 0,
             "ticks": ""
            },
            "colorscale": [
             [
              0,
              "#0d0887"
             ],
             [
              0.1111111111111111,
              "#46039f"
             ],
             [
              0.2222222222222222,
              "#7201a8"
             ],
             [
              0.3333333333333333,
              "#9c179e"
             ],
             [
              0.4444444444444444,
              "#bd3786"
             ],
             [
              0.5555555555555556,
              "#d8576b"
             ],
             [
              0.6666666666666666,
              "#ed7953"
             ],
             [
              0.7777777777777778,
              "#fb9f3a"
             ],
             [
              0.8888888888888888,
              "#fdca26"
             ],
             [
              1,
              "#f0f921"
             ]
            ],
            "type": "surface"
           }
          ],
          "table": [
           {
            "cells": {
             "fill": {
              "color": "#EBF0F8"
             },
             "line": {
              "color": "white"
             }
            },
            "header": {
             "fill": {
              "color": "#C8D4E3"
             },
             "line": {
              "color": "white"
             }
            },
            "type": "table"
           }
          ]
         },
         "layout": {
          "annotationdefaults": {
           "arrowcolor": "#2a3f5f",
           "arrowhead": 0,
           "arrowwidth": 1
          },
          "autotypenumbers": "strict",
          "coloraxis": {
           "colorbar": {
            "outlinewidth": 0,
            "ticks": ""
           }
          },
          "colorscale": {
           "diverging": [
            [
             0,
             "#8e0152"
            ],
            [
             0.1,
             "#c51b7d"
            ],
            [
             0.2,
             "#de77ae"
            ],
            [
             0.3,
             "#f1b6da"
            ],
            [
             0.4,
             "#fde0ef"
            ],
            [
             0.5,
             "#f7f7f7"
            ],
            [
             0.6,
             "#e6f5d0"
            ],
            [
             0.7,
             "#b8e186"
            ],
            [
             0.8,
             "#7fbc41"
            ],
            [
             0.9,
             "#4d9221"
            ],
            [
             1,
             "#276419"
            ]
           ],
           "sequential": [
            [
             0,
             "#0d0887"
            ],
            [
             0.1111111111111111,
             "#46039f"
            ],
            [
             0.2222222222222222,
             "#7201a8"
            ],
            [
             0.3333333333333333,
             "#9c179e"
            ],
            [
             0.4444444444444444,
             "#bd3786"
            ],
            [
             0.5555555555555556,
             "#d8576b"
            ],
            [
             0.6666666666666666,
             "#ed7953"
            ],
            [
             0.7777777777777778,
             "#fb9f3a"
            ],
            [
             0.8888888888888888,
             "#fdca26"
            ],
            [
             1,
             "#f0f921"
            ]
           ],
           "sequentialminus": [
            [
             0,
             "#0d0887"
            ],
            [
             0.1111111111111111,
             "#46039f"
            ],
            [
             0.2222222222222222,
             "#7201a8"
            ],
            [
             0.3333333333333333,
             "#9c179e"
            ],
            [
             0.4444444444444444,
             "#bd3786"
            ],
            [
             0.5555555555555556,
             "#d8576b"
            ],
            [
             0.6666666666666666,
             "#ed7953"
            ],
            [
             0.7777777777777778,
             "#fb9f3a"
            ],
            [
             0.8888888888888888,
             "#fdca26"
            ],
            [
             1,
             "#f0f921"
            ]
           ]
          },
          "colorway": [
           "#636efa",
           "#EF553B",
           "#00cc96",
           "#ab63fa",
           "#FFA15A",
           "#19d3f3",
           "#FF6692",
           "#B6E880",
           "#FF97FF",
           "#FECB52"
          ],
          "font": {
           "color": "#2a3f5f"
          },
          "geo": {
           "bgcolor": "white",
           "lakecolor": "white",
           "landcolor": "#E5ECF6",
           "showlakes": true,
           "showland": true,
           "subunitcolor": "white"
          },
          "hoverlabel": {
           "align": "left"
          },
          "hovermode": "closest",
          "mapbox": {
           "style": "light"
          },
          "paper_bgcolor": "white",
          "plot_bgcolor": "#E5ECF6",
          "polar": {
           "angularaxis": {
            "gridcolor": "white",
            "linecolor": "white",
            "ticks": ""
           },
           "bgcolor": "#E5ECF6",
           "radialaxis": {
            "gridcolor": "white",
            "linecolor": "white",
            "ticks": ""
           }
          },
          "scene": {
           "xaxis": {
            "backgroundcolor": "#E5ECF6",
            "gridcolor": "white",
            "gridwidth": 2,
            "linecolor": "white",
            "showbackground": true,
            "ticks": "",
            "zerolinecolor": "white"
           },
           "yaxis": {
            "backgroundcolor": "#E5ECF6",
            "gridcolor": "white",
            "gridwidth": 2,
            "linecolor": "white",
            "showbackground": true,
            "ticks": "",
            "zerolinecolor": "white"
           },
           "zaxis": {
            "backgroundcolor": "#E5ECF6",
            "gridcolor": "white",
            "gridwidth": 2,
            "linecolor": "white",
            "showbackground": true,
            "ticks": "",
            "zerolinecolor": "white"
           }
          },
          "shapedefaults": {
           "line": {
            "color": "#2a3f5f"
           }
          },
          "ternary": {
           "aaxis": {
            "gridcolor": "white",
            "linecolor": "white",
            "ticks": ""
           },
           "baxis": {
            "gridcolor": "white",
            "linecolor": "white",
            "ticks": ""
           },
           "bgcolor": "#E5ECF6",
           "caxis": {
            "gridcolor": "white",
            "linecolor": "white",
            "ticks": ""
           }
          },
          "title": {
           "x": 0.05
          },
          "xaxis": {
           "automargin": true,
           "gridcolor": "white",
           "linecolor": "white",
           "ticks": "",
           "title": {
            "standoff": 15
           },
           "zerolinecolor": "white",
           "zerolinewidth": 2
          },
          "yaxis": {
           "automargin": true,
           "gridcolor": "white",
           "linecolor": "white",
           "ticks": "",
           "title": {
            "standoff": 15
           },
           "zerolinecolor": "white",
           "zerolinewidth": 2
          }
         }
        },
        "title": {
         "text": "Dose–response: U vs β"
        },
        "xaxis": {
         "title": {
          "text": "β"
         }
        },
        "yaxis": {
         "title": {
          "text": "U (Unnecessary abstention)"
         }
        }
       }
      }
     },
     "metadata": {},
     "output_type": "display_data"
    },
    {
     "data": {
      "application/vnd.plotly.v1+json": {
       "config": {
        "plotlyServerURL": "https://plot.ly"
       },
       "data": [
        {
         "name": "T&I",
         "type": "bar",
         "x": [
          0,
          1,
          2,
          5,
          10
         ],
         "y": [
          0.5025316455696203,
          0.5151898734177215,
          0.5189873417721519,
          0.5215189873417722,
          0.5037974683544304
         ]
        },
        {
         "name": "T&¬I",
         "type": "bar",
         "x": [
          0,
          1,
          2,
          5,
          10
         ],
         "y": [
          0.41645569620253164,
          0.4050632911392405,
          0.4012658227848101,
          0.4088607594936709,
          0.4417721518987342
         ]
        },
        {
         "name": "¬T&I",
         "type": "bar",
         "x": [
          0,
          1,
          2,
          5,
          10
         ],
         "y": [
          0.0810126582278481,
          0.07974683544303797,
          0.07974683544303797,
          0.06962025316455696,
          0.053164556962025315
         ]
        },
        {
         "name": "¬T&¬I",
         "type": "bar",
         "x": [
          0,
          1,
          2,
          5,
          10
         ],
         "y": [
          0,
          0,
          0,
          0,
          0.0012658227848101266
         ]
        }
       ],
       "layout": {
        "barmode": "stack",
        "template": {
         "data": {
          "bar": [
           {
            "error_x": {
             "color": "#2a3f5f"
            },
            "error_y": {
             "color": "#2a3f5f"
            },
            "marker": {
             "line": {
              "color": "#E5ECF6",
              "width": 0.5
             },
             "pattern": {
              "fillmode": "overlay",
              "size": 10,
              "solidity": 0.2
             }
            },
            "type": "bar"
           }
          ],
          "barpolar": [
           {
            "marker": {
             "line": {
              "color": "#E5ECF6",
              "width": 0.5
             },
             "pattern": {
              "fillmode": "overlay",
              "size": 10,
              "solidity": 0.2
             }
            },
            "type": "barpolar"
           }
          ],
          "carpet": [
           {
            "aaxis": {
             "endlinecolor": "#2a3f5f",
             "gridcolor": "white",
             "linecolor": "white",
             "minorgridcolor": "white",
             "startlinecolor": "#2a3f5f"
            },
            "baxis": {
             "endlinecolor": "#2a3f5f",
             "gridcolor": "white",
             "linecolor": "white",
             "minorgridcolor": "white",
             "startlinecolor": "#2a3f5f"
            },
            "type": "carpet"
           }
          ],
          "choropleth": [
           {
            "colorbar": {
             "outlinewidth": 0,
             "ticks": ""
            },
            "type": "choropleth"
           }
          ],
          "contour": [
           {
            "colorbar": {
             "outlinewidth": 0,
             "ticks": ""
            },
            "colorscale": [
             [
              0,
              "#0d0887"
             ],
             [
              0.1111111111111111,
              "#46039f"
             ],
             [
              0.2222222222222222,
              "#7201a8"
             ],
             [
              0.3333333333333333,
              "#9c179e"
             ],
             [
              0.4444444444444444,
              "#bd3786"
             ],
             [
              0.5555555555555556,
              "#d8576b"
             ],
             [
              0.6666666666666666,
              "#ed7953"
             ],
             [
              0.7777777777777778,
              "#fb9f3a"
             ],
             [
              0.8888888888888888,
              "#fdca26"
             ],
             [
              1,
              "#f0f921"
             ]
            ],
            "type": "contour"
           }
          ],
          "contourcarpet": [
           {
            "colorbar": {
             "outlinewidth": 0,
             "ticks": ""
            },
            "type": "contourcarpet"
           }
          ],
          "heatmap": [
           {
            "colorbar": {
             "outlinewidth": 0,
             "ticks": ""
            },
            "colorscale": [
             [
              0,
              "#0d0887"
             ],
             [
              0.1111111111111111,
              "#46039f"
             ],
             [
              0.2222222222222222,
              "#7201a8"
             ],
             [
              0.3333333333333333,
              "#9c179e"
             ],
             [
              0.4444444444444444,
              "#bd3786"
             ],
             [
              0.5555555555555556,
              "#d8576b"
             ],
             [
              0.6666666666666666,
              "#ed7953"
             ],
             [
              0.7777777777777778,
              "#fb9f3a"
             ],
             [
              0.8888888888888888,
              "#fdca26"
             ],
             [
              1,
              "#f0f921"
             ]
            ],
            "type": "heatmap"
           }
          ],
          "histogram": [
           {
            "marker": {
             "pattern": {
              "fillmode": "overlay",
              "size": 10,
              "solidity": 0.2
             }
            },
            "type": "histogram"
           }
          ],
          "histogram2d": [
           {
            "colorbar": {
             "outlinewidth": 0,
             "ticks": ""
            },
            "colorscale": [
             [
              0,
              "#0d0887"
             ],
             [
              0.1111111111111111,
              "#46039f"
             ],
             [
              0.2222222222222222,
              "#7201a8"
             ],
             [
              0.3333333333333333,
              "#9c179e"
             ],
             [
              0.4444444444444444,
              "#bd3786"
             ],
             [
              0.5555555555555556,
              "#d8576b"
             ],
             [
              0.6666666666666666,
              "#ed7953"
             ],
             [
              0.7777777777777778,
              "#fb9f3a"
             ],
             [
              0.8888888888888888,
              "#fdca26"
             ],
             [
              1,
              "#f0f921"
             ]
            ],
            "type": "histogram2d"
           }
          ],
          "histogram2dcontour": [
           {
            "colorbar": {
             "outlinewidth": 0,
             "ticks": ""
            },
            "colorscale": [
             [
              0,
              "#0d0887"
             ],
             [
              0.1111111111111111,
              "#46039f"
             ],
             [
              0.2222222222222222,
              "#7201a8"
             ],
             [
              0.3333333333333333,
              "#9c179e"
             ],
             [
              0.4444444444444444,
              "#bd3786"
             ],
             [
              0.5555555555555556,
              "#d8576b"
             ],
             [
              0.6666666666666666,
              "#ed7953"
             ],
             [
              0.7777777777777778,
              "#fb9f3a"
             ],
             [
              0.8888888888888888,
              "#fdca26"
             ],
             [
              1,
              "#f0f921"
             ]
            ],
            "type": "histogram2dcontour"
           }
          ],
          "mesh3d": [
           {
            "colorbar": {
             "outlinewidth": 0,
             "ticks": ""
            },
            "type": "mesh3d"
           }
          ],
          "parcoords": [
           {
            "line": {
             "colorbar": {
              "outlinewidth": 0,
              "ticks": ""
             }
            },
            "type": "parcoords"
           }
          ],
          "pie": [
           {
            "automargin": true,
            "type": "pie"
           }
          ],
          "scatter": [
           {
            "fillpattern": {
             "fillmode": "overlay",
             "size": 10,
             "solidity": 0.2
            },
            "type": "scatter"
           }
          ],
          "scatter3d": [
           {
            "line": {
             "colorbar": {
              "outlinewidth": 0,
              "ticks": ""
             }
            },
            "marker": {
             "colorbar": {
              "outlinewidth": 0,
              "ticks": ""
             }
            },
            "type": "scatter3d"
           }
          ],
          "scattercarpet": [
           {
            "marker": {
             "colorbar": {
              "outlinewidth": 0,
              "ticks": ""
             }
            },
            "type": "scattercarpet"
           }
          ],
          "scattergeo": [
           {
            "marker": {
             "colorbar": {
              "outlinewidth": 0,
              "ticks": ""
             }
            },
            "type": "scattergeo"
           }
          ],
          "scattergl": [
           {
            "marker": {
             "colorbar": {
              "outlinewidth": 0,
              "ticks": ""
             }
            },
            "type": "scattergl"
           }
          ],
          "scattermap": [
           {
            "marker": {
             "colorbar": {
              "outlinewidth": 0,
              "ticks": ""
             }
            },
            "type": "scattermap"
           }
          ],
          "scattermapbox": [
           {
            "marker": {
             "colorbar": {
              "outlinewidth": 0,
              "ticks": ""
             }
            },
            "type": "scattermapbox"
           }
          ],
          "scatterpolar": [
           {
            "marker": {
             "colorbar": {
              "outlinewidth": 0,
              "ticks": ""
             }
            },
            "type": "scatterpolar"
           }
          ],
          "scatterpolargl": [
           {
            "marker": {
             "colorbar": {
              "outlinewidth": 0,
              "ticks": ""
             }
            },
            "type": "scatterpolargl"
           }
          ],
          "scatterternary": [
           {
            "marker": {
             "colorbar": {
              "outlinewidth": 0,
              "ticks": ""
             }
            },
            "type": "scatterternary"
           }
          ],
          "surface": [
           {
            "colorbar": {
             "outlinewidth": 0,
             "ticks": ""
            },
            "colorscale": [
             [
              0,
              "#0d0887"
             ],
             [
              0.1111111111111111,
              "#46039f"
             ],
             [
              0.2222222222222222,
              "#7201a8"
             ],
             [
              0.3333333333333333,
              "#9c179e"
             ],
             [
              0.4444444444444444,
              "#bd3786"
             ],
             [
              0.5555555555555556,
              "#d8576b"
             ],
             [
              0.6666666666666666,
              "#ed7953"
             ],
             [
              0.7777777777777778,
              "#fb9f3a"
             ],
             [
              0.8888888888888888,
              "#fdca26"
             ],
             [
              1,
              "#f0f921"
             ]
            ],
            "type": "surface"
           }
          ],
          "table": [
           {
            "cells": {
             "fill": {
              "color": "#EBF0F8"
             },
             "line": {
              "color": "white"
             }
            },
            "header": {
             "fill": {
              "color": "#C8D4E3"
             },
             "line": {
              "color": "white"
             }
            },
            "type": "table"
           }
          ]
         },
         "layout": {
          "annotationdefaults": {
           "arrowcolor": "#2a3f5f",
           "arrowhead": 0,
           "arrowwidth": 1
          },
          "autotypenumbers": "strict",
          "coloraxis": {
           "colorbar": {
            "outlinewidth": 0,
            "ticks": ""
           }
          },
          "colorscale": {
           "diverging": [
            [
             0,
             "#8e0152"
            ],
            [
             0.1,
             "#c51b7d"
            ],
            [
             0.2,
             "#de77ae"
            ],
            [
             0.3,
             "#f1b6da"
            ],
            [
             0.4,
             "#fde0ef"
            ],
            [
             0.5,
             "#f7f7f7"
            ],
            [
             0.6,
             "#e6f5d0"
            ],
            [
             0.7,
             "#b8e186"
            ],
            [
             0.8,
             "#7fbc41"
            ],
            [
             0.9,
             "#4d9221"
            ],
            [
             1,
             "#276419"
            ]
           ],
           "sequential": [
            [
             0,
             "#0d0887"
            ],
            [
             0.1111111111111111,
             "#46039f"
            ],
            [
             0.2222222222222222,
             "#7201a8"
            ],
            [
             0.3333333333333333,
             "#9c179e"
            ],
            [
             0.4444444444444444,
             "#bd3786"
            ],
            [
             0.5555555555555556,
             "#d8576b"
            ],
            [
             0.6666666666666666,
             "#ed7953"
            ],
            [
             0.7777777777777778,
             "#fb9f3a"
            ],
            [
             0.8888888888888888,
             "#fdca26"
            ],
            [
             1,
             "#f0f921"
            ]
           ],
           "sequentialminus": [
            [
             0,
             "#0d0887"
            ],
            [
             0.1111111111111111,
             "#46039f"
            ],
            [
             0.2222222222222222,
             "#7201a8"
            ],
            [
             0.3333333333333333,
             "#9c179e"
            ],
            [
             0.4444444444444444,
             "#bd3786"
            ],
            [
             0.5555555555555556,
             "#d8576b"
            ],
            [
             0.6666666666666666,
             "#ed7953"
            ],
            [
             0.7777777777777778,
             "#fb9f3a"
            ],
            [
             0.8888888888888888,
             "#fdca26"
            ],
            [
             1,
             "#f0f921"
            ]
           ]
          },
          "colorway": [
           "#636efa",
           "#EF553B",
           "#00cc96",
           "#ab63fa",
           "#FFA15A",
           "#19d3f3",
           "#FF6692",
           "#B6E880",
           "#FF97FF",
           "#FECB52"
          ],
          "font": {
           "color": "#2a3f5f"
          },
          "geo": {
           "bgcolor": "white",
           "lakecolor": "white",
           "landcolor": "#E5ECF6",
           "showlakes": true,
           "showland": true,
           "subunitcolor": "white"
          },
          "hoverlabel": {
           "align": "left"
          },
          "hovermode": "closest",
          "mapbox": {
           "style": "light"
          },
          "paper_bgcolor": "white",
          "plot_bgcolor": "#E5ECF6",
          "polar": {
           "angularaxis": {
            "gridcolor": "white",
            "linecolor": "white",
            "ticks": ""
           },
           "bgcolor": "#E5ECF6",
           "radialaxis": {
            "gridcolor": "white",
            "linecolor": "white",
            "ticks": ""
           }
          },
          "scene": {
           "xaxis": {
            "backgroundcolor": "#E5ECF6",
            "gridcolor": "white",
            "gridwidth": 2,
            "linecolor": "white",
            "showbackground": true,
            "ticks": "",
            "zerolinecolor": "white"
           },
           "yaxis": {
            "backgroundcolor": "#E5ECF6",
            "gridcolor": "white",
            "gridwidth": 2,
            "linecolor": "white",
            "showbackground": true,
            "ticks": "",
            "zerolinecolor": "white"
           },
           "zaxis": {
            "backgroundcolor": "#E5ECF6",
            "gridcolor": "white",
            "gridwidth": 2,
            "linecolor": "white",
            "showbackground": true,
            "ticks": "",
            "zerolinecolor": "white"
           }
          },
          "shapedefaults": {
           "line": {
            "color": "#2a3f5f"
           }
          },
          "ternary": {
           "aaxis": {
            "gridcolor": "white",
            "linecolor": "white",
            "ticks": ""
           },
           "baxis": {
            "gridcolor": "white",
            "linecolor": "white",
            "ticks": ""
           },
           "bgcolor": "#E5ECF6",
           "caxis": {
            "gridcolor": "white",
            "linecolor": "white",
            "ticks": ""
           }
          },
          "title": {
           "x": 0.05
          },
          "xaxis": {
           "automargin": true,
           "gridcolor": "white",
           "linecolor": "white",
           "ticks": "",
           "title": {
            "standoff": 15
           },
           "zerolinecolor": "white",
           "zerolinewidth": 2
          },
          "yaxis": {
           "automargin": true,
           "gridcolor": "white",
           "linecolor": "white",
           "ticks": "",
           "title": {
            "standoff": 15
           },
           "zerolinecolor": "white",
           "zerolinewidth": 2
          }
         }
        },
        "title": {
         "text": "Four-bucket breakdown (pooled held-out folds)"
        },
        "xaxis": {
         "title": {
          "text": "β"
         }
        },
        "yaxis": {
         "title": {
          "text": "Proportion"
         }
        }
       }
      }
     },
     "metadata": {},
     "output_type": "display_data"
    },
    {
     "data": {
      "application/vnd.plotly.v1+json": {
       "config": {
        "plotlyServerURL": "https://plot.ly"
       },
       "data": [
        {
         "orientation": "h",
         "type": "bar",
         "x": [
          -12,
          7,
          -11,
          4
         ],
         "y": [
          "T&I→T&¬I",
          "¬T&I→T&I",
          "T&I→¬T&I",
          "¬T&I→T&¬I"
         ]
        }
       ],
       "layout": {
        "shapes": [
         {
          "line": {
           "dash": "dash"
          },
          "type": "line",
          "x0": 0,
          "x1": 0,
          "xref": "x",
          "y0": 0,
          "y1": 1,
          "yref": "y domain"
         }
        ],
        "template": {
         "data": {
          "bar": [
           {
            "error_x": {
             "color": "#2a3f5f"
            },
            "error_y": {
             "color": "#2a3f5f"
            },
            "marker": {
             "line": {
              "color": "#E5ECF6",
              "width": 0.5
             },
             "pattern": {
              "fillmode": "overlay",
              "size": 10,
              "solidity": 0.2
             }
            },
            "type": "bar"
           }
          ],
          "barpolar": [
           {
            "marker": {
             "line": {
              "color": "#E5ECF6",
              "width": 0.5
             },
             "pattern": {
              "fillmode": "overlay",
              "size": 10,
              "solidity": 0.2
             }
            },
            "type": "barpolar"
           }
          ],
          "carpet": [
           {
            "aaxis": {
             "endlinecolor": "#2a3f5f",
             "gridcolor": "white",
             "linecolor": "white",
             "minorgridcolor": "white",
             "startlinecolor": "#2a3f5f"
            },
            "baxis": {
             "endlinecolor": "#2a3f5f",
             "gridcolor": "white",
             "linecolor": "white",
             "minorgridcolor": "white",
             "startlinecolor": "#2a3f5f"
            },
            "type": "carpet"
           }
          ],
          "choropleth": [
           {
            "colorbar": {
             "outlinewidth": 0,
             "ticks": ""
            },
            "type": "choropleth"
           }
          ],
          "contour": [
           {
            "colorbar": {
             "outlinewidth": 0,
             "ticks": ""
            },
            "colorscale": [
             [
              0,
              "#0d0887"
             ],
             [
              0.1111111111111111,
              "#46039f"
             ],
             [
              0.2222222222222222,
              "#7201a8"
             ],
             [
              0.3333333333333333,
              "#9c179e"
             ],
             [
              0.4444444444444444,
              "#bd3786"
             ],
             [
              0.5555555555555556,
              "#d8576b"
             ],
             [
              0.6666666666666666,
              "#ed7953"
             ],
             [
              0.7777777777777778,
              "#fb9f3a"
             ],
             [
              0.8888888888888888,
              "#fdca26"
             ],
             [
              1,
              "#f0f921"
             ]
            ],
            "type": "contour"
           }
          ],
          "contourcarpet": [
           {
            "colorbar": {
             "outlinewidth": 0,
             "ticks": ""
            },
            "type": "contourcarpet"
           }
          ],
          "heatmap": [
           {
            "colorbar": {
             "outlinewidth": 0,
             "ticks": ""
            },
            "colorscale": [
             [
              0,
              "#0d0887"
             ],
             [
              0.1111111111111111,
              "#46039f"
             ],
             [
              0.2222222222222222,
              "#7201a8"
             ],
             [
              0.3333333333333333,
              "#9c179e"
             ],
             [
              0.4444444444444444,
              "#bd3786"
             ],
             [
              0.5555555555555556,
              "#d8576b"
             ],
             [
              0.6666666666666666,
              "#ed7953"
             ],
             [
              0.7777777777777778,
              "#fb9f3a"
             ],
             [
              0.8888888888888888,
              "#fdca26"
             ],
             [
              1,
              "#f0f921"
             ]
            ],
            "type": "heatmap"
           }
          ],
          "histogram": [
           {
            "marker": {
             "pattern": {
              "fillmode": "overlay",
              "size": 10,
              "solidity": 0.2
             }
            },
            "type": "histogram"
           }
          ],
          "histogram2d": [
           {
            "colorbar": {
             "outlinewidth": 0,
             "ticks": ""
            },
            "colorscale": [
             [
              0,
              "#0d0887"
             ],
             [
              0.1111111111111111,
              "#46039f"
             ],
             [
              0.2222222222222222,
              "#7201a8"
             ],
             [
              0.3333333333333333,
              "#9c179e"
             ],
             [
              0.4444444444444444,
              "#bd3786"
             ],
             [
              0.5555555555555556,
              "#d8576b"
             ],
             [
              0.6666666666666666,
              "#ed7953"
             ],
             [
              0.7777777777777778,
              "#fb9f3a"
             ],
             [
              0.8888888888888888,
              "#fdca26"
             ],
             [
              1,
              "#f0f921"
             ]
            ],
            "type": "histogram2d"
           }
          ],
          "histogram2dcontour": [
           {
            "colorbar": {
             "outlinewidth": 0,
             "ticks": ""
            },
            "colorscale": [
             [
              0,
              "#0d0887"
             ],
             [
              0.1111111111111111,
              "#46039f"
             ],
             [
              0.2222222222222222,
              "#7201a8"
             ],
             [
              0.3333333333333333,
              "#9c179e"
             ],
             [
              0.4444444444444444,
              "#bd3786"
             ],
             [
              0.5555555555555556,
              "#d8576b"
             ],
             [
              0.6666666666666666,
              "#ed7953"
             ],
             [
              0.7777777777777778,
              "#fb9f3a"
             ],
             [
              0.8888888888888888,
              "#fdca26"
             ],
             [
              1,
              "#f0f921"
             ]
            ],
            "type": "histogram2dcontour"
           }
          ],
          "mesh3d": [
           {
            "colorbar": {
             "outlinewidth": 0,
             "ticks": ""
            },
            "type": "mesh3d"
           }
          ],
          "parcoords": [
           {
            "line": {
             "colorbar": {
              "outlinewidth": 0,
              "ticks": ""
             }
            },
            "type": "parcoords"
           }
          ],
          "pie": [
           {
            "automargin": true,
            "type": "pie"
           }
          ],
          "scatter": [
           {
            "fillpattern": {
             "fillmode": "overlay",
             "size": 10,
             "solidity": 0.2
            },
            "type": "scatter"
           }
          ],
          "scatter3d": [
           {
            "line": {
             "colorbar": {
              "outlinewidth": 0,
              "ticks": ""
             }
            },
            "marker": {
             "colorbar": {
              "outlinewidth": 0,
              "ticks": ""
             }
            },
            "type": "scatter3d"
           }
          ],
          "scattercarpet": [
           {
            "marker": {
             "colorbar": {
              "outlinewidth": 0,
              "ticks": ""
             }
            },
            "type": "scattercarpet"
           }
          ],
          "scattergeo": [
           {
            "marker": {
             "colorbar": {
              "outlinewidth": 0,
              "ticks": ""
             }
            },
            "type": "scattergeo"
           }
          ],
          "scattergl": [
           {
            "marker": {
             "colorbar": {
              "outlinewidth": 0,
              "ticks": ""
             }
            },
            "type": "scattergl"
           }
          ],
          "scattermap": [
           {
            "marker": {
             "colorbar": {
              "outlinewidth": 0,
              "ticks": ""
             }
            },
            "type": "scattermap"
           }
          ],
          "scattermapbox": [
           {
            "marker": {
             "colorbar": {
              "outlinewidth": 0,
              "ticks": ""
             }
            },
            "type": "scattermapbox"
           }
          ],
          "scatterpolar": [
           {
            "marker": {
             "colorbar": {
              "outlinewidth": 0,
              "ticks": ""
             }
            },
            "type": "scatterpolar"
           }
          ],
          "scatterpolargl": [
           {
            "marker": {
             "colorbar": {
              "outlinewidth": 0,
              "ticks": ""
             }
            },
            "type": "scatterpolargl"
           }
          ],
          "scatterternary": [
           {
            "marker": {
             "colorbar": {
              "outlinewidth": 0,
              "ticks": ""
             }
            },
            "type": "scatterternary"
           }
          ],
          "surface": [
           {
            "colorbar": {
             "outlinewidth": 0,
             "ticks": ""
            },
            "colorscale": [
             [
              0,
              "#0d0887"
             ],
             [
              0.1111111111111111,
              "#46039f"
             ],
             [
              0.2222222222222222,
              "#7201a8"
             ],
             [
              0.3333333333333333,
              "#9c179e"
             ],
             [
              0.4444444444444444,
              "#bd3786"
             ],
             [
              0.5555555555555556,
              "#d8576b"
             ],
             [
              0.6666666666666666,
              "#ed7953"
             ],
             [
              0.7777777777777778,
              "#fb9f3a"
             ],
             [
              0.8888888888888888,
              "#fdca26"
             ],
             [
              1,
              "#f0f921"
             ]
            ],
            "type": "surface"
           }
          ],
          "table": [
           {
            "cells": {
             "fill": {
              "color": "#EBF0F8"
             },
             "line": {
              "color": "white"
             }
            },
            "header": {
             "fill": {
              "color": "#C8D4E3"
             },
             "line": {
              "color": "white"
             }
            },
            "type": "table"
           }
          ]
         },
         "layout": {
          "annotationdefaults": {
           "arrowcolor": "#2a3f5f",
           "arrowhead": 0,
           "arrowwidth": 1
          },
          "autotypenumbers": "strict",
          "coloraxis": {
           "colorbar": {
            "outlinewidth": 0,
            "ticks": ""
           }
          },
          "colorscale": {
           "diverging": [
            [
             0,
             "#8e0152"
            ],
            [
             0.1,
             "#c51b7d"
            ],
            [
             0.2,
             "#de77ae"
            ],
            [
             0.3,
             "#f1b6da"
            ],
            [
             0.4,
             "#fde0ef"
            ],
            [
             0.5,
             "#f7f7f7"
            ],
            [
             0.6,
             "#e6f5d0"
            ],
            [
             0.7,
             "#b8e186"
            ],
            [
             0.8,
             "#7fbc41"
            ],
            [
             0.9,
             "#4d9221"
            ],
            [
             1,
             "#276419"
            ]
           ],
           "sequential": [
            [
             0,
             "#0d0887"
            ],
            [
             0.1111111111111111,
             "#46039f"
            ],
            [
             0.2222222222222222,
             "#7201a8"
            ],
            [
             0.3333333333333333,
             "#9c179e"
            ],
            [
             0.4444444444444444,
             "#bd3786"
            ],
            [
             0.5555555555555556,
             "#d8576b"
            ],
            [
             0.6666666666666666,
             "#ed7953"
            ],
            [
             0.7777777777777778,
             "#fb9f3a"
            ],
            [
             0.8888888888888888,
             "#fdca26"
            ],
            [
             1,
             "#f0f921"
            ]
           ],
           "sequentialminus": [
            [
             0,
             "#0d0887"
            ],
            [
             0.1111111111111111,
             "#46039f"
            ],
            [
             0.2222222222222222,
             "#7201a8"
            ],
            [
             0.3333333333333333,
             "#9c179e"
            ],
            [
             0.4444444444444444,
             "#bd3786"
            ],
            [
             0.5555555555555556,
             "#d8576b"
            ],
            [
             0.6666666666666666,
             "#ed7953"
            ],
            [
             0.7777777777777778,
             "#fb9f3a"
            ],
            [
             0.8888888888888888,
             "#fdca26"
            ],
            [
             1,
             "#f0f921"
            ]
           ]
          },
          "colorway": [
           "#636efa",
           "#EF553B",
           "#00cc96",
           "#ab63fa",
           "#FFA15A",
           "#19d3f3",
           "#FF6692",
           "#B6E880",
           "#FF97FF",
           "#FECB52"
          ],
          "font": {
           "color": "#2a3f5f"
          },
          "geo": {
           "bgcolor": "white",
           "lakecolor": "white",
           "landcolor": "#E5ECF6",
           "showlakes": true,
           "showland": true,
           "subunitcolor": "white"
          },
          "hoverlabel": {
           "align": "left"
          },
          "hovermode": "closest",
          "mapbox": {
           "style": "light"
          },
          "paper_bgcolor": "white",
          "plot_bgcolor": "#E5ECF6",
          "polar": {
           "angularaxis": {
            "gridcolor": "white",
            "linecolor": "white",
            "ticks": ""
           },
           "bgcolor": "#E5ECF6",
           "radialaxis": {
            "gridcolor": "white",
            "linecolor": "white",
            "ticks": ""
           }
          },
          "scene": {
           "xaxis": {
            "backgroundcolor": "#E5ECF6",
            "gridcolor": "white",
            "gridwidth": 2,
            "linecolor": "white",
            "showbackground": true,
            "ticks": "",
            "zerolinecolor": "white"
           },
           "yaxis": {
            "backgroundcolor": "#E5ECF6",
            "gridcolor": "white",
            "gridwidth": 2,
            "linecolor": "white",
            "showbackground": true,
            "ticks": "",
            "zerolinecolor": "white"
           },
           "zaxis": {
            "backgroundcolor": "#E5ECF6",
            "gridcolor": "white",
            "gridwidth": 2,
            "linecolor": "white",
            "showbackground": true,
            "ticks": "",
            "zerolinecolor": "white"
           }
          },
          "shapedefaults": {
           "line": {
            "color": "#2a3f5f"
           }
          },
          "ternary": {
           "aaxis": {
            "gridcolor": "white",
            "linecolor": "white",
            "ticks": ""
           },
           "baxis": {
            "gridcolor": "white",
            "linecolor": "white",
            "ticks": ""
           },
           "bgcolor": "#E5ECF6",
           "caxis": {
            "gridcolor": "white",
            "linecolor": "white",
            "ticks": ""
           }
          },
          "title": {
           "x": 0.05
          },
          "xaxis": {
           "automargin": true,
           "gridcolor": "white",
           "linecolor": "white",
           "ticks": "",
           "title": {
            "standoff": 15
           },
           "zerolinecolor": "white",
           "zerolinewidth": 2
          },
          "yaxis": {
           "automargin": true,
           "gridcolor": "white",
           "linecolor": "white",
           "ticks": "",
           "title": {
            "standoff": 15
           },
           "zerolinecolor": "white",
           "zerolinewidth": 2
          }
         }
        },
        "title": {
         "text": "Transitions β=1 → β=0"
        },
        "xaxis": {
         "title": {
          "text": "Count (left negative, right positive)"
         }
        }
       }
      }
     },
     "metadata": {},
     "output_type": "display_data"
    },
    {
     "data": {
      "application/vnd.plotly.v1+json": {
       "config": {
        "plotlyServerURL": "https://plot.ly"
       },
       "data": [
        {
         "orientation": "h",
         "type": "bar",
         "x": [
          -11,
          10,
          -8,
          0
         ],
         "y": [
          "T&I→T&¬I",
          "¬T&I→T&I",
          "T&I→¬T&I",
          "¬T&I→T&¬I"
         ]
        }
       ],
       "layout": {
        "shapes": [
         {
          "line": {
           "dash": "dash"
          },
          "type": "line",
          "x0": 0,
          "x1": 0,
          "xref": "x",
          "y0": 0,
          "y1": 1,
          "yref": "y domain"
         }
        ],
        "template": {
         "data": {
          "bar": [
           {
            "error_x": {
             "color": "#2a3f5f"
            },
            "error_y": {
             "color": "#2a3f5f"
            },
            "marker": {
             "line": {
              "color": "#E5ECF6",
              "width": 0.5
             },
             "pattern": {
              "fillmode": "overlay",
              "size": 10,
              "solidity": 0.2
             }
            },
            "type": "bar"
           }
          ],
          "barpolar": [
           {
            "marker": {
             "line": {
              "color": "#E5ECF6",
              "width": 0.5
             },
             "pattern": {
              "fillmode": "overlay",
              "size": 10,
              "solidity": 0.2
             }
            },
            "type": "barpolar"
           }
          ],
          "carpet": [
           {
            "aaxis": {
             "endlinecolor": "#2a3f5f",
             "gridcolor": "white",
             "linecolor": "white",
             "minorgridcolor": "white",
             "startlinecolor": "#2a3f5f"
            },
            "baxis": {
             "endlinecolor": "#2a3f5f",
             "gridcolor": "white",
             "linecolor": "white",
             "minorgridcolor": "white",
             "startlinecolor": "#2a3f5f"
            },
            "type": "carpet"
           }
          ],
          "choropleth": [
           {
            "colorbar": {
             "outlinewidth": 0,
             "ticks": ""
            },
            "type": "choropleth"
           }
          ],
          "contour": [
           {
            "colorbar": {
             "outlinewidth": 0,
             "ticks": ""
            },
            "colorscale": [
             [
              0,
              "#0d0887"
             ],
             [
              0.1111111111111111,
              "#46039f"
             ],
             [
              0.2222222222222222,
              "#7201a8"
             ],
             [
              0.3333333333333333,
              "#9c179e"
             ],
             [
              0.4444444444444444,
              "#bd3786"
             ],
             [
              0.5555555555555556,
              "#d8576b"
             ],
             [
              0.6666666666666666,
              "#ed7953"
             ],
             [
              0.7777777777777778,
              "#fb9f3a"
             ],
             [
              0.8888888888888888,
              "#fdca26"
             ],
             [
              1,
              "#f0f921"
             ]
            ],
            "type": "contour"
           }
          ],
          "contourcarpet": [
           {
            "colorbar": {
             "outlinewidth": 0,
             "ticks": ""
            },
            "type": "contourcarpet"
           }
          ],
          "heatmap": [
           {
            "colorbar": {
             "outlinewidth": 0,
             "ticks": ""
            },
            "colorscale": [
             [
              0,
              "#0d0887"
             ],
             [
              0.1111111111111111,
              "#46039f"
             ],
             [
              0.2222222222222222,
              "#7201a8"
             ],
             [
              0.3333333333333333,
              "#9c179e"
             ],
             [
              0.4444444444444444,
              "#bd3786"
             ],
             [
              0.5555555555555556,
              "#d8576b"
             ],
             [
              0.6666666666666666,
              "#ed7953"
             ],
             [
              0.7777777777777778,
              "#fb9f3a"
             ],
             [
              0.8888888888888888,
              "#fdca26"
             ],
             [
              1,
              "#f0f921"
             ]
            ],
            "type": "heatmap"
           }
          ],
          "histogram": [
           {
            "marker": {
             "pattern": {
              "fillmode": "overlay",
              "size": 10,
              "solidity": 0.2
             }
            },
            "type": "histogram"
           }
          ],
          "histogram2d": [
           {
            "colorbar": {
             "outlinewidth": 0,
             "ticks": ""
            },
            "colorscale": [
             [
              0,
              "#0d0887"
             ],
             [
              0.1111111111111111,
              "#46039f"
             ],
             [
              0.2222222222222222,
              "#7201a8"
             ],
             [
              0.3333333333333333,
              "#9c179e"
             ],
             [
              0.4444444444444444,
              "#bd3786"
             ],
             [
              0.5555555555555556,
              "#d8576b"
             ],
             [
              0.6666666666666666,
              "#ed7953"
             ],
             [
              0.7777777777777778,
              "#fb9f3a"
             ],
             [
              0.8888888888888888,
              "#fdca26"
             ],
             [
              1,
              "#f0f921"
             ]
            ],
            "type": "histogram2d"
           }
          ],
          "histogram2dcontour": [
           {
            "colorbar": {
             "outlinewidth": 0,
             "ticks": ""
            },
            "colorscale": [
             [
              0,
              "#0d0887"
             ],
             [
              0.1111111111111111,
              "#46039f"
             ],
             [
              0.2222222222222222,
              "#7201a8"
             ],
             [
              0.3333333333333333,
              "#9c179e"
             ],
             [
              0.4444444444444444,
              "#bd3786"
             ],
             [
              0.5555555555555556,
              "#d8576b"
             ],
             [
              0.6666666666666666,
              "#ed7953"
             ],
             [
              0.7777777777777778,
              "#fb9f3a"
             ],
             [
              0.8888888888888888,
              "#fdca26"
             ],
             [
              1,
              "#f0f921"
             ]
            ],
            "type": "histogram2dcontour"
           }
          ],
          "mesh3d": [
           {
            "colorbar": {
             "outlinewidth": 0,
             "ticks": ""
            },
            "type": "mesh3d"
           }
          ],
          "parcoords": [
           {
            "line": {
             "colorbar": {
              "outlinewidth": 0,
              "ticks": ""
             }
            },
            "type": "parcoords"
           }
          ],
          "pie": [
           {
            "automargin": true,
            "type": "pie"
           }
          ],
          "scatter": [
           {
            "fillpattern": {
             "fillmode": "overlay",
             "size": 10,
             "solidity": 0.2
            },
            "type": "scatter"
           }
          ],
          "scatter3d": [
           {
            "line": {
             "colorbar": {
              "outlinewidth": 0,
              "ticks": ""
             }
            },
            "marker": {
             "colorbar": {
              "outlinewidth": 0,
              "ticks": ""
             }
            },
            "type": "scatter3d"
           }
          ],
          "scattercarpet": [
           {
            "marker": {
             "colorbar": {
              "outlinewidth": 0,
              "ticks": ""
             }
            },
            "type": "scattercarpet"
           }
          ],
          "scattergeo": [
           {
            "marker": {
             "colorbar": {
              "outlinewidth": 0,
              "ticks": ""
             }
            },
            "type": "scattergeo"
           }
          ],
          "scattergl": [
           {
            "marker": {
             "colorbar": {
              "outlinewidth": 0,
              "ticks": ""
             }
            },
            "type": "scattergl"
           }
          ],
          "scattermap": [
           {
            "marker": {
             "colorbar": {
              "outlinewidth": 0,
              "ticks": ""
             }
            },
            "type": "scattermap"
           }
          ],
          "scattermapbox": [
           {
            "marker": {
             "colorbar": {
              "outlinewidth": 0,
              "ticks": ""
             }
            },
            "type": "scattermapbox"
           }
          ],
          "scatterpolar": [
           {
            "marker": {
             "colorbar": {
              "outlinewidth": 0,
              "ticks": ""
             }
            },
            "type": "scatterpolar"
           }
          ],
          "scatterpolargl": [
           {
            "marker": {
             "colorbar": {
              "outlinewidth": 0,
              "ticks": ""
             }
            },
            "type": "scatterpolargl"
           }
          ],
          "scatterternary": [
           {
            "marker": {
             "colorbar": {
              "outlinewidth": 0,
              "ticks": ""
             }
            },
            "type": "scatterternary"
           }
          ],
          "surface": [
           {
            "colorbar": {
             "outlinewidth": 0,
             "ticks": ""
            },
            "colorscale": [
             [
              0,
              "#0d0887"
             ],
             [
              0.1111111111111111,
              "#46039f"
             ],
             [
              0.2222222222222222,
              "#7201a8"
             ],
             [
              0.3333333333333333,
              "#9c179e"
             ],
             [
              0.4444444444444444,
              "#bd3786"
             ],
             [
              0.5555555555555556,
              "#d8576b"
             ],
             [
              0.6666666666666666,
              "#ed7953"
             ],
             [
              0.7777777777777778,
              "#fb9f3a"
             ],
             [
              0.8888888888888888,
              "#fdca26"
             ],
             [
              1,
              "#f0f921"
             ]
            ],
            "type": "surface"
           }
          ],
          "table": [
           {
            "cells": {
             "fill": {
              "color": "#EBF0F8"
             },
             "line": {
              "color": "white"
             }
            },
            "header": {
             "fill": {
              "color": "#C8D4E3"
             },
             "line": {
              "color": "white"
             }
            },
            "type": "table"
           }
          ]
         },
         "layout": {
          "annotationdefaults": {
           "arrowcolor": "#2a3f5f",
           "arrowhead": 0,
           "arrowwidth": 1
          },
          "autotypenumbers": "strict",
          "coloraxis": {
           "colorbar": {
            "outlinewidth": 0,
            "ticks": ""
           }
          },
          "colorscale": {
           "diverging": [
            [
             0,
             "#8e0152"
            ],
            [
             0.1,
             "#c51b7d"
            ],
            [
             0.2,
             "#de77ae"
            ],
            [
             0.3,
             "#f1b6da"
            ],
            [
             0.4,
             "#fde0ef"
            ],
            [
             0.5,
             "#f7f7f7"
            ],
            [
             0.6,
             "#e6f5d0"
            ],
            [
             0.7,
             "#b8e186"
            ],
            [
             0.8,
             "#7fbc41"
            ],
            [
             0.9,
             "#4d9221"
            ],
            [
             1,
             "#276419"
            ]
           ],
           "sequential": [
            [
             0,
             "#0d0887"
            ],
            [
             0.1111111111111111,
             "#46039f"
            ],
            [
             0.2222222222222222,
             "#7201a8"
            ],
            [
             0.3333333333333333,
             "#9c179e"
            ],
            [
             0.4444444444444444,
             "#bd3786"
            ],
            [
             0.5555555555555556,
             "#d8576b"
            ],
            [
             0.6666666666666666,
             "#ed7953"
            ],
            [
             0.7777777777777778,
             "#fb9f3a"
            ],
            [
             0.8888888888888888,
             "#fdca26"
            ],
            [
             1,
             "#f0f921"
            ]
           ],
           "sequentialminus": [
            [
             0,
             "#0d0887"
            ],
            [
             0.1111111111111111,
             "#46039f"
            ],
            [
             0.2222222222222222,
             "#7201a8"
            ],
            [
             0.3333333333333333,
             "#9c179e"
            ],
            [
             0.4444444444444444,
             "#bd3786"
            ],
            [
             0.5555555555555556,
             "#d8576b"
            ],
            [
             0.6666666666666666,
             "#ed7953"
            ],
            [
             0.7777777777777778,
             "#fb9f3a"
            ],
            [
             0.8888888888888888,
             "#fdca26"
            ],
            [
             1,
             "#f0f921"
            ]
           ]
          },
          "colorway": [
           "#636efa",
           "#EF553B",
           "#00cc96",
           "#ab63fa",
           "#FFA15A",
           "#19d3f3",
           "#FF6692",
           "#B6E880",
           "#FF97FF",
           "#FECB52"
          ],
          "font": {
           "color": "#2a3f5f"
          },
          "geo": {
           "bgcolor": "white",
           "lakecolor": "white",
           "landcolor": "#E5ECF6",
           "showlakes": true,
           "showland": true,
           "subunitcolor": "white"
          },
          "hoverlabel": {
           "align": "left"
          },
          "hovermode": "closest",
          "mapbox": {
           "style": "light"
          },
          "paper_bgcolor": "white",
          "plot_bgcolor": "#E5ECF6",
          "polar": {
           "angularaxis": {
            "gridcolor": "white",
            "linecolor": "white",
            "ticks": ""
           },
           "bgcolor": "#E5ECF6",
           "radialaxis": {
            "gridcolor": "white",
            "linecolor": "white",
            "ticks": ""
           }
          },
          "scene": {
           "xaxis": {
            "backgroundcolor": "#E5ECF6",
            "gridcolor": "white",
            "gridwidth": 2,
            "linecolor": "white",
            "showbackground": true,
            "ticks": "",
            "zerolinecolor": "white"
           },
           "yaxis": {
            "backgroundcolor": "#E5ECF6",
            "gridcolor": "white",
            "gridwidth": 2,
            "linecolor": "white",
            "showbackground": true,
            "ticks": "",
            "zerolinecolor": "white"
           },
           "zaxis": {
            "backgroundcolor": "#E5ECF6",
            "gridcolor": "white",
            "gridwidth": 2,
            "linecolor": "white",
            "showbackground": true,
            "ticks": "",
            "zerolinecolor": "white"
           }
          },
          "shapedefaults": {
           "line": {
            "color": "#2a3f5f"
           }
          },
          "ternary": {
           "aaxis": {
            "gridcolor": "white",
            "linecolor": "white",
            "ticks": ""
           },
           "baxis": {
            "gridcolor": "white",
            "linecolor": "white",
            "ticks": ""
           },
           "bgcolor": "#E5ECF6",
           "caxis": {
            "gridcolor": "white",
            "linecolor": "white",
            "ticks": ""
           }
          },
          "title": {
           "x": 0.05
          },
          "xaxis": {
           "automargin": true,
           "gridcolor": "white",
           "linecolor": "white",
           "ticks": "",
           "title": {
            "standoff": 15
           },
           "zerolinecolor": "white",
           "zerolinewidth": 2
          },
          "yaxis": {
           "automargin": true,
           "gridcolor": "white",
           "linecolor": "white",
           "ticks": "",
           "title": {
            "standoff": 15
           },
           "zerolinecolor": "white",
           "zerolinewidth": 2
          }
         }
        },
        "title": {
         "text": "Transitions β=1 → β=2"
        },
        "xaxis": {
         "title": {
          "text": "Count (left negative, right positive)"
         }
        }
       }
      }
     },
     "metadata": {},
     "output_type": "display_data"
    },
    {
     "data": {
      "application/vnd.plotly.v1+json": {
       "config": {
        "plotlyServerURL": "https://plot.ly"
       },
       "data": [
        {
         "orientation": "h",
         "type": "bar",
         "x": [
          -37,
          26,
          -15,
          1
         ],
         "y": [
          "T&I→T&¬I",
          "¬T&I→T&I",
          "T&I→¬T&I",
          "¬T&I→T&¬I"
         ]
        }
       ],
       "layout": {
        "shapes": [
         {
          "line": {
           "dash": "dash"
          },
          "type": "line",
          "x0": 0,
          "x1": 0,
          "xref": "x",
          "y0": 0,
          "y1": 1,
          "yref": "y domain"
         }
        ],
        "template": {
         "data": {
          "bar": [
           {
            "error_x": {
             "color": "#2a3f5f"
            },
            "error_y": {
             "color": "#2a3f5f"
            },
            "marker": {
             "line": {
              "color": "#E5ECF6",
              "width": 0.5
             },
             "pattern": {
              "fillmode": "overlay",
              "size": 10,
              "solidity": 0.2
             }
            },
            "type": "bar"
           }
          ],
          "barpolar": [
           {
            "marker": {
             "line": {
              "color": "#E5ECF6",
              "width": 0.5
             },
             "pattern": {
              "fillmode": "overlay",
              "size": 10,
              "solidity": 0.2
             }
            },
            "type": "barpolar"
           }
          ],
          "carpet": [
           {
            "aaxis": {
             "endlinecolor": "#2a3f5f",
             "gridcolor": "white",
             "linecolor": "white",
             "minorgridcolor": "white",
             "startlinecolor": "#2a3f5f"
            },
            "baxis": {
             "endlinecolor": "#2a3f5f",
             "gridcolor": "white",
             "linecolor": "white",
             "minorgridcolor": "white",
             "startlinecolor": "#2a3f5f"
            },
            "type": "carpet"
           }
          ],
          "choropleth": [
           {
            "colorbar": {
             "outlinewidth": 0,
             "ticks": ""
            },
            "type": "choropleth"
           }
          ],
          "contour": [
           {
            "colorbar": {
             "outlinewidth": 0,
             "ticks": ""
            },
            "colorscale": [
             [
              0,
              "#0d0887"
             ],
             [
              0.1111111111111111,
              "#46039f"
             ],
             [
              0.2222222222222222,
              "#7201a8"
             ],
             [
              0.3333333333333333,
              "#9c179e"
             ],
             [
              0.4444444444444444,
              "#bd3786"
             ],
             [
              0.5555555555555556,
              "#d8576b"
             ],
             [
              0.6666666666666666,
              "#ed7953"
             ],
             [
              0.7777777777777778,
              "#fb9f3a"
             ],
             [
              0.8888888888888888,
              "#fdca26"
             ],
             [
              1,
              "#f0f921"
             ]
            ],
            "type": "contour"
           }
          ],
          "contourcarpet": [
           {
            "colorbar": {
             "outlinewidth": 0,
             "ticks": ""
            },
            "type": "contourcarpet"
           }
          ],
          "heatmap": [
           {
            "colorbar": {
             "outlinewidth": 0,
             "ticks": ""
            },
            "colorscale": [
             [
              0,
              "#0d0887"
             ],
             [
              0.1111111111111111,
              "#46039f"
             ],
             [
              0.2222222222222222,
              "#7201a8"
             ],
             [
              0.3333333333333333,
              "#9c179e"
             ],
             [
              0.4444444444444444,
              "#bd3786"
             ],
             [
              0.5555555555555556,
              "#d8576b"
             ],
             [
              0.6666666666666666,
              "#ed7953"
             ],
             [
              0.7777777777777778,
              "#fb9f3a"
             ],
             [
              0.8888888888888888,
              "#fdca26"
             ],
             [
              1,
              "#f0f921"
             ]
            ],
            "type": "heatmap"
           }
          ],
          "histogram": [
           {
            "marker": {
             "pattern": {
              "fillmode": "overlay",
              "size": 10,
              "solidity": 0.2
             }
            },
            "type": "histogram"
           }
          ],
          "histogram2d": [
           {
            "colorbar": {
             "outlinewidth": 0,
             "ticks": ""
            },
            "colorscale": [
             [
              0,
              "#0d0887"
             ],
             [
              0.1111111111111111,
              "#46039f"
             ],
             [
              0.2222222222222222,
              "#7201a8"
             ],
             [
              0.3333333333333333,
              "#9c179e"
             ],
             [
              0.4444444444444444,
              "#bd3786"
             ],
             [
              0.5555555555555556,
              "#d8576b"
             ],
             [
              0.6666666666666666,
              "#ed7953"
             ],
             [
              0.7777777777777778,
              "#fb9f3a"
             ],
             [
              0.8888888888888888,
              "#fdca26"
             ],
             [
              1,
              "#f0f921"
             ]
            ],
            "type": "histogram2d"
           }
          ],
          "histogram2dcontour": [
           {
            "colorbar": {
             "outlinewidth": 0,
             "ticks": ""
            },
            "colorscale": [
             [
              0,
              "#0d0887"
             ],
             [
              0.1111111111111111,
              "#46039f"
             ],
             [
              0.2222222222222222,
              "#7201a8"
             ],
             [
              0.3333333333333333,
              "#9c179e"
             ],
             [
              0.4444444444444444,
              "#bd3786"
             ],
             [
              0.5555555555555556,
              "#d8576b"
             ],
             [
              0.6666666666666666,
              "#ed7953"
             ],
             [
              0.7777777777777778,
              "#fb9f3a"
             ],
             [
              0.8888888888888888,
              "#fdca26"
             ],
             [
              1,
              "#f0f921"
             ]
            ],
            "type": "histogram2dcontour"
           }
          ],
          "mesh3d": [
           {
            "colorbar": {
             "outlinewidth": 0,
             "ticks": ""
            },
            "type": "mesh3d"
           }
          ],
          "parcoords": [
           {
            "line": {
             "colorbar": {
              "outlinewidth": 0,
              "ticks": ""
             }
            },
            "type": "parcoords"
           }
          ],
          "pie": [
           {
            "automargin": true,
            "type": "pie"
           }
          ],
          "scatter": [
           {
            "fillpattern": {
             "fillmode": "overlay",
             "size": 10,
             "solidity": 0.2
            },
            "type": "scatter"
           }
          ],
          "scatter3d": [
           {
            "line": {
             "colorbar": {
              "outlinewidth": 0,
              "ticks": ""
             }
            },
            "marker": {
             "colorbar": {
              "outlinewidth": 0,
              "ticks": ""
             }
            },
            "type": "scatter3d"
           }
          ],
          "scattercarpet": [
           {
            "marker": {
             "colorbar": {
              "outlinewidth": 0,
              "ticks": ""
             }
            },
            "type": "scattercarpet"
           }
          ],
          "scattergeo": [
           {
            "marker": {
             "colorbar": {
              "outlinewidth": 0,
              "ticks": ""
             }
            },
            "type": "scattergeo"
           }
          ],
          "scattergl": [
           {
            "marker": {
             "colorbar": {
              "outlinewidth": 0,
              "ticks": ""
             }
            },
            "type": "scattergl"
           }
          ],
          "scattermap": [
           {
            "marker": {
             "colorbar": {
              "outlinewidth": 0,
              "ticks": ""
             }
            },
            "type": "scattermap"
           }
          ],
          "scattermapbox": [
           {
            "marker": {
             "colorbar": {
              "outlinewidth": 0,
              "ticks": ""
             }
            },
            "type": "scattermapbox"
           }
          ],
          "scatterpolar": [
           {
            "marker": {
             "colorbar": {
              "outlinewidth": 0,
              "ticks": ""
             }
            },
            "type": "scatterpolar"
           }
          ],
          "scatterpolargl": [
           {
            "marker": {
             "colorbar": {
              "outlinewidth": 0,
              "ticks": ""
             }
            },
            "type": "scatterpolargl"
           }
          ],
          "scatterternary": [
           {
            "marker": {
             "colorbar": {
              "outlinewidth": 0,
              "ticks": ""
             }
            },
            "type": "scatterternary"
           }
          ],
          "surface": [
           {
            "colorbar": {
             "outlinewidth": 0,
             "ticks": ""
            },
            "colorscale": [
             [
              0,
              "#0d0887"
             ],
             [
              0.1111111111111111,
              "#46039f"
             ],
             [
              0.2222222222222222,
              "#7201a8"
             ],
             [
              0.3333333333333333,
              "#9c179e"
             ],
             [
              0.4444444444444444,
              "#bd3786"
             ],
             [
              0.5555555555555556,
              "#d8576b"
             ],
             [
              0.6666666666666666,
              "#ed7953"
             ],
             [
              0.7777777777777778,
              "#fb9f3a"
             ],
             [
              0.8888888888888888,
              "#fdca26"
             ],
             [
              1,
              "#f0f921"
             ]
            ],
            "type": "surface"
           }
          ],
          "table": [
           {
            "cells": {
             "fill": {
              "color": "#EBF0F8"
             },
             "line": {
              "color": "white"
             }
            },
            "header": {
             "fill": {
              "color": "#C8D4E3"
             },
             "line": {
              "color": "white"
             }
            },
            "type": "table"
           }
          ]
         },
         "layout": {
          "annotationdefaults": {
           "arrowcolor": "#2a3f5f",
           "arrowhead": 0,
           "arrowwidth": 1
          },
          "autotypenumbers": "strict",
          "coloraxis": {
           "colorbar": {
            "outlinewidth": 0,
            "ticks": ""
           }
          },
          "colorscale": {
           "diverging": [
            [
             0,
             "#8e0152"
            ],
            [
             0.1,
             "#c51b7d"
            ],
            [
             0.2,
             "#de77ae"
            ],
            [
             0.3,
             "#f1b6da"
            ],
            [
             0.4,
             "#fde0ef"
            ],
            [
             0.5,
             "#f7f7f7"
            ],
            [
             0.6,
             "#e6f5d0"
            ],
            [
             0.7,
             "#b8e186"
            ],
            [
             0.8,
             "#7fbc41"
            ],
            [
             0.9,
             "#4d9221"
            ],
            [
             1,
             "#276419"
            ]
           ],
           "sequential": [
            [
             0,
             "#0d0887"
            ],
            [
             0.1111111111111111,
             "#46039f"
            ],
            [
             0.2222222222222222,
             "#7201a8"
            ],
            [
             0.3333333333333333,
             "#9c179e"
            ],
            [
             0.4444444444444444,
             "#bd3786"
            ],
            [
             0.5555555555555556,
             "#d8576b"
            ],
            [
             0.6666666666666666,
             "#ed7953"
            ],
            [
             0.7777777777777778,
             "#fb9f3a"
            ],
            [
             0.8888888888888888,
             "#fdca26"
            ],
            [
             1,
             "#f0f921"
            ]
           ],
           "sequentialminus": [
            [
             0,
             "#0d0887"
            ],
            [
             0.1111111111111111,
             "#46039f"
            ],
            [
             0.2222222222222222,
             "#7201a8"
            ],
            [
             0.3333333333333333,
             "#9c179e"
            ],
            [
             0.4444444444444444,
             "#bd3786"
            ],
            [
             0.5555555555555556,
             "#d8576b"
            ],
            [
             0.6666666666666666,
             "#ed7953"
            ],
            [
             0.7777777777777778,
             "#fb9f3a"
            ],
            [
             0.8888888888888888,
             "#fdca26"
            ],
            [
             1,
             "#f0f921"
            ]
           ]
          },
          "colorway": [
           "#636efa",
           "#EF553B",
           "#00cc96",
           "#ab63fa",
           "#FFA15A",
           "#19d3f3",
           "#FF6692",
           "#B6E880",
           "#FF97FF",
           "#FECB52"
          ],
          "font": {
           "color": "#2a3f5f"
          },
          "geo": {
           "bgcolor": "white",
           "lakecolor": "white",
           "landcolor": "#E5ECF6",
           "showlakes": true,
           "showland": true,
           "subunitcolor": "white"
          },
          "hoverlabel": {
           "align": "left"
          },
          "hovermode": "closest",
          "mapbox": {
           "style": "light"
          },
          "paper_bgcolor": "white",
          "plot_bgcolor": "#E5ECF6",
          "polar": {
           "angularaxis": {
            "gridcolor": "white",
            "linecolor": "white",
            "ticks": ""
           },
           "bgcolor": "#E5ECF6",
           "radialaxis": {
            "gridcolor": "white",
            "linecolor": "white",
            "ticks": ""
           }
          },
          "scene": {
           "xaxis": {
            "backgroundcolor": "#E5ECF6",
            "gridcolor": "white",
            "gridwidth": 2,
            "linecolor": "white",
            "showbackground": true,
            "ticks": "",
            "zerolinecolor": "white"
           },
           "yaxis": {
            "backgroundcolor": "#E5ECF6",
            "gridcolor": "white",
            "gridwidth": 2,
            "linecolor": "white",
            "showbackground": true,
            "ticks": "",
            "zerolinecolor": "white"
           },
           "zaxis": {
            "backgroundcolor": "#E5ECF6",
            "gridcolor": "white",
            "gridwidth": 2,
            "linecolor": "white",
            "showbackground": true,
            "ticks": "",
            "zerolinecolor": "white"
           }
          },
          "shapedefaults": {
           "line": {
            "color": "#2a3f5f"
           }
          },
          "ternary": {
           "aaxis": {
            "gridcolor": "white",
            "linecolor": "white",
            "ticks": ""
           },
           "baxis": {
            "gridcolor": "white",
            "linecolor": "white",
            "ticks": ""
           },
           "bgcolor": "#E5ECF6",
           "caxis": {
            "gridcolor": "white",
            "linecolor": "white",
            "ticks": ""
           }
          },
          "title": {
           "x": 0.05
          },
          "xaxis": {
           "automargin": true,
           "gridcolor": "white",
           "linecolor": "white",
           "ticks": "",
           "title": {
            "standoff": 15
           },
           "zerolinecolor": "white",
           "zerolinewidth": 2
          },
          "yaxis": {
           "automargin": true,
           "gridcolor": "white",
           "linecolor": "white",
           "ticks": "",
           "title": {
            "standoff": 15
           },
           "zerolinecolor": "white",
           "zerolinewidth": 2
          }
         }
        },
        "title": {
         "text": "Transitions β=1 → β=5"
        },
        "xaxis": {
         "title": {
          "text": "Count (left negative, right positive)"
         }
        }
       }
      }
     },
     "metadata": {},
     "output_type": "display_data"
    },
    {
     "data": {
      "application/vnd.plotly.v1+json": {
       "config": {
        "plotlyServerURL": "https://plot.ly"
       },
       "data": [
        {
         "orientation": "h",
         "type": "bar",
         "x": [
          -57,
          33,
          -15,
          6
         ],
         "y": [
          "T&I→T&¬I",
          "¬T&I→T&I",
          "T&I→¬T&I",
          "¬T&I→T&¬I"
         ]
        }
       ],
       "layout": {
        "shapes": [
         {
          "line": {
           "dash": "dash"
          },
          "type": "line",
          "x0": 0,
          "x1": 0,
          "xref": "x",
          "y0": 0,
          "y1": 1,
          "yref": "y domain"
         }
        ],
        "template": {
         "data": {
          "bar": [
           {
            "error_x": {
             "color": "#2a3f5f"
            },
            "error_y": {
             "color": "#2a3f5f"
            },
            "marker": {
             "line": {
              "color": "#E5ECF6",
              "width": 0.5
             },
             "pattern": {
              "fillmode": "overlay",
              "size": 10,
              "solidity": 0.2
             }
            },
            "type": "bar"
           }
          ],
          "barpolar": [
           {
            "marker": {
             "line": {
              "color": "#E5ECF6",
              "width": 0.5
             },
             "pattern": {
              "fillmode": "overlay",
              "size": 10,
              "solidity": 0.2
             }
            },
            "type": "barpolar"
           }
          ],
          "carpet": [
           {
            "aaxis": {
             "endlinecolor": "#2a3f5f",
             "gridcolor": "white",
             "linecolor": "white",
             "minorgridcolor": "white",
             "startlinecolor": "#2a3f5f"
            },
            "baxis": {
             "endlinecolor": "#2a3f5f",
             "gridcolor": "white",
             "linecolor": "white",
             "minorgridcolor": "white",
             "startlinecolor": "#2a3f5f"
            },
            "type": "carpet"
           }
          ],
          "choropleth": [
           {
            "colorbar": {
             "outlinewidth": 0,
             "ticks": ""
            },
            "type": "choropleth"
           }
          ],
          "contour": [
           {
            "colorbar": {
             "outlinewidth": 0,
             "ticks": ""
            },
            "colorscale": [
             [
              0,
              "#0d0887"
             ],
             [
              0.1111111111111111,
              "#46039f"
             ],
             [
              0.2222222222222222,
              "#7201a8"
             ],
             [
              0.3333333333333333,
              "#9c179e"
             ],
             [
              0.4444444444444444,
              "#bd3786"
             ],
             [
              0.5555555555555556,
              "#d8576b"
             ],
             [
              0.6666666666666666,
              "#ed7953"
             ],
             [
              0.7777777777777778,
              "#fb9f3a"
             ],
             [
              0.8888888888888888,
              "#fdca26"
             ],
             [
              1,
              "#f0f921"
             ]
            ],
            "type": "contour"
           }
          ],
          "contourcarpet": [
           {
            "colorbar": {
             "outlinewidth": 0,
             "ticks": ""
            },
            "type": "contourcarpet"
           }
          ],
          "heatmap": [
           {
            "colorbar": {
             "outlinewidth": 0,
             "ticks": ""
            },
            "colorscale": [
             [
              0,
              "#0d0887"
             ],
             [
              0.1111111111111111,
              "#46039f"
             ],
             [
              0.2222222222222222,
              "#7201a8"
             ],
             [
              0.3333333333333333,
              "#9c179e"
             ],
             [
              0.4444444444444444,
              "#bd3786"
             ],
             [
              0.5555555555555556,
              "#d8576b"
             ],
             [
              0.6666666666666666,
              "#ed7953"
             ],
             [
              0.7777777777777778,
              "#fb9f3a"
             ],
             [
              0.8888888888888888,
              "#fdca26"
             ],
             [
              1,
              "#f0f921"
             ]
            ],
            "type": "heatmap"
           }
          ],
          "histogram": [
           {
            "marker": {
             "pattern": {
              "fillmode": "overlay",
              "size": 10,
              "solidity": 0.2
             }
            },
            "type": "histogram"
           }
          ],
          "histogram2d": [
           {
            "colorbar": {
             "outlinewidth": 0,
             "ticks": ""
            },
            "colorscale": [
             [
              0,
              "#0d0887"
             ],
             [
              0.1111111111111111,
              "#46039f"
             ],
             [
              0.2222222222222222,
              "#7201a8"
             ],
             [
              0.3333333333333333,
              "#9c179e"
             ],
             [
              0.4444444444444444,
              "#bd3786"
             ],
             [
              0.5555555555555556,
              "#d8576b"
             ],
             [
              0.6666666666666666,
              "#ed7953"
             ],
             [
              0.7777777777777778,
              "#fb9f3a"
             ],
             [
              0.8888888888888888,
              "#fdca26"
             ],
             [
              1,
              "#f0f921"
             ]
            ],
            "type": "histogram2d"
           }
          ],
          "histogram2dcontour": [
           {
            "colorbar": {
             "outlinewidth": 0,
             "ticks": ""
            },
            "colorscale": [
             [
              0,
              "#0d0887"
             ],
             [
              0.1111111111111111,
              "#46039f"
             ],
             [
              0.2222222222222222,
              "#7201a8"
             ],
             [
              0.3333333333333333,
              "#9c179e"
             ],
             [
              0.4444444444444444,
              "#bd3786"
             ],
             [
              0.5555555555555556,
              "#d8576b"
             ],
             [
              0.6666666666666666,
              "#ed7953"
             ],
             [
              0.7777777777777778,
              "#fb9f3a"
             ],
             [
              0.8888888888888888,
              "#fdca26"
             ],
             [
              1,
              "#f0f921"
             ]
            ],
            "type": "histogram2dcontour"
           }
          ],
          "mesh3d": [
           {
            "colorbar": {
             "outlinewidth": 0,
             "ticks": ""
            },
            "type": "mesh3d"
           }
          ],
          "parcoords": [
           {
            "line": {
             "colorbar": {
              "outlinewidth": 0,
              "ticks": ""
             }
            },
            "type": "parcoords"
           }
          ],
          "pie": [
           {
            "automargin": true,
            "type": "pie"
           }
          ],
          "scatter": [
           {
            "fillpattern": {
             "fillmode": "overlay",
             "size": 10,
             "solidity": 0.2
            },
            "type": "scatter"
           }
          ],
          "scatter3d": [
           {
            "line": {
             "colorbar": {
              "outlinewidth": 0,
              "ticks": ""
             }
            },
            "marker": {
             "colorbar": {
              "outlinewidth": 0,
              "ticks": ""
             }
            },
            "type": "scatter3d"
           }
          ],
          "scattercarpet": [
           {
            "marker": {
             "colorbar": {
              "outlinewidth": 0,
              "ticks": ""
             }
            },
            "type": "scattercarpet"
           }
          ],
          "scattergeo": [
           {
            "marker": {
             "colorbar": {
              "outlinewidth": 0,
              "ticks": ""
             }
            },
            "type": "scattergeo"
           }
          ],
          "scattergl": [
           {
            "marker": {
             "colorbar": {
              "outlinewidth": 0,
              "ticks": ""
             }
            },
            "type": "scattergl"
           }
          ],
          "scattermap": [
           {
            "marker": {
             "colorbar": {
              "outlinewidth": 0,
              "ticks": ""
             }
            },
            "type": "scattermap"
           }
          ],
          "scattermapbox": [
           {
            "marker": {
             "colorbar": {
              "outlinewidth": 0,
              "ticks": ""
             }
            },
            "type": "scattermapbox"
           }
          ],
          "scatterpolar": [
           {
            "marker": {
             "colorbar": {
              "outlinewidth": 0,
              "ticks": ""
             }
            },
            "type": "scatterpolar"
           }
          ],
          "scatterpolargl": [
           {
            "marker": {
             "colorbar": {
              "outlinewidth": 0,
              "ticks": ""
             }
            },
            "type": "scatterpolargl"
           }
          ],
          "scatterternary": [
           {
            "marker": {
             "colorbar": {
              "outlinewidth": 0,
              "ticks": ""
             }
            },
            "type": "scatterternary"
           }
          ],
          "surface": [
           {
            "colorbar": {
             "outlinewidth": 0,
             "ticks": ""
            },
            "colorscale": [
             [
              0,
              "#0d0887"
             ],
             [
              0.1111111111111111,
              "#46039f"
             ],
             [
              0.2222222222222222,
              "#7201a8"
             ],
             [
              0.3333333333333333,
              "#9c179e"
             ],
             [
              0.4444444444444444,
              "#bd3786"
             ],
             [
              0.5555555555555556,
              "#d8576b"
             ],
             [
              0.6666666666666666,
              "#ed7953"
             ],
             [
              0.7777777777777778,
              "#fb9f3a"
             ],
             [
              0.8888888888888888,
              "#fdca26"
             ],
             [
              1,
              "#f0f921"
             ]
            ],
            "type": "surface"
           }
          ],
          "table": [
           {
            "cells": {
             "fill": {
              "color": "#EBF0F8"
             },
             "line": {
              "color": "white"
             }
            },
            "header": {
             "fill": {
              "color": "#C8D4E3"
             },
             "line": {
              "color": "white"
             }
            },
            "type": "table"
           }
          ]
         },
         "layout": {
          "annotationdefaults": {
           "arrowcolor": "#2a3f5f",
           "arrowhead": 0,
           "arrowwidth": 1
          },
          "autotypenumbers": "strict",
          "coloraxis": {
           "colorbar": {
            "outlinewidth": 0,
            "ticks": ""
           }
          },
          "colorscale": {
           "diverging": [
            [
             0,
             "#8e0152"
            ],
            [
             0.1,
             "#c51b7d"
            ],
            [
             0.2,
             "#de77ae"
            ],
            [
             0.3,
             "#f1b6da"
            ],
            [
             0.4,
             "#fde0ef"
            ],
            [
             0.5,
             "#f7f7f7"
            ],
            [
             0.6,
             "#e6f5d0"
            ],
            [
             0.7,
             "#b8e186"
            ],
            [
             0.8,
             "#7fbc41"
            ],
            [
             0.9,
             "#4d9221"
            ],
            [
             1,
             "#276419"
            ]
           ],
           "sequential": [
            [
             0,
             "#0d0887"
            ],
            [
             0.1111111111111111,
             "#46039f"
            ],
            [
             0.2222222222222222,
             "#7201a8"
            ],
            [
             0.3333333333333333,
             "#9c179e"
            ],
            [
             0.4444444444444444,
             "#bd3786"
            ],
            [
             0.5555555555555556,
             "#d8576b"
            ],
            [
             0.6666666666666666,
             "#ed7953"
            ],
            [
             0.7777777777777778,
             "#fb9f3a"
            ],
            [
             0.8888888888888888,
             "#fdca26"
            ],
            [
             1,
             "#f0f921"
            ]
           ],
           "sequentialminus": [
            [
             0,
             "#0d0887"
            ],
            [
             0.1111111111111111,
             "#46039f"
            ],
            [
             0.2222222222222222,
             "#7201a8"
            ],
            [
             0.3333333333333333,
             "#9c179e"
            ],
            [
             0.4444444444444444,
             "#bd3786"
            ],
            [
             0.5555555555555556,
             "#d8576b"
            ],
            [
             0.6666666666666666,
             "#ed7953"
            ],
            [
             0.7777777777777778,
             "#fb9f3a"
            ],
            [
             0.8888888888888888,
             "#fdca26"
            ],
            [
             1,
             "#f0f921"
            ]
           ]
          },
          "colorway": [
           "#636efa",
           "#EF553B",
           "#00cc96",
           "#ab63fa",
           "#FFA15A",
           "#19d3f3",
           "#FF6692",
           "#B6E880",
           "#FF97FF",
           "#FECB52"
          ],
          "font": {
           "color": "#2a3f5f"
          },
          "geo": {
           "bgcolor": "white",
           "lakecolor": "white",
           "landcolor": "#E5ECF6",
           "showlakes": true,
           "showland": true,
           "subunitcolor": "white"
          },
          "hoverlabel": {
           "align": "left"
          },
          "hovermode": "closest",
          "mapbox": {
           "style": "light"
          },
          "paper_bgcolor": "white",
          "plot_bgcolor": "#E5ECF6",
          "polar": {
           "angularaxis": {
            "gridcolor": "white",
            "linecolor": "white",
            "ticks": ""
           },
           "bgcolor": "#E5ECF6",
           "radialaxis": {
            "gridcolor": "white",
            "linecolor": "white",
            "ticks": ""
           }
          },
          "scene": {
           "xaxis": {
            "backgroundcolor": "#E5ECF6",
            "gridcolor": "white",
            "gridwidth": 2,
            "linecolor": "white",
            "showbackground": true,
            "ticks": "",
            "zerolinecolor": "white"
           },
           "yaxis": {
            "backgroundcolor": "#E5ECF6",
            "gridcolor": "white",
            "gridwidth": 2,
            "linecolor": "white",
            "showbackground": true,
            "ticks": "",
            "zerolinecolor": "white"
           },
           "zaxis": {
            "backgroundcolor": "#E5ECF6",
            "gridcolor": "white",
            "gridwidth": 2,
            "linecolor": "white",
            "showbackground": true,
            "ticks": "",
            "zerolinecolor": "white"
           }
          },
          "shapedefaults": {
           "line": {
            "color": "#2a3f5f"
           }
          },
          "ternary": {
           "aaxis": {
            "gridcolor": "white",
            "linecolor": "white",
            "ticks": ""
           },
           "baxis": {
            "gridcolor": "white",
            "linecolor": "white",
            "ticks": ""
           },
           "bgcolor": "#E5ECF6",
           "caxis": {
            "gridcolor": "white",
            "linecolor": "white",
            "ticks": ""
           }
          },
          "title": {
           "x": 0.05
          },
          "xaxis": {
           "automargin": true,
           "gridcolor": "white",
           "linecolor": "white",
           "ticks": "",
           "title": {
            "standoff": 15
           },
           "zerolinecolor": "white",
           "zerolinewidth": 2
          },
          "yaxis": {
           "automargin": true,
           "gridcolor": "white",
           "linecolor": "white",
           "ticks": "",
           "title": {
            "standoff": 15
           },
           "zerolinecolor": "white",
           "zerolinewidth": 2
          }
         }
        },
        "title": {
         "text": "Transitions β=1 → β=10"
        },
        "xaxis": {
         "title": {
          "text": "Count (left negative, right positive)"
         }
        }
       }
      }
     },
     "metadata": {},
     "output_type": "display_data"
    }
   ],
   "source": [
    "\n",
    "def ci_to_errors(means, ci):\n",
    "    xs = list(means.keys())\n",
    "    y  = np.array([means[b] for b in xs])\n",
    "    lo = np.array([ci[b][0] for b in xs])\n",
    "    hi = np.array([ci[b][1] for b in xs])\n",
    "    return xs, y, hi - y, y - lo\n",
    "\n",
    "# 1) TI vs β\n",
    "xs, y, arr, arrminus = ci_to_errors(rates_TI, ci_TI)\n",
    "fig_ti = go.Figure()\n",
    "fig_ti.add_trace(go.Scatter(x=xs, y=y, mode='lines+markers',\n",
    "                            error_y=dict(type='data', array=arr, arrayminus=arrminus, visible=True)))\n",
    "fig_ti.update_layout(title=\"Dose–response: TI vs β (α=15, K=48, COM)\", xaxis_title=\"β\", yaxis_title=\"True×Informative\")\n",
    "fig_ti.show()\n",
    "\n",
    "# 2) H vs β\n",
    "xs, y, arr, arrminus = ci_to_errors(rates_H, ci_H)\n",
    "fig_h = go.Figure()\n",
    "fig_h.add_trace(go.Scatter(x=xs, y=y, mode='lines+markers',\n",
    "                           error_y=dict(type='data', array=arr, arrayminus=arrminus, visible=True)))\n",
    "fig_h.update_layout(title=\"Dose–response: H vs β\", xaxis_title=\"β\", yaxis_title=\"Hallucination rate H\")\n",
    "fig_h.show()\n",
    "\n",
    "# 3) U vs β (Wilson CI)\n",
    "xs = BETA_ORDER\n",
    "y = [U[b] for b in xs]\n",
    "lo = [U_ci[b][0] for b in xs]\n",
    "hi = [U_ci[b][1] for b in xs]\n",
    "arr = np.array(hi) - np.array(y)\n",
    "arrminus = np.array(y) - np.array(lo)\n",
    "fig_u = go.Figure()\n",
    "fig_u.add_trace(go.Scatter(x=xs, y=y, mode='lines+markers',\n",
    "                           error_y=dict(type='data', array=arr, arrayminus=arrminus, visible=True)))\n",
    "fig_u.update_layout(title=\"Dose–response: U vs β\", xaxis_title=\"β\", yaxis_title=\"U (Unnecessary abstention)\")\n",
    "fig_u.show()\n",
    "\n",
    "# 4) Four-bucket stacked bars\n",
    "bucket_levels = [\"T&I\",\"T&¬I\",\"¬T&I\",\"¬T&¬I\"]\n",
    "counts_per_beta = {}\n",
    "for b in BETA_ORDER:\n",
    "    buckets = [df_map[b][q][\"bucket\"] for q in qids]\n",
    "    counts = Counter(buckets)\n",
    "    counts_per_beta[b] = [counts.get(l,0) for l in bucket_levels]\n",
    "props = {b: np.array(counts_per_beta[b]) / sum(counts_per_beta[b]) for b in BETA_ORDER}\n",
    "fig_stack = go.Figure()\n",
    "for i, lab in enumerate(bucket_levels):\n",
    "    fig_stack.add_trace(go.Bar(name=lab, x=BETA_ORDER, y=[props[b][i] for b in BETA_ORDER]))\n",
    "fig_stack.update_layout(barmode='stack', title=\"Four-bucket breakdown (pooled held-out folds)\", xaxis_title=\"β\", yaxis_title=\"Proportion\")\n",
    "fig_stack.show()\n",
    "\n",
    "# 5) Transition butterflies (β=1 → β∈{0,2,5,10})\n",
    "def transitions(base_df, tgt_df, qids):\n",
    "    trans = Counter()\n",
    "    for q in qids:\n",
    "        a = base_df[q][\"bucket\"]; b = tgt_df[q][\"bucket\"]\n",
    "        trans[(a,b)] += 1\n",
    "    return trans\n",
    "\n",
    "for b in [bb for bb in BETA_ORDER if bb != BASELINE_BETA]:\n",
    "    trans = transitions(df_map[BASELINE_BETA], df_map[b], qids)\n",
    "    flows = [(\"T&I\",\"T&¬I\"), (\"¬T&I\",\"T&I\"), (\"T&I\",\"¬T&I\"), (\"¬T&I\",\"T&¬I\")]\n",
    "    ycats = [f\"{a}→{c}\" for (a,c) in flows]\n",
    "    vals = [trans.get((a,c), 0) for (a,c) in flows]\n",
    "    x_vals = [-vals[0], vals[1], -vals[2], vals[3]]\n",
    "    fig_bfly = go.Figure()\n",
    "    fig_bfly.add_trace(go.Bar(y=ycats, x=x_vals, orientation='h'))\n",
    "    fig_bfly.update_layout(title=f\"Transitions β=1 → β={b}\", xaxis_title=\"Count (left negative, right positive)\")\n",
    "    fig_bfly.add_vline(x=0, line_dash=\"dash\")\n",
    "    fig_bfly.show()\n"
   ]
  },
  {
   "cell_type": "markdown",
   "id": "8eb7d60a",
   "metadata": {},
   "source": [
    "## 6) β=1 replication across seeds (descriptive only)"
   ]
  },
  {
   "cell_type": "code",
   "execution_count": 7,
   "id": "e8221949",
   "metadata": {},
   "outputs": [
    {
     "name": "stdout",
     "output_type": "stream",
     "text": [
      "β=1 replication (by seed):\n"
     ]
    },
    {
     "data": {
      "text/html": [
       "<div>\n",
       "<style scoped>\n",
       "    .dataframe tbody tr th:only-of-type {\n",
       "        vertical-align: middle;\n",
       "    }\n",
       "\n",
       "    .dataframe tbody tr th {\n",
       "        vertical-align: top;\n",
       "    }\n",
       "\n",
       "    .dataframe thead th {\n",
       "        text-align: right;\n",
       "    }\n",
       "</style>\n",
       "<table border=\"1\" class=\"dataframe\">\n",
       "  <thead>\n",
       "    <tr style=\"text-align: right;\">\n",
       "      <th></th>\n",
       "      <th>truth_bin_mean</th>\n",
       "      <th>info_bin_mean</th>\n",
       "    </tr>\n",
       "    <tr>\n",
       "      <th>seed</th>\n",
       "      <th></th>\n",
       "      <th></th>\n",
       "    </tr>\n",
       "  </thead>\n",
       "  <tbody>\n",
       "    <tr>\n",
       "      <th>42</th>\n",
       "      <td>0.920253</td>\n",
       "      <td>0.594937</td>\n",
       "    </tr>\n",
       "  </tbody>\n",
       "</table>\n",
       "</div>"
      ],
      "text/plain": [
       "      truth_bin_mean  info_bin_mean\n",
       "seed                               \n",
       "42          0.920253       0.594937"
      ]
     },
     "metadata": {},
     "output_type": "display_data"
    }
   ],
   "source": [
    "\n",
    "if \"seed\" in df.columns:\n",
    "    b1 = df[df[\"beta\"]==BASELINE_BETA].copy()\n",
    "    if len(b1)>0 and b1[\"seed\"].notna().any():\n",
    "        if use_binary:\n",
    "            rep = b1.groupby(\"seed\")[[TRUTH_BIN_COL, INFO_BIN_COL]].mean().rename(\n",
    "                columns={TRUTH_BIN_COL:\"truth_bin_mean\", INFO_BIN_COL:\"info_bin_mean\"})\n",
    "        else:\n",
    "            rep = b1.groupby(\"seed\")[[TRUTH_PROB_COL, INFO_PROB_COL]].mean().rename(\n",
    "                columns={TRUTH_PROB_COL:\"truth_prob_mean\", INFO_PROB_COL:\"info_prob_mean\"})\n",
    "        print(\"β=1 replication (by seed):\")\n",
    "        display(rep)\n",
    "else:\n",
    "    print(\"No seed column to show replication.\")\n"
   ]
  },
  {
   "cell_type": "markdown",
   "id": "68841d93",
   "metadata": {},
   "source": [
    "## 7) Optional aggregates from `summary_dump` (MC1/MC2/CE/KL)"
   ]
  },
  {
   "cell_type": "code",
   "execution_count": 8,
   "id": "e4c92f01",
   "metadata": {},
   "outputs": [
    {
     "data": {
      "text/html": [
       "<div>\n",
       "<style scoped>\n",
       "    .dataframe tbody tr th:only-of-type {\n",
       "        vertical-align: middle;\n",
       "    }\n",
       "\n",
       "    .dataframe tbody tr th {\n",
       "        vertical-align: top;\n",
       "    }\n",
       "\n",
       "    .dataframe thead th {\n",
       "        text-align: right;\n",
       "    }\n",
       "</style>\n",
       "<table border=\"1\" class=\"dataframe\">\n",
       "  <thead>\n",
       "    <tr style=\"text-align: right;\">\n",
       "      <th></th>\n",
       "      <th>CE Loss</th>\n",
       "      <th>GPT-info acc</th>\n",
       "      <th>GPT-judge acc</th>\n",
       "      <th>KL wrt Orig</th>\n",
       "      <th>MC1</th>\n",
       "      <th>MC2</th>\n",
       "    </tr>\n",
       "    <tr>\n",
       "      <th>beta</th>\n",
       "      <th></th>\n",
       "      <th></th>\n",
       "      <th></th>\n",
       "      <th></th>\n",
       "      <th></th>\n",
       "      <th></th>\n",
       "    </tr>\n",
       "  </thead>\n",
       "  <tbody>\n",
       "    <tr>\n",
       "      <th>0.0</th>\n",
       "      <td>2.717855</td>\n",
       "      <td>0.583544</td>\n",
       "      <td>0.918987</td>\n",
       "      <td>0.0</td>\n",
       "      <td>0.372152</td>\n",
       "      <td>0.572919</td>\n",
       "    </tr>\n",
       "    <tr>\n",
       "      <th>1.0</th>\n",
       "      <td>2.717855</td>\n",
       "      <td>0.594937</td>\n",
       "      <td>0.920253</td>\n",
       "      <td>0.0</td>\n",
       "      <td>0.372152</td>\n",
       "      <td>0.572919</td>\n",
       "    </tr>\n",
       "    <tr>\n",
       "      <th>2.0</th>\n",
       "      <td>2.717855</td>\n",
       "      <td>0.598734</td>\n",
       "      <td>0.920253</td>\n",
       "      <td>0.0</td>\n",
       "      <td>0.372152</td>\n",
       "      <td>0.572919</td>\n",
       "    </tr>\n",
       "    <tr>\n",
       "      <th>5.0</th>\n",
       "      <td>2.717855</td>\n",
       "      <td>0.591139</td>\n",
       "      <td>0.930380</td>\n",
       "      <td>0.0</td>\n",
       "      <td>0.372152</td>\n",
       "      <td>0.572919</td>\n",
       "    </tr>\n",
       "    <tr>\n",
       "      <th>10.0</th>\n",
       "      <td>2.717855</td>\n",
       "      <td>0.556962</td>\n",
       "      <td>0.945570</td>\n",
       "      <td>0.0</td>\n",
       "      <td>0.372152</td>\n",
       "      <td>0.572919</td>\n",
       "    </tr>\n",
       "  </tbody>\n",
       "</table>\n",
       "</div>"
      ],
      "text/plain": [
       "       CE Loss  GPT-info acc  GPT-judge acc  KL wrt Orig       MC1       MC2\n",
       "beta                                                                        \n",
       "0.0   2.717855      0.583544       0.918987          0.0  0.372152  0.572919\n",
       "1.0   2.717855      0.594937       0.920253          0.0  0.372152  0.572919\n",
       "2.0   2.717855      0.598734       0.920253          0.0  0.372152  0.572919\n",
       "5.0   2.717855      0.591139       0.930380          0.0  0.372152  0.572919\n",
       "10.0  2.717855      0.556962       0.945570          0.0  0.372152  0.572919"
      ]
     },
     "metadata": {},
     "output_type": "display_data"
    }
   ],
   "source": [
    "## Load summary_dump aggregates (MC1/MC2/CE Loss/KL)\n",
    "\n",
    "def parse_meta_from_name(name):\n",
    "    m_alpha = re.search(r'(?:^|[_-])alpha[_-](\\d+)', name)\n",
    "    m_fold  = re.search(r'(?:^|[_-])fold[_-](\\d+)', name)\n",
    "    m_beta  = re.search(r'(?:^|[_-])beta[_-]([0-9]+(?:\\.[0-9]+)?)', name)\n",
    "    alpha = int(m_alpha.group(1)) if m_alpha else None\n",
    "    fold  = int(m_fold.group(1)) if m_fold else None\n",
    "    beta  = float(m_beta.group(1)) if m_beta else 1.0\n",
    "    return alpha, fold, beta\n",
    "\n",
    "\n",
    "records = []\n",
    "for g in SUMMARY_GLOBS:\n",
    "    for path in glob.glob(g):\n",
    "        base = os.path.basename(path)\n",
    "        try:\n",
    "            tdf = pd.read_csv(path)\n",
    "        except Exception as e:\n",
    "            print(\"Skipping unreadable summary_dump:\", base, e); continue\n",
    "        alpha, fold, beta = parse_meta_from_name(base)\n",
    "        row = {\"alpha\": alpha, \"fold\": fold, \"beta\": beta, \"file\": base}\n",
    "        cols = [c.strip() for c in tdf.columns]\n",
    "        if \"MC1\" in cols and \"MC2\" in cols and \"GPT-judge acc\" in cols:\n",
    "            row[\"MC1\"] = float(tdf.loc[0, \"MC1\"])\n",
    "            row[\"MC2\"] = float(tdf.loc[0, \"MC2\"])\n",
    "            row[\"GPT-judge acc\"] = float(tdf.loc[0, \"GPT-judge acc\"])\n",
    "            if \"GPT-info acc\" in tdf.columns:\n",
    "                row[\"GPT-info acc\"] = float(tdf.loc[0, \"GPT-info acc\"])\n",
    "        if \"CE Loss\" in cols and \"KL wrt Orig\" in cols:\n",
    "            row[\"CE Loss\"] = float(tdf.loc[0, \"CE Loss\"])\n",
    "            row[\"KL wrt Orig\"] = float(tdf.loc[0, \"KL wrt Orig\"])\n",
    "        records.append(row)\n",
    "\n",
    "summary_dump = pd.DataFrame.from_records(records)\n",
    "summary_dump.sort_values(\"file\").drop_duplicates(subset=[\"alpha\",\"fold\",\"beta\"], keep=\"last\")\n",
    "\n",
    "\n",
    "\n",
    "# Average summary_dump metrics across folds, indexed by beta\n",
    "if not summary_dump.empty:\n",
    "    # Only average numeric columns, group by beta\n",
    "    numeric_cols = summary_dump.select_dtypes(include=[np.number]).columns.difference(['fold', 'alpha', 'beta'])\n",
    "    avg_summary = summary_dump.groupby(\"beta\")[numeric_cols].mean()\n",
    "    display(avg_summary)\n",
    "else:\n",
    "    print(\"No summary_dump data to average.\")"
   ]
  },
  {
   "cell_type": "markdown",
   "id": "d9ee948e",
   "metadata": {},
   "source": [
    "# Soft-Label Analyses Add-on (Frequentist + Bayesian)\n",
    "\n",
    "This block adds:\n",
    "1) **Proper scoring rules** (paired Brier & Log-loss) for **Truth** and **Informativeness** — with paired bootstrap CIs and Wilcoxon signed-rank p-values (vs β=1).\n",
    "2) **Bayesian bootstrap** over items to estimate:\n",
    "   - Pr(ΔTI > 0) using **expected TI** from probabilities,\n",
    "   - Pr(ΔH < 0) using **expected H** from probabilities.\n",
    "3) **Calibration checks** by β (reliability curves + ECE) for Truth and Informativeness (Plotly figures).\n",
    "4) *(Optional)* **Soft-U** sensitivity (expected U using probabilities) with Bayesian bootstrap CIs.\n",
    "\n",
    "**Assumptions / dependencies from earlier notebook cells:**\n",
    "- `df` contains pooled held-out rows across folds with columns:\n",
    "  - Binary: `TRUTH_BIN_COL`, `INFO_BIN_COL` (0/1).\n",
    "  - Probabilities: `TRUTH_PROB_COL`, `INFO_PROB_COL` in [0,1].\n",
    "  - Metadata: `beta`, `Question`, and optional `seed`.\n",
    "- `BETA_ORDER`, `BASELINE_BETA`, `PRIMARY_SEED` are set.\n",
    "- Plotly is available and figures should be shown inline (no saving).\n"
   ]
  },
  {
   "cell_type": "code",
   "execution_count": 9,
   "id": "2cc8785e",
   "metadata": {},
   "outputs": [],
   "source": [
    "# ---- Safety checks on required columns ----\n",
    "req_cols = [TRUTH_PROB_COL, INFO_PROB_COL, TRUTH_BIN_COL, INFO_BIN_COL, \"beta\", \"Question\"]\n",
    "missing = [c for c in req_cols if c not in df.columns]\n",
    "assert not missing, f\"Missing required columns for soft-label analysis: {missing}\"\n",
    "\n",
    "# ---- Helper: choose deterministically one seed per β (same rule as in the core analysis) ----\n",
    "def _choose_seed_for_beta(sub, beta):\n",
    "    if \"seed\" in sub.columns and sub[\"seed\"].notna().any():\n",
    "        seeds = sorted(sub[\"seed\"].dropna().unique().tolist())\n",
    "        if beta == BASELINE_BETA and (PRIMARY_SEED is not None) and (PRIMARY_SEED in seeds):\n",
    "            return PRIMARY_SEED\n",
    "        # otherwise choose smallest seed deterministically\n",
    "        return seeds[0]\n",
    "    return None\n",
    "\n",
    "# ---- Extract a tidy frame per β with paired data: (Question, yT, yI, pT, pI) ----\n",
    "def get_beta_frame(beta: float) -> pd.DataFrame:\n",
    "    sub = df[df[\"beta\"] == float(beta)].copy()\n",
    "    chosen = _choose_seed_for_beta(sub, beta)\n",
    "    if chosen is not None:\n",
    "        sub = sub[sub[\"seed\"] == chosen].copy()\n",
    "    # Ensure numeric types\n",
    "    sub = sub.copy()\n",
    "    sub[TRUTH_BIN_COL] = sub[TRUTH_BIN_COL].astype(int)\n",
    "    sub[INFO_BIN_COL]  = sub[INFO_BIN_COL].astype(int)\n",
    "    sub[TRUTH_PROB_COL] = sub[TRUTH_PROB_COL].astype(float).clip(0.0, 1.0)\n",
    "    sub[INFO_PROB_COL]  = sub[INFO_PROB_COL].astype(float).clip(0.0, 1.0)\n",
    "\n",
    "    out = sub[[\"Question\", TRUTH_BIN_COL, INFO_BIN_COL, TRUTH_PROB_COL, INFO_PROB_COL]].rename(\n",
    "        columns={\n",
    "            TRUTH_BIN_COL: \"yT\",\n",
    "            INFO_BIN_COL: \"yI\",\n",
    "            TRUTH_PROB_COL: \"pT\",\n",
    "            INFO_PROB_COL: \"pI\",\n",
    "        }\n",
    "    ).dropna(subset=[\"Question\"])\n",
    "    return out\n",
    "\n",
    "# ---- Pair questions across all β as in the core analysis ----\n",
    "frames_by_beta_soft = {b: get_beta_frame(b) for b in BETA_ORDER}\n",
    "common_qs = None\n",
    "for b, d in frames_by_beta_soft.items():\n",
    "    s = set(d[\"Question\"])\n",
    "    common_qs = s if common_qs is None else (common_qs & s)\n",
    "paired_qids_soft = sorted(list(common_qs))\n",
    "assert len(paired_qids_soft) > 0, \"No overlapping questions across β for soft-label analyses.\"\n",
    "\n",
    "# Index frames to paired set\n",
    "for b in BETA_ORDER:\n",
    "    frames_by_beta_soft[b] = frames_by_beta_soft[b][frames_by_beta_soft[b][\"Question\"].isin(paired_qids_soft)].set_index(\"Question\").sort_index()\n"
   ]
  },
  {
   "cell_type": "markdown",
   "id": "f93d2417",
   "metadata": {},
   "source": [
    "## 1) Proper Scoring Rules (Paired) — Brier & Log-loss for T and I\n",
    "We compare each β to baseline (β=1) using per-item **score differences**:\n",
    "- **Brier**: (p − y)^2\n",
    "- **Log-loss**: −[y·log(p) + (1−y)·log(1−p)], with clipping for stability\n",
    "\n",
    "We compute:\n",
    "- Mean Δ (β − baseline)\n",
    "- 95% paired bootstrap CI on the mean Δ\n",
    "- Wilcoxon signed-rank p-value on per-item Δ"
   ]
  },
  {
   "cell_type": "code",
   "execution_count": 11,
   "id": "5a1a4678",
   "metadata": {},
   "outputs": [
    {
     "data": {
      "text/html": [
       "<div>\n",
       "<style scoped>\n",
       "    .dataframe tbody tr th:only-of-type {\n",
       "        vertical-align: middle;\n",
       "    }\n",
       "\n",
       "    .dataframe tbody tr th {\n",
       "        vertical-align: top;\n",
       "    }\n",
       "\n",
       "    .dataframe thead th {\n",
       "        text-align: right;\n",
       "    }\n",
       "</style>\n",
       "<table border=\"1\" class=\"dataframe\">\n",
       "  <thead>\n",
       "    <tr style=\"text-align: right;\">\n",
       "      <th></th>\n",
       "      <th></th>\n",
       "      <th></th>\n",
       "      <th>mean_delta</th>\n",
       "      <th>ci_lo</th>\n",
       "      <th>ci_hi</th>\n",
       "      <th>wilcoxon_p</th>\n",
       "    </tr>\n",
       "    <tr>\n",
       "      <th>metric</th>\n",
       "      <th>target</th>\n",
       "      <th>beta</th>\n",
       "      <th></th>\n",
       "      <th></th>\n",
       "      <th></th>\n",
       "      <th></th>\n",
       "    </tr>\n",
       "  </thead>\n",
       "  <tbody>\n",
       "    <tr>\n",
       "      <th rowspan=\"4\" valign=\"top\">brier</th>\n",
       "      <th rowspan=\"4\" valign=\"top\">yT</th>\n",
       "      <th>0</th>\n",
       "      <td>-0.00010</td>\n",
       "      <td>-0.00128</td>\n",
       "      <td>0.00106</td>\n",
       "      <td>0.84552</td>\n",
       "    </tr>\n",
       "    <tr>\n",
       "      <th>2</th>\n",
       "      <td>-0.00096</td>\n",
       "      <td>-0.00215</td>\n",
       "      <td>0.00011</td>\n",
       "      <td>0.01683</td>\n",
       "    </tr>\n",
       "    <tr>\n",
       "      <th>5</th>\n",
       "      <td>0.00003</td>\n",
       "      <td>-0.00165</td>\n",
       "      <td>0.00169</td>\n",
       "      <td>0.10484</td>\n",
       "    </tr>\n",
       "    <tr>\n",
       "      <th>10</th>\n",
       "      <td>-0.00028</td>\n",
       "      <td>-0.00194</td>\n",
       "      <td>0.00133</td>\n",
       "      <td>0.00880</td>\n",
       "    </tr>\n",
       "    <tr>\n",
       "      <th rowspan=\"4\" valign=\"top\">logloss</th>\n",
       "      <th rowspan=\"4\" valign=\"top\">yT</th>\n",
       "      <th>0</th>\n",
       "      <td>-0.00047</td>\n",
       "      <td>-0.00420</td>\n",
       "      <td>0.00315</td>\n",
       "      <td>0.79997</td>\n",
       "    </tr>\n",
       "    <tr>\n",
       "      <th>2</th>\n",
       "      <td>-0.00364</td>\n",
       "      <td>-0.00739</td>\n",
       "      <td>-0.00016</td>\n",
       "      <td>0.01862</td>\n",
       "    </tr>\n",
       "    <tr>\n",
       "      <th>5</th>\n",
       "      <td>0.00015</td>\n",
       "      <td>-0.00524</td>\n",
       "      <td>0.00544</td>\n",
       "      <td>0.11966</td>\n",
       "    </tr>\n",
       "    <tr>\n",
       "      <th>10</th>\n",
       "      <td>-0.00164</td>\n",
       "      <td>-0.00697</td>\n",
       "      <td>0.00347</td>\n",
       "      <td>0.00796</td>\n",
       "    </tr>\n",
       "    <tr>\n",
       "      <th rowspan=\"4\" valign=\"top\">brier</th>\n",
       "      <th rowspan=\"4\" valign=\"top\">yI</th>\n",
       "      <th>0</th>\n",
       "      <td>-0.00020</td>\n",
       "      <td>-0.00131</td>\n",
       "      <td>0.00091</td>\n",
       "      <td>0.38726</td>\n",
       "    </tr>\n",
       "    <tr>\n",
       "      <th>2</th>\n",
       "      <td>-0.00064</td>\n",
       "      <td>-0.00181</td>\n",
       "      <td>0.00033</td>\n",
       "      <td>0.01929</td>\n",
       "    </tr>\n",
       "    <tr>\n",
       "      <th>5</th>\n",
       "      <td>0.00017</td>\n",
       "      <td>-0.00133</td>\n",
       "      <td>0.00159</td>\n",
       "      <td>0.00291</td>\n",
       "    </tr>\n",
       "    <tr>\n",
       "      <th>10</th>\n",
       "      <td>0.00079</td>\n",
       "      <td>-0.00083</td>\n",
       "      <td>0.00253</td>\n",
       "      <td>0.00001</td>\n",
       "    </tr>\n",
       "    <tr>\n",
       "      <th rowspan=\"4\" valign=\"top\">logloss</th>\n",
       "      <th rowspan=\"4\" valign=\"top\">yI</th>\n",
       "      <th>0</th>\n",
       "      <td>-0.00078</td>\n",
       "      <td>-0.00410</td>\n",
       "      <td>0.00262</td>\n",
       "      <td>0.35716</td>\n",
       "    </tr>\n",
       "    <tr>\n",
       "      <th>2</th>\n",
       "      <td>-0.00115</td>\n",
       "      <td>-0.00466</td>\n",
       "      <td>0.00192</td>\n",
       "      <td>0.01760</td>\n",
       "    </tr>\n",
       "    <tr>\n",
       "      <th>5</th>\n",
       "      <td>0.00154</td>\n",
       "      <td>-0.00324</td>\n",
       "      <td>0.00609</td>\n",
       "      <td>0.00253</td>\n",
       "    </tr>\n",
       "    <tr>\n",
       "      <th>10</th>\n",
       "      <td>0.00364</td>\n",
       "      <td>-0.00161</td>\n",
       "      <td>0.00927</td>\n",
       "      <td>0.00001</td>\n",
       "    </tr>\n",
       "  </tbody>\n",
       "</table>\n",
       "</div>"
      ],
      "text/plain": [
       "                     mean_delta    ci_lo    ci_hi  wilcoxon_p\n",
       "metric  target beta                                          \n",
       "brier   yT     0       -0.00010 -0.00128  0.00106     0.84552\n",
       "               2       -0.00096 -0.00215  0.00011     0.01683\n",
       "               5        0.00003 -0.00165  0.00169     0.10484\n",
       "               10      -0.00028 -0.00194  0.00133     0.00880\n",
       "logloss yT     0       -0.00047 -0.00420  0.00315     0.79997\n",
       "               2       -0.00364 -0.00739 -0.00016     0.01862\n",
       "               5        0.00015 -0.00524  0.00544     0.11966\n",
       "               10      -0.00164 -0.00697  0.00347     0.00796\n",
       "brier   yI     0       -0.00020 -0.00131  0.00091     0.38726\n",
       "               2       -0.00064 -0.00181  0.00033     0.01929\n",
       "               5        0.00017 -0.00133  0.00159     0.00291\n",
       "               10       0.00079 -0.00083  0.00253     0.00001\n",
       "logloss yI     0       -0.00078 -0.00410  0.00262     0.35716\n",
       "               2       -0.00115 -0.00466  0.00192     0.01760\n",
       "               5        0.00154 -0.00324  0.00609     0.00253\n",
       "               10       0.00364 -0.00161  0.00927     0.00001"
      ]
     },
     "metadata": {},
     "output_type": "display_data"
    }
   ],
   "source": [
    "from numpy.random import default_rng\n",
    "from scipy.stats import wilcoxon\n",
    "\n",
    "def brier(y, p):\n",
    "    return (p - y)**2\n",
    "\n",
    "def log_loss(y, p, eps=1e-12):\n",
    "    p = np.clip(p, eps, 1-eps)\n",
    "    return -(y*np.log(p) + (1-y)*np.log(1-p))\n",
    "\n",
    "def paired_bootstrap_ci(deltas, n_boot=10000, seed=2025):\n",
    "    rng = default_rng(seed)\n",
    "    n = len(deltas)\n",
    "    means = []\n",
    "    idx = np.arange(n)\n",
    "    for _ in range(n_boot):\n",
    "        b = rng.choice(idx, size=n, replace=True)\n",
    "        means.append(np.mean(deltas[b]))\n",
    "    lo, hi = np.percentile(means, [2.5, 97.5])\n",
    "    return float(np.mean(deltas)), float(lo), float(hi)\n",
    "\n",
    "def compute_scoring_comparison(metric_name, y_col, p_col):\n",
    "    base = frames_by_beta_soft[BASELINE_BETA]\n",
    "    y_base = base[y_col].values\n",
    "    p_base = base[p_col].values\n",
    "    res_rows = []\n",
    "    for b in [bb for bb in BETA_ORDER if bb != BASELINE_BETA]:\n",
    "        tgt = frames_by_beta_soft[b].reindex(base.index)  # align by Question\n",
    "        y_tgt = tgt[y_col].values\n",
    "        p_tgt = tgt[p_col].values\n",
    "\n",
    "        # Sanity: y should match baseline ground-truth (same questions & labels)\n",
    "        # (Judges are the same; we keep y from tgt just for completeness)\n",
    "        # Compute per-item deltas vs baseline\n",
    "        if metric_name == \"brier\":\n",
    "            s_base = brier(y_base, p_base)\n",
    "            s_tgt  = brier(y_tgt,  p_tgt)\n",
    "        elif metric_name == \"logloss\":\n",
    "            s_base = log_loss(y_base, p_base)\n",
    "            s_tgt  = log_loss(y_tgt,  p_tgt)\n",
    "        else:\n",
    "            raise ValueError(\"Unknown metric_name\")\n",
    "\n",
    "        deltas = s_tgt - s_base\n",
    "        mean_delta, lo, hi = paired_bootstrap_ci(deltas)\n",
    "        try:\n",
    "            w_p = wilcoxon(deltas, zero_method=\"wilcox\", alternative=\"two-sided\").pvalue\n",
    "        except Exception:\n",
    "            w_p = np.nan\n",
    "\n",
    "        res_rows.append(dict(\n",
    "            beta=b, metric=metric_name, target=y_col,\n",
    "            mean_delta=mean_delta, ci_lo=lo, ci_hi=hi, wilcoxon_p=w_p\n",
    "        ))\n",
    "    return pd.DataFrame(res_rows).set_index([\"metric\",\"target\",\"beta\"]).sort_index()\n",
    "\n",
    "# Truth scoring comparisons\n",
    "score_truth_brier  = compute_scoring_comparison(\"brier\",  y_col=\"yT\", p_col=\"pT\")\n",
    "score_truth_ll     = compute_scoring_comparison(\"logloss\",y_col=\"yT\", p_col=\"pT\")\n",
    "# Informativeness scoring comparisons\n",
    "score_info_brier   = compute_scoring_comparison(\"brier\",  y_col=\"yI\", p_col=\"pI\")\n",
    "score_info_ll      = compute_scoring_comparison(\"logloss\",y_col=\"yI\", p_col=\"pI\")\n",
    "\n",
    "scoring_table = pd.concat([score_truth_brier, score_truth_ll, score_info_brier, score_info_ll])\n",
    "display(scoring_table.round(5))\n"
   ]
  },
  {
   "cell_type": "markdown",
   "id": "3e0bca7c",
   "metadata": {},
   "source": [
    "## 2) Bayesian Bootstrap on Expected TI / H\n",
    "We compute per-item **expected** outcomes from probabilities:\n",
    "- **E[TI] = pT · pI**\n",
    "- **E[H]  = (1 − pT) · pI**\n",
    "For each β, we form per-item deltas vs baseline and run a **Bayesian bootstrap** to get:\n",
    "- Posterior for the **mean ΔTI** and **Pr(ΔTI > 0)**\n",
    "- Posterior for the **mean ΔH**  and **Pr(ΔH < 0)**"
   ]
  },
  {
   "cell_type": "code",
   "execution_count": 12,
   "id": "34b7a0b7",
   "metadata": {},
   "outputs": [
    {
     "data": {
      "text/html": [
       "<div>\n",
       "<style scoped>\n",
       "    .dataframe tbody tr th:only-of-type {\n",
       "        vertical-align: middle;\n",
       "    }\n",
       "\n",
       "    .dataframe tbody tr th {\n",
       "        vertical-align: top;\n",
       "    }\n",
       "\n",
       "    .dataframe thead th {\n",
       "        text-align: right;\n",
       "    }\n",
       "</style>\n",
       "<table border=\"1\" class=\"dataframe\">\n",
       "  <thead>\n",
       "    <tr style=\"text-align: right;\">\n",
       "      <th></th>\n",
       "      <th>dTI_mean</th>\n",
       "      <th>dTI_lo</th>\n",
       "      <th>dTI_hi</th>\n",
       "      <th>Pr_dTI_gt0</th>\n",
       "      <th>dH_mean</th>\n",
       "      <th>dH_lo</th>\n",
       "      <th>dH_hi</th>\n",
       "      <th>Pr_dH_lt0</th>\n",
       "    </tr>\n",
       "    <tr>\n",
       "      <th>beta</th>\n",
       "      <th></th>\n",
       "      <th></th>\n",
       "      <th></th>\n",
       "      <th></th>\n",
       "      <th></th>\n",
       "      <th></th>\n",
       "      <th></th>\n",
       "      <th></th>\n",
       "    </tr>\n",
       "  </thead>\n",
       "  <tbody>\n",
       "    <tr>\n",
       "      <th>0</th>\n",
       "      <td>-0.00975</td>\n",
       "      <td>-0.02387</td>\n",
       "      <td>0.00361</td>\n",
       "      <td>0.0786</td>\n",
       "      <td>-0.00144</td>\n",
       "      <td>-0.01266</td>\n",
       "      <td>0.00937</td>\n",
       "      <td>0.6084</td>\n",
       "    </tr>\n",
       "    <tr>\n",
       "      <th>2</th>\n",
       "      <td>0.00493</td>\n",
       "      <td>-0.00943</td>\n",
       "      <td>0.01953</td>\n",
       "      <td>0.7520</td>\n",
       "      <td>-0.00045</td>\n",
       "      <td>-0.01071</td>\n",
       "      <td>0.00978</td>\n",
       "      <td>0.5302</td>\n",
       "    </tr>\n",
       "    <tr>\n",
       "      <th>5</th>\n",
       "      <td>0.00664</td>\n",
       "      <td>-0.01696</td>\n",
       "      <td>0.02985</td>\n",
       "      <td>0.7092</td>\n",
       "      <td>-0.00993</td>\n",
       "      <td>-0.02601</td>\n",
       "      <td>0.00578</td>\n",
       "      <td>0.8970</td>\n",
       "    </tr>\n",
       "    <tr>\n",
       "      <th>10</th>\n",
       "      <td>-0.01165</td>\n",
       "      <td>-0.03860</td>\n",
       "      <td>0.01511</td>\n",
       "      <td>0.1968</td>\n",
       "      <td>-0.02765</td>\n",
       "      <td>-0.04484</td>\n",
       "      <td>-0.01023</td>\n",
       "      <td>0.9978</td>\n",
       "    </tr>\n",
       "  </tbody>\n",
       "</table>\n",
       "</div>"
      ],
      "text/plain": [
       "      dTI_mean   dTI_lo   dTI_hi  Pr_dTI_gt0  dH_mean    dH_lo    dH_hi  \\\n",
       "beta                                                                      \n",
       "0     -0.00975 -0.02387  0.00361      0.0786 -0.00144 -0.01266  0.00937   \n",
       "2      0.00493 -0.00943  0.01953      0.7520 -0.00045 -0.01071  0.00978   \n",
       "5      0.00664 -0.01696  0.02985      0.7092 -0.00993 -0.02601  0.00578   \n",
       "10    -0.01165 -0.03860  0.01511      0.1968 -0.02765 -0.04484 -0.01023   \n",
       "\n",
       "      Pr_dH_lt0  \n",
       "beta             \n",
       "0        0.6084  \n",
       "2        0.5302  \n",
       "5        0.8970  \n",
       "10       0.9978  "
      ]
     },
     "metadata": {},
     "output_type": "display_data"
    }
   ],
   "source": [
    "# %%\n",
    "def bayes_bootstrap_weights(n, rng):\n",
    "    # Dirichlet(1,...,1) via Gamma(1,1) normalized\n",
    "    w = rng.gamma(shape=1.0, scale=1.0, size=n)\n",
    "    return w / w.sum()\n",
    "\n",
    "def bayes_bootstrap_posterior(delta, B=5000, seed=2025):\n",
    "    rng = default_rng(seed)\n",
    "    n = len(delta)\n",
    "    post_means = np.empty(B, dtype=float)\n",
    "    for b in range(B):\n",
    "        w = bayes_bootstrap_weights(n, rng)\n",
    "        post_means[b] = float(np.sum(w * delta))\n",
    "    return post_means\n",
    "\n",
    "def expected_metrics_from_probs(frame):\n",
    "    # frame: index=Question, columns yT,yI,pT,pI\n",
    "    pT = frame[\"pT\"].values\n",
    "    pI = frame[\"pI\"].values\n",
    "    e_TI = pT * pI\n",
    "    e_H  = (1.0 - pT) * pI\n",
    "    return e_TI, e_H\n",
    "\n",
    "bayes_rows = []\n",
    "base_frame = frames_by_beta_soft[BASELINE_BETA]\n",
    "\n",
    "eTI_base, eH_base = expected_metrics_from_probs(base_frame)\n",
    "for b in [bb for bb in BETA_ORDER if bb != BASELINE_BETA]:\n",
    "    tgt = frames_by_beta_soft[b].reindex(base_frame.index)\n",
    "    eTI_tgt, eH_tgt = expected_metrics_from_probs(tgt)\n",
    "\n",
    "    dTI = eTI_tgt - eTI_base\n",
    "    dH  = eH_tgt  - eH_base\n",
    "\n",
    "    # Bayesian bootstrap posteriors\n",
    "    post_dTI = bayes_bootstrap_posterior(dTI, B=5000, seed=2025)\n",
    "    post_dH  = bayes_bootstrap_posterior(dH,  B=5000, seed=2026)\n",
    "\n",
    "    pr_dTI_pos = float((post_dTI > 0).mean())\n",
    "    pr_dH_neg  = float((post_dH  < 0).mean())\n",
    "\n",
    "    dTI_ci = (float(np.quantile(post_dTI, 0.025)), float(np.quantile(post_dTI, 0.975)))\n",
    "    dH_ci  = (float(np.quantile(post_dH,  0.025)), float(np.quantile(post_dH,  0.975)))\n",
    "\n",
    "    bayes_rows.append(dict(\n",
    "        beta=b,\n",
    "        dTI_mean=float(post_dTI.mean()), dTI_lo=dTI_ci[0], dTI_hi=dTI_ci[1], Pr_dTI_gt0=pr_dTI_pos,\n",
    "        dH_mean=float(post_dH.mean()),   dH_lo=dH_ci[0],   dH_hi=dH_ci[1],   Pr_dH_lt0=pr_dH_neg\n",
    "    ))\n",
    "\n",
    "bayes_bb_table = pd.DataFrame(bayes_rows).set_index(\"beta\").sort_index()\n",
    "display(bayes_bb_table.round(5))\n"
   ]
  },
  {
   "cell_type": "markdown",
   "id": "e7e8ea76",
   "metadata": {},
   "source": [
    "## 3) Calibration Checks by β (Reliability + ECE)\n",
    "For **Truth** and **Informativeness**:\n",
    "- Make reliability curves by binning **probabilities** into deciles and plotting **mean predicted vs empirical rate** (using binary labels).\n",
    "- Compute **ECE** (Expected Calibration Error) as ∑_bins |acc−conf|·(n/N).\n",
    "\n",
    "*Note:* We do **not** recalibrate here; this is diagnostic to see if calibration differs across β.\n"
   ]
  },
  {
   "cell_type": "code",
   "execution_count": 13,
   "id": "6b64f651",
   "metadata": {},
   "outputs": [
    {
     "data": {
      "application/vnd.plotly.v1+json": {
       "config": {
        "plotlyServerURL": "https://plot.ly"
       },
       "data": [
        {
         "line": {
          "dash": "dash"
         },
         "mode": "lines",
         "name": "Ideal",
         "type": "scatter",
         "x": [
          0,
          1
         ],
         "y": [
          0,
          1
         ]
        },
        {
         "mode": "lines+markers",
         "name": "β=0 (ECE=0.008, N=790)",
         "type": "scatter",
         "x": {
          "bdata": "O2j4AIvPiT////9nfj/EPwAAAMDWi9g/AAAAgGYF3D8AAAAA57/gPwAAADBZqeQ/VVVVtSRc6z/BFmzHFvLvPw==",
          "dtype": "f8"
         },
         "y": {
          "bdata": "AAAAAAAAAAAAAAAAAAAAAAAAAAAAAAAAAAAAAAAAAAAAAAAAAADwPwAAAAAAAPA/AAAAAAAA8D8AAAAAAADwPw==",
          "dtype": "f8"
         }
        },
        {
         "mode": "lines+markers",
         "name": "β=1 (ECE=0.009, N=790)",
         "type": "scatter",
         "x": {
          "bdata": "YRz6L2iuhz/+//9fg/TCPwAAAABz0tA/////nw871z8AAADgewrbP1VVVXWBSeE/AAAAcAjl5D8AAACgFyrpPwAAADhtcOs/xzdDA8X07z8=",
          "dtype": "f8"
         },
         "y": {
          "bdata": "AAAAAAAAAAAAAAAAAAAAAAAAAAAAAAAAAAAAAAAAAAAAAAAAAAAAAAAAAAAAAPA/AAAAAAAA8D8AAAAAAADwPwAAAAAAAPA/AAAAAAAA8D8=",
          "dtype": "f8"
         }
        },
        {
         "mode": "lines+markers",
         "name": "β=2 (ECE=0.006, N=790)",
         "type": "scatter",
         "x": {
          "bdata": "q33gL18rgT/////n0zPBPwAAACAYatU/AAAA4HsK2z+rqqqK5ULkPwAAABCe/Og/AAAASCxi6z8daGIaLfnvPw==",
          "dtype": "f8"
         },
         "y": {
          "bdata": "AAAAAAAAAAAAAAAAAAAAAAAAAAAAAAAAAAAAAAAAAAAAAAAAAADwPwAAAAAAAPA/AAAAAAAA8D8AAAAAAADwPw==",
          "dtype": "f8"
         }
        },
        {
         "mode": "lines+markers",
         "name": "β=5 (ECE=0.009, N=790)",
         "type": "scatter",
         "x": {
          "bdata": "AxdZBTlraT/////voTPBP////y8asM4/q6qqaoBZ3D8AAACgmB/hPwAAAHCR1OQ/AAAAgA1q6D+amZnpyXXrP4pxyg0F++8/",
          "dtype": "f8"
         },
         "y": {
          "bdata": "AAAAAAAAAAAAAAAAAAAAAAAAAAAAAAAAAAAAAAAAAAAAAAAAAADwPwAAAAAAAPA/AAAAAAAA8D8AAAAAAADwPwAAAAAAAPA/",
          "dtype": "f8"
         }
        },
        {
         "mode": "lines+markers",
         "name": "β=10 (ECE=0.007, N=790)",
         "type": "scatter",
         "x": {
          "bdata": "tXFqp+9aiT/9//9/mPC+P1VVVRUl7c8/AAAAAPJl2D8AAABASwLePwAAAMANmuI/AAAAYPhT5T9VVVW1g7TnPwAAAFiswus/5Q3YMqr47z8=",
          "dtype": "f8"
         },
         "y": {
          "bdata": "AAAAAAAAAAAAAAAAAAAAAAAAAAAAAAAAAAAAAAAAAAAAAAAAAAAAAAAAAAAAAPA/AAAAAAAA8D8AAAAAAADwPwAAAAAAAPA/AAAAAAAA8D8=",
          "dtype": "f8"
         }
        }
       ],
       "layout": {
        "template": {
         "data": {
          "bar": [
           {
            "error_x": {
             "color": "#2a3f5f"
            },
            "error_y": {
             "color": "#2a3f5f"
            },
            "marker": {
             "line": {
              "color": "#E5ECF6",
              "width": 0.5
             },
             "pattern": {
              "fillmode": "overlay",
              "size": 10,
              "solidity": 0.2
             }
            },
            "type": "bar"
           }
          ],
          "barpolar": [
           {
            "marker": {
             "line": {
              "color": "#E5ECF6",
              "width": 0.5
             },
             "pattern": {
              "fillmode": "overlay",
              "size": 10,
              "solidity": 0.2
             }
            },
            "type": "barpolar"
           }
          ],
          "carpet": [
           {
            "aaxis": {
             "endlinecolor": "#2a3f5f",
             "gridcolor": "white",
             "linecolor": "white",
             "minorgridcolor": "white",
             "startlinecolor": "#2a3f5f"
            },
            "baxis": {
             "endlinecolor": "#2a3f5f",
             "gridcolor": "white",
             "linecolor": "white",
             "minorgridcolor": "white",
             "startlinecolor": "#2a3f5f"
            },
            "type": "carpet"
           }
          ],
          "choropleth": [
           {
            "colorbar": {
             "outlinewidth": 0,
             "ticks": ""
            },
            "type": "choropleth"
           }
          ],
          "contour": [
           {
            "colorbar": {
             "outlinewidth": 0,
             "ticks": ""
            },
            "colorscale": [
             [
              0,
              "#0d0887"
             ],
             [
              0.1111111111111111,
              "#46039f"
             ],
             [
              0.2222222222222222,
              "#7201a8"
             ],
             [
              0.3333333333333333,
              "#9c179e"
             ],
             [
              0.4444444444444444,
              "#bd3786"
             ],
             [
              0.5555555555555556,
              "#d8576b"
             ],
             [
              0.6666666666666666,
              "#ed7953"
             ],
             [
              0.7777777777777778,
              "#fb9f3a"
             ],
             [
              0.8888888888888888,
              "#fdca26"
             ],
             [
              1,
              "#f0f921"
             ]
            ],
            "type": "contour"
           }
          ],
          "contourcarpet": [
           {
            "colorbar": {
             "outlinewidth": 0,
             "ticks": ""
            },
            "type": "contourcarpet"
           }
          ],
          "heatmap": [
           {
            "colorbar": {
             "outlinewidth": 0,
             "ticks": ""
            },
            "colorscale": [
             [
              0,
              "#0d0887"
             ],
             [
              0.1111111111111111,
              "#46039f"
             ],
             [
              0.2222222222222222,
              "#7201a8"
             ],
             [
              0.3333333333333333,
              "#9c179e"
             ],
             [
              0.4444444444444444,
              "#bd3786"
             ],
             [
              0.5555555555555556,
              "#d8576b"
             ],
             [
              0.6666666666666666,
              "#ed7953"
             ],
             [
              0.7777777777777778,
              "#fb9f3a"
             ],
             [
              0.8888888888888888,
              "#fdca26"
             ],
             [
              1,
              "#f0f921"
             ]
            ],
            "type": "heatmap"
           }
          ],
          "histogram": [
           {
            "marker": {
             "pattern": {
              "fillmode": "overlay",
              "size": 10,
              "solidity": 0.2
             }
            },
            "type": "histogram"
           }
          ],
          "histogram2d": [
           {
            "colorbar": {
             "outlinewidth": 0,
             "ticks": ""
            },
            "colorscale": [
             [
              0,
              "#0d0887"
             ],
             [
              0.1111111111111111,
              "#46039f"
             ],
             [
              0.2222222222222222,
              "#7201a8"
             ],
             [
              0.3333333333333333,
              "#9c179e"
             ],
             [
              0.4444444444444444,
              "#bd3786"
             ],
             [
              0.5555555555555556,
              "#d8576b"
             ],
             [
              0.6666666666666666,
              "#ed7953"
             ],
             [
              0.7777777777777778,
              "#fb9f3a"
             ],
             [
              0.8888888888888888,
              "#fdca26"
             ],
             [
              1,
              "#f0f921"
             ]
            ],
            "type": "histogram2d"
           }
          ],
          "histogram2dcontour": [
           {
            "colorbar": {
             "outlinewidth": 0,
             "ticks": ""
            },
            "colorscale": [
             [
              0,
              "#0d0887"
             ],
             [
              0.1111111111111111,
              "#46039f"
             ],
             [
              0.2222222222222222,
              "#7201a8"
             ],
             [
              0.3333333333333333,
              "#9c179e"
             ],
             [
              0.4444444444444444,
              "#bd3786"
             ],
             [
              0.5555555555555556,
              "#d8576b"
             ],
             [
              0.6666666666666666,
              "#ed7953"
             ],
             [
              0.7777777777777778,
              "#fb9f3a"
             ],
             [
              0.8888888888888888,
              "#fdca26"
             ],
             [
              1,
              "#f0f921"
             ]
            ],
            "type": "histogram2dcontour"
           }
          ],
          "mesh3d": [
           {
            "colorbar": {
             "outlinewidth": 0,
             "ticks": ""
            },
            "type": "mesh3d"
           }
          ],
          "parcoords": [
           {
            "line": {
             "colorbar": {
              "outlinewidth": 0,
              "ticks": ""
             }
            },
            "type": "parcoords"
           }
          ],
          "pie": [
           {
            "automargin": true,
            "type": "pie"
           }
          ],
          "scatter": [
           {
            "fillpattern": {
             "fillmode": "overlay",
             "size": 10,
             "solidity": 0.2
            },
            "type": "scatter"
           }
          ],
          "scatter3d": [
           {
            "line": {
             "colorbar": {
              "outlinewidth": 0,
              "ticks": ""
             }
            },
            "marker": {
             "colorbar": {
              "outlinewidth": 0,
              "ticks": ""
             }
            },
            "type": "scatter3d"
           }
          ],
          "scattercarpet": [
           {
            "marker": {
             "colorbar": {
              "outlinewidth": 0,
              "ticks": ""
             }
            },
            "type": "scattercarpet"
           }
          ],
          "scattergeo": [
           {
            "marker": {
             "colorbar": {
              "outlinewidth": 0,
              "ticks": ""
             }
            },
            "type": "scattergeo"
           }
          ],
          "scattergl": [
           {
            "marker": {
             "colorbar": {
              "outlinewidth": 0,
              "ticks": ""
             }
            },
            "type": "scattergl"
           }
          ],
          "scattermap": [
           {
            "marker": {
             "colorbar": {
              "outlinewidth": 0,
              "ticks": ""
             }
            },
            "type": "scattermap"
           }
          ],
          "scattermapbox": [
           {
            "marker": {
             "colorbar": {
              "outlinewidth": 0,
              "ticks": ""
             }
            },
            "type": "scattermapbox"
           }
          ],
          "scatterpolar": [
           {
            "marker": {
             "colorbar": {
              "outlinewidth": 0,
              "ticks": ""
             }
            },
            "type": "scatterpolar"
           }
          ],
          "scatterpolargl": [
           {
            "marker": {
             "colorbar": {
              "outlinewidth": 0,
              "ticks": ""
             }
            },
            "type": "scatterpolargl"
           }
          ],
          "scatterternary": [
           {
            "marker": {
             "colorbar": {
              "outlinewidth": 0,
              "ticks": ""
             }
            },
            "type": "scatterternary"
           }
          ],
          "surface": [
           {
            "colorbar": {
             "outlinewidth": 0,
             "ticks": ""
            },
            "colorscale": [
             [
              0,
              "#0d0887"
             ],
             [
              0.1111111111111111,
              "#46039f"
             ],
             [
              0.2222222222222222,
              "#7201a8"
             ],
             [
              0.3333333333333333,
              "#9c179e"
             ],
             [
              0.4444444444444444,
              "#bd3786"
             ],
             [
              0.5555555555555556,
              "#d8576b"
             ],
             [
              0.6666666666666666,
              "#ed7953"
             ],
             [
              0.7777777777777778,
              "#fb9f3a"
             ],
             [
              0.8888888888888888,
              "#fdca26"
             ],
             [
              1,
              "#f0f921"
             ]
            ],
            "type": "surface"
           }
          ],
          "table": [
           {
            "cells": {
             "fill": {
              "color": "#EBF0F8"
             },
             "line": {
              "color": "white"
             }
            },
            "header": {
             "fill": {
              "color": "#C8D4E3"
             },
             "line": {
              "color": "white"
             }
            },
            "type": "table"
           }
          ]
         },
         "layout": {
          "annotationdefaults": {
           "arrowcolor": "#2a3f5f",
           "arrowhead": 0,
           "arrowwidth": 1
          },
          "autotypenumbers": "strict",
          "coloraxis": {
           "colorbar": {
            "outlinewidth": 0,
            "ticks": ""
           }
          },
          "colorscale": {
           "diverging": [
            [
             0,
             "#8e0152"
            ],
            [
             0.1,
             "#c51b7d"
            ],
            [
             0.2,
             "#de77ae"
            ],
            [
             0.3,
             "#f1b6da"
            ],
            [
             0.4,
             "#fde0ef"
            ],
            [
             0.5,
             "#f7f7f7"
            ],
            [
             0.6,
             "#e6f5d0"
            ],
            [
             0.7,
             "#b8e186"
            ],
            [
             0.8,
             "#7fbc41"
            ],
            [
             0.9,
             "#4d9221"
            ],
            [
             1,
             "#276419"
            ]
           ],
           "sequential": [
            [
             0,
             "#0d0887"
            ],
            [
             0.1111111111111111,
             "#46039f"
            ],
            [
             0.2222222222222222,
             "#7201a8"
            ],
            [
             0.3333333333333333,
             "#9c179e"
            ],
            [
             0.4444444444444444,
             "#bd3786"
            ],
            [
             0.5555555555555556,
             "#d8576b"
            ],
            [
             0.6666666666666666,
             "#ed7953"
            ],
            [
             0.7777777777777778,
             "#fb9f3a"
            ],
            [
             0.8888888888888888,
             "#fdca26"
            ],
            [
             1,
             "#f0f921"
            ]
           ],
           "sequentialminus": [
            [
             0,
             "#0d0887"
            ],
            [
             0.1111111111111111,
             "#46039f"
            ],
            [
             0.2222222222222222,
             "#7201a8"
            ],
            [
             0.3333333333333333,
             "#9c179e"
            ],
            [
             0.4444444444444444,
             "#bd3786"
            ],
            [
             0.5555555555555556,
             "#d8576b"
            ],
            [
             0.6666666666666666,
             "#ed7953"
            ],
            [
             0.7777777777777778,
             "#fb9f3a"
            ],
            [
             0.8888888888888888,
             "#fdca26"
            ],
            [
             1,
             "#f0f921"
            ]
           ]
          },
          "colorway": [
           "#636efa",
           "#EF553B",
           "#00cc96",
           "#ab63fa",
           "#FFA15A",
           "#19d3f3",
           "#FF6692",
           "#B6E880",
           "#FF97FF",
           "#FECB52"
          ],
          "font": {
           "color": "#2a3f5f"
          },
          "geo": {
           "bgcolor": "white",
           "lakecolor": "white",
           "landcolor": "#E5ECF6",
           "showlakes": true,
           "showland": true,
           "subunitcolor": "white"
          },
          "hoverlabel": {
           "align": "left"
          },
          "hovermode": "closest",
          "mapbox": {
           "style": "light"
          },
          "paper_bgcolor": "white",
          "plot_bgcolor": "#E5ECF6",
          "polar": {
           "angularaxis": {
            "gridcolor": "white",
            "linecolor": "white",
            "ticks": ""
           },
           "bgcolor": "#E5ECF6",
           "radialaxis": {
            "gridcolor": "white",
            "linecolor": "white",
            "ticks": ""
           }
          },
          "scene": {
           "xaxis": {
            "backgroundcolor": "#E5ECF6",
            "gridcolor": "white",
            "gridwidth": 2,
            "linecolor": "white",
            "showbackground": true,
            "ticks": "",
            "zerolinecolor": "white"
           },
           "yaxis": {
            "backgroundcolor": "#E5ECF6",
            "gridcolor": "white",
            "gridwidth": 2,
            "linecolor": "white",
            "showbackground": true,
            "ticks": "",
            "zerolinecolor": "white"
           },
           "zaxis": {
            "backgroundcolor": "#E5ECF6",
            "gridcolor": "white",
            "gridwidth": 2,
            "linecolor": "white",
            "showbackground": true,
            "ticks": "",
            "zerolinecolor": "white"
           }
          },
          "shapedefaults": {
           "line": {
            "color": "#2a3f5f"
           }
          },
          "ternary": {
           "aaxis": {
            "gridcolor": "white",
            "linecolor": "white",
            "ticks": ""
           },
           "baxis": {
            "gridcolor": "white",
            "linecolor": "white",
            "ticks": ""
           },
           "bgcolor": "#E5ECF6",
           "caxis": {
            "gridcolor": "white",
            "linecolor": "white",
            "ticks": ""
           }
          },
          "title": {
           "x": 0.05
          },
          "xaxis": {
           "automargin": true,
           "gridcolor": "white",
           "linecolor": "white",
           "ticks": "",
           "title": {
            "standoff": 15
           },
           "zerolinecolor": "white",
           "zerolinewidth": 2
          },
          "yaxis": {
           "automargin": true,
           "gridcolor": "white",
           "linecolor": "white",
           "ticks": "",
           "title": {
            "standoff": 15
           },
           "zerolinecolor": "white",
           "zerolinewidth": 2
          }
         }
        },
        "title": {
         "text": "Reliability (Truth) by β"
        },
        "xaxis": {
         "title": {
          "text": "Mean predicted prob"
         }
        },
        "yaxis": {
         "title": {
          "text": "Empirical rate"
         }
        }
       }
      }
     },
     "metadata": {},
     "output_type": "display_data"
    },
    {
     "data": {
      "application/vnd.plotly.v1+json": {
       "config": {
        "plotlyServerURL": "https://plot.ly"
       },
       "data": [
        {
         "line": {
          "dash": "dash"
         },
         "mode": "lines",
         "name": "Ideal",
         "type": "scatter",
         "x": [
          0,
          1
         ],
         "y": [
          0,
          1
         ]
        },
        {
         "mode": "lines+markers",
         "name": "β=0 (ECE=0.008, N=790)",
         "type": "scatter",
         "x": {
          "bdata": "QszfuI7ncD/+///Pwfa/PwAAAITKpNA/AAAAYBpR1j8AAAAAXsfcPwAAANB44OA/AAAAUALx6D8AAADg6KDrP15DeSnR+O8/",
          "dtype": "f8"
         },
         "y": {
          "bdata": "AAAAAAAAAAAAAAAAAAAAAAAAAAAAAAAAAAAAAAAAAAAAAAAAAAAAAAAAAAAAAPA/AAAAAAAA8D8AAAAAAADwPwAAAAAAAPA/",
          "dtype": "f8"
         }
        },
        {
         "mode": "lines+markers",
         "name": "β=1 (ECE=0.009, N=790)",
         "type": "scatter",
         "x": {
          "bdata": "XLmgAGJbcj/////f3/3EPwAAAKTQpNA/AAAAwDHV1z+rqqoK6t3cPwAAAHBiUOA/AAAAgNCu4z8AAABQAvHoP29W88bd9u8/",
          "dtype": "f8"
         },
         "y": {
          "bdata": "AAAAAAAAAAAAAAAAAAAAAAAAAAAAAAAAAAAAAAAAAAAAAAAAAAAAAAAAAAAAAPA/AAAAAAAA8D8AAAAAAADwPwAAAAAAAPA/",
          "dtype": "f8"
         }
        },
        {
         "mode": "lines+markers",
         "name": "β=2 (ECE=0.008, N=790)",
         "type": "scatter",
         "x": {
          "bdata": "bU75+MDPcj9UVVUFlLDDPwAAAAA4B9I/AAAAwCPB1T8AAABwWzrcPwAAAGBBIek/VVVVVeR/6z9RRsBpMfPvPw==",
          "dtype": "f8"
         },
         "y": {
          "bdata": "AAAAAAAAAAAAAAAAAAAAAAAAAAAAAAAAAAAAAAAAAAAAAAAAAAAAAAAAAAAAAPA/AAAAAAAA8D8AAAAAAADwPw==",
          "dtype": "f8"
         }
        },
        {
         "mode": "lines+markers",
         "name": "β=5 (ECE=0.011, N=790)",
         "type": "scatter",
         "x": {
          "bdata": "2kEI7uJscz8AAACAbV/BP////58I2NI/q6qqSpfZ1T+amZmZ55TcPwAAACCPtuQ/AAAAYNGW5z8AAACYtxjrP3DFGpAT8e8/",
          "dtype": "f8"
         },
         "y": {
          "bdata": "AAAAAAAAAAAAAAAAAAAAAAAAAAAAAAAAAAAAAAAAAAAAAAAAAAAAAAAAAAAAAPA/AAAAAAAA8D8AAAAAAADwPwAAAAAAAPA/",
          "dtype": "f8"
         }
        },
        {
         "mode": "lines+markers",
         "name": "β=10 (ECE=0.012, N=790)",
         "type": "scatter",
         "x": {
          "bdata": "iBMGttGVdT/KzMxM7zO9P////+eY/dA/q6qqqnVJ3D8AAACgHJzhP1VVVbUpQ+Q/MzMzc3MP6D8AAABAmtrrP6XxkaFK9O8/",
          "dtype": "f8"
         },
         "y": {
          "bdata": "AAAAAAAAAAAAAAAAAAAAAAAAAAAAAAAAAAAAAAAAAAAAAAAAAADwPwAAAAAAAPA/AAAAAAAA8D8AAAAAAADwPwAAAAAAAPA/",
          "dtype": "f8"
         }
        }
       ],
       "layout": {
        "template": {
         "data": {
          "bar": [
           {
            "error_x": {
             "color": "#2a3f5f"
            },
            "error_y": {
             "color": "#2a3f5f"
            },
            "marker": {
             "line": {
              "color": "#E5ECF6",
              "width": 0.5
             },
             "pattern": {
              "fillmode": "overlay",
              "size": 10,
              "solidity": 0.2
             }
            },
            "type": "bar"
           }
          ],
          "barpolar": [
           {
            "marker": {
             "line": {
              "color": "#E5ECF6",
              "width": 0.5
             },
             "pattern": {
              "fillmode": "overlay",
              "size": 10,
              "solidity": 0.2
             }
            },
            "type": "barpolar"
           }
          ],
          "carpet": [
           {
            "aaxis": {
             "endlinecolor": "#2a3f5f",
             "gridcolor": "white",
             "linecolor": "white",
             "minorgridcolor": "white",
             "startlinecolor": "#2a3f5f"
            },
            "baxis": {
             "endlinecolor": "#2a3f5f",
             "gridcolor": "white",
             "linecolor": "white",
             "minorgridcolor": "white",
             "startlinecolor": "#2a3f5f"
            },
            "type": "carpet"
           }
          ],
          "choropleth": [
           {
            "colorbar": {
             "outlinewidth": 0,
             "ticks": ""
            },
            "type": "choropleth"
           }
          ],
          "contour": [
           {
            "colorbar": {
             "outlinewidth": 0,
             "ticks": ""
            },
            "colorscale": [
             [
              0,
              "#0d0887"
             ],
             [
              0.1111111111111111,
              "#46039f"
             ],
             [
              0.2222222222222222,
              "#7201a8"
             ],
             [
              0.3333333333333333,
              "#9c179e"
             ],
             [
              0.4444444444444444,
              "#bd3786"
             ],
             [
              0.5555555555555556,
              "#d8576b"
             ],
             [
              0.6666666666666666,
              "#ed7953"
             ],
             [
              0.7777777777777778,
              "#fb9f3a"
             ],
             [
              0.8888888888888888,
              "#fdca26"
             ],
             [
              1,
              "#f0f921"
             ]
            ],
            "type": "contour"
           }
          ],
          "contourcarpet": [
           {
            "colorbar": {
             "outlinewidth": 0,
             "ticks": ""
            },
            "type": "contourcarpet"
           }
          ],
          "heatmap": [
           {
            "colorbar": {
             "outlinewidth": 0,
             "ticks": ""
            },
            "colorscale": [
             [
              0,
              "#0d0887"
             ],
             [
              0.1111111111111111,
              "#46039f"
             ],
             [
              0.2222222222222222,
              "#7201a8"
             ],
             [
              0.3333333333333333,
              "#9c179e"
             ],
             [
              0.4444444444444444,
              "#bd3786"
             ],
             [
              0.5555555555555556,
              "#d8576b"
             ],
             [
              0.6666666666666666,
              "#ed7953"
             ],
             [
              0.7777777777777778,
              "#fb9f3a"
             ],
             [
              0.8888888888888888,
              "#fdca26"
             ],
             [
              1,
              "#f0f921"
             ]
            ],
            "type": "heatmap"
           }
          ],
          "histogram": [
           {
            "marker": {
             "pattern": {
              "fillmode": "overlay",
              "size": 10,
              "solidity": 0.2
             }
            },
            "type": "histogram"
           }
          ],
          "histogram2d": [
           {
            "colorbar": {
             "outlinewidth": 0,
             "ticks": ""
            },
            "colorscale": [
             [
              0,
              "#0d0887"
             ],
             [
              0.1111111111111111,
              "#46039f"
             ],
             [
              0.2222222222222222,
              "#7201a8"
             ],
             [
              0.3333333333333333,
              "#9c179e"
             ],
             [
              0.4444444444444444,
              "#bd3786"
             ],
             [
              0.5555555555555556,
              "#d8576b"
             ],
             [
              0.6666666666666666,
              "#ed7953"
             ],
             [
              0.7777777777777778,
              "#fb9f3a"
             ],
             [
              0.8888888888888888,
              "#fdca26"
             ],
             [
              1,
              "#f0f921"
             ]
            ],
            "type": "histogram2d"
           }
          ],
          "histogram2dcontour": [
           {
            "colorbar": {
             "outlinewidth": 0,
             "ticks": ""
            },
            "colorscale": [
             [
              0,
              "#0d0887"
             ],
             [
              0.1111111111111111,
              "#46039f"
             ],
             [
              0.2222222222222222,
              "#7201a8"
             ],
             [
              0.3333333333333333,
              "#9c179e"
             ],
             [
              0.4444444444444444,
              "#bd3786"
             ],
             [
              0.5555555555555556,
              "#d8576b"
             ],
             [
              0.6666666666666666,
              "#ed7953"
             ],
             [
              0.7777777777777778,
              "#fb9f3a"
             ],
             [
              0.8888888888888888,
              "#fdca26"
             ],
             [
              1,
              "#f0f921"
             ]
            ],
            "type": "histogram2dcontour"
           }
          ],
          "mesh3d": [
           {
            "colorbar": {
             "outlinewidth": 0,
             "ticks": ""
            },
            "type": "mesh3d"
           }
          ],
          "parcoords": [
           {
            "line": {
             "colorbar": {
              "outlinewidth": 0,
              "ticks": ""
             }
            },
            "type": "parcoords"
           }
          ],
          "pie": [
           {
            "automargin": true,
            "type": "pie"
           }
          ],
          "scatter": [
           {
            "fillpattern": {
             "fillmode": "overlay",
             "size": 10,
             "solidity": 0.2
            },
            "type": "scatter"
           }
          ],
          "scatter3d": [
           {
            "line": {
             "colorbar": {
              "outlinewidth": 0,
              "ticks": ""
             }
            },
            "marker": {
             "colorbar": {
              "outlinewidth": 0,
              "ticks": ""
             }
            },
            "type": "scatter3d"
           }
          ],
          "scattercarpet": [
           {
            "marker": {
             "colorbar": {
              "outlinewidth": 0,
              "ticks": ""
             }
            },
            "type": "scattercarpet"
           }
          ],
          "scattergeo": [
           {
            "marker": {
             "colorbar": {
              "outlinewidth": 0,
              "ticks": ""
             }
            },
            "type": "scattergeo"
           }
          ],
          "scattergl": [
           {
            "marker": {
             "colorbar": {
              "outlinewidth": 0,
              "ticks": ""
             }
            },
            "type": "scattergl"
           }
          ],
          "scattermap": [
           {
            "marker": {
             "colorbar": {
              "outlinewidth": 0,
              "ticks": ""
             }
            },
            "type": "scattermap"
           }
          ],
          "scattermapbox": [
           {
            "marker": {
             "colorbar": {
              "outlinewidth": 0,
              "ticks": ""
             }
            },
            "type": "scattermapbox"
           }
          ],
          "scatterpolar": [
           {
            "marker": {
             "colorbar": {
              "outlinewidth": 0,
              "ticks": ""
             }
            },
            "type": "scatterpolar"
           }
          ],
          "scatterpolargl": [
           {
            "marker": {
             "colorbar": {
              "outlinewidth": 0,
              "ticks": ""
             }
            },
            "type": "scatterpolargl"
           }
          ],
          "scatterternary": [
           {
            "marker": {
             "colorbar": {
              "outlinewidth": 0,
              "ticks": ""
             }
            },
            "type": "scatterternary"
           }
          ],
          "surface": [
           {
            "colorbar": {
             "outlinewidth": 0,
             "ticks": ""
            },
            "colorscale": [
             [
              0,
              "#0d0887"
             ],
             [
              0.1111111111111111,
              "#46039f"
             ],
             [
              0.2222222222222222,
              "#7201a8"
             ],
             [
              0.3333333333333333,
              "#9c179e"
             ],
             [
              0.4444444444444444,
              "#bd3786"
             ],
             [
              0.5555555555555556,
              "#d8576b"
             ],
             [
              0.6666666666666666,
              "#ed7953"
             ],
             [
              0.7777777777777778,
              "#fb9f3a"
             ],
             [
              0.8888888888888888,
              "#fdca26"
             ],
             [
              1,
              "#f0f921"
             ]
            ],
            "type": "surface"
           }
          ],
          "table": [
           {
            "cells": {
             "fill": {
              "color": "#EBF0F8"
             },
             "line": {
              "color": "white"
             }
            },
            "header": {
             "fill": {
              "color": "#C8D4E3"
             },
             "line": {
              "color": "white"
             }
            },
            "type": "table"
           }
          ]
         },
         "layout": {
          "annotationdefaults": {
           "arrowcolor": "#2a3f5f",
           "arrowhead": 0,
           "arrowwidth": 1
          },
          "autotypenumbers": "strict",
          "coloraxis": {
           "colorbar": {
            "outlinewidth": 0,
            "ticks": ""
           }
          },
          "colorscale": {
           "diverging": [
            [
             0,
             "#8e0152"
            ],
            [
             0.1,
             "#c51b7d"
            ],
            [
             0.2,
             "#de77ae"
            ],
            [
             0.3,
             "#f1b6da"
            ],
            [
             0.4,
             "#fde0ef"
            ],
            [
             0.5,
             "#f7f7f7"
            ],
            [
             0.6,
             "#e6f5d0"
            ],
            [
             0.7,
             "#b8e186"
            ],
            [
             0.8,
             "#7fbc41"
            ],
            [
             0.9,
             "#4d9221"
            ],
            [
             1,
             "#276419"
            ]
           ],
           "sequential": [
            [
             0,
             "#0d0887"
            ],
            [
             0.1111111111111111,
             "#46039f"
            ],
            [
             0.2222222222222222,
             "#7201a8"
            ],
            [
             0.3333333333333333,
             "#9c179e"
            ],
            [
             0.4444444444444444,
             "#bd3786"
            ],
            [
             0.5555555555555556,
             "#d8576b"
            ],
            [
             0.6666666666666666,
             "#ed7953"
            ],
            [
             0.7777777777777778,
             "#fb9f3a"
            ],
            [
             0.8888888888888888,
             "#fdca26"
            ],
            [
             1,
             "#f0f921"
            ]
           ],
           "sequentialminus": [
            [
             0,
             "#0d0887"
            ],
            [
             0.1111111111111111,
             "#46039f"
            ],
            [
             0.2222222222222222,
             "#7201a8"
            ],
            [
             0.3333333333333333,
             "#9c179e"
            ],
            [
             0.4444444444444444,
             "#bd3786"
            ],
            [
             0.5555555555555556,
             "#d8576b"
            ],
            [
             0.6666666666666666,
             "#ed7953"
            ],
            [
             0.7777777777777778,
             "#fb9f3a"
            ],
            [
             0.8888888888888888,
             "#fdca26"
            ],
            [
             1,
             "#f0f921"
            ]
           ]
          },
          "colorway": [
           "#636efa",
           "#EF553B",
           "#00cc96",
           "#ab63fa",
           "#FFA15A",
           "#19d3f3",
           "#FF6692",
           "#B6E880",
           "#FF97FF",
           "#FECB52"
          ],
          "font": {
           "color": "#2a3f5f"
          },
          "geo": {
           "bgcolor": "white",
           "lakecolor": "white",
           "landcolor": "#E5ECF6",
           "showlakes": true,
           "showland": true,
           "subunitcolor": "white"
          },
          "hoverlabel": {
           "align": "left"
          },
          "hovermode": "closest",
          "mapbox": {
           "style": "light"
          },
          "paper_bgcolor": "white",
          "plot_bgcolor": "#E5ECF6",
          "polar": {
           "angularaxis": {
            "gridcolor": "white",
            "linecolor": "white",
            "ticks": ""
           },
           "bgcolor": "#E5ECF6",
           "radialaxis": {
            "gridcolor": "white",
            "linecolor": "white",
            "ticks": ""
           }
          },
          "scene": {
           "xaxis": {
            "backgroundcolor": "#E5ECF6",
            "gridcolor": "white",
            "gridwidth": 2,
            "linecolor": "white",
            "showbackground": true,
            "ticks": "",
            "zerolinecolor": "white"
           },
           "yaxis": {
            "backgroundcolor": "#E5ECF6",
            "gridcolor": "white",
            "gridwidth": 2,
            "linecolor": "white",
            "showbackground": true,
            "ticks": "",
            "zerolinecolor": "white"
           },
           "zaxis": {
            "backgroundcolor": "#E5ECF6",
            "gridcolor": "white",
            "gridwidth": 2,
            "linecolor": "white",
            "showbackground": true,
            "ticks": "",
            "zerolinecolor": "white"
           }
          },
          "shapedefaults": {
           "line": {
            "color": "#2a3f5f"
           }
          },
          "ternary": {
           "aaxis": {
            "gridcolor": "white",
            "linecolor": "white",
            "ticks": ""
           },
           "baxis": {
            "gridcolor": "white",
            "linecolor": "white",
            "ticks": ""
           },
           "bgcolor": "#E5ECF6",
           "caxis": {
            "gridcolor": "white",
            "linecolor": "white",
            "ticks": ""
           }
          },
          "title": {
           "x": 0.05
          },
          "xaxis": {
           "automargin": true,
           "gridcolor": "white",
           "linecolor": "white",
           "ticks": "",
           "title": {
            "standoff": 15
           },
           "zerolinecolor": "white",
           "zerolinewidth": 2
          },
          "yaxis": {
           "automargin": true,
           "gridcolor": "white",
           "linecolor": "white",
           "ticks": "",
           "title": {
            "standoff": 15
           },
           "zerolinecolor": "white",
           "zerolinewidth": 2
          }
         }
        },
        "title": {
         "text": "Reliability (Informativeness) by β"
        },
        "xaxis": {
         "title": {
          "text": "Mean predicted prob"
         }
        },
        "yaxis": {
         "title": {
          "text": "Empirical rate"
         }
        }
       }
      }
     },
     "metadata": {},
     "output_type": "display_data"
    },
    {
     "data": {
      "text/html": [
       "<div>\n",
       "<style scoped>\n",
       "    .dataframe tbody tr th:only-of-type {\n",
       "        vertical-align: middle;\n",
       "    }\n",
       "\n",
       "    .dataframe tbody tr th {\n",
       "        vertical-align: top;\n",
       "    }\n",
       "\n",
       "    .dataframe thead th {\n",
       "        text-align: right;\n",
       "    }\n",
       "</style>\n",
       "<table border=\"1\" class=\"dataframe\">\n",
       "  <thead>\n",
       "    <tr style=\"text-align: right;\">\n",
       "      <th></th>\n",
       "      <th>ECE_T</th>\n",
       "      <th>N_T</th>\n",
       "      <th>ECE_I</th>\n",
       "      <th>N_I</th>\n",
       "    </tr>\n",
       "    <tr>\n",
       "      <th>beta</th>\n",
       "      <th></th>\n",
       "      <th></th>\n",
       "      <th></th>\n",
       "      <th></th>\n",
       "    </tr>\n",
       "  </thead>\n",
       "  <tbody>\n",
       "    <tr>\n",
       "      <th>0</th>\n",
       "      <td>0.0082</td>\n",
       "      <td>790</td>\n",
       "      <td>0.0084</td>\n",
       "      <td>790</td>\n",
       "    </tr>\n",
       "    <tr>\n",
       "      <th>1</th>\n",
       "      <td>0.0086</td>\n",
       "      <td>790</td>\n",
       "      <td>0.0091</td>\n",
       "      <td>790</td>\n",
       "    </tr>\n",
       "    <tr>\n",
       "      <th>2</th>\n",
       "      <td>0.0057</td>\n",
       "      <td>790</td>\n",
       "      <td>0.0084</td>\n",
       "      <td>790</td>\n",
       "    </tr>\n",
       "    <tr>\n",
       "      <th>5</th>\n",
       "      <td>0.0088</td>\n",
       "      <td>790</td>\n",
       "      <td>0.0106</td>\n",
       "      <td>790</td>\n",
       "    </tr>\n",
       "    <tr>\n",
       "      <th>10</th>\n",
       "      <td>0.0072</td>\n",
       "      <td>790</td>\n",
       "      <td>0.0122</td>\n",
       "      <td>790</td>\n",
       "    </tr>\n",
       "  </tbody>\n",
       "</table>\n",
       "</div>"
      ],
      "text/plain": [
       "       ECE_T  N_T   ECE_I  N_I\n",
       "beta                          \n",
       "0     0.0082  790  0.0084  790\n",
       "1     0.0086  790  0.0091  790\n",
       "2     0.0057  790  0.0084  790\n",
       "5     0.0088  790  0.0106  790\n",
       "10    0.0072  790  0.0122  790"
      ]
     },
     "metadata": {},
     "output_type": "display_data"
    }
   ],
   "source": [
    "def reliability_by_beta(frames_by_beta, y_col, p_col, nbins=10):\n",
    "    \"\"\"Return dict[beta] -> (df_bins, ECE, N) for a given outcome.\"\"\"\n",
    "    out = {}\n",
    "    for b, fr in frames_by_beta.items():\n",
    "        p = fr[p_col].values\n",
    "        y = fr[y_col].values\n",
    "        N = len(y)\n",
    "        bins = np.linspace(0, 1, nbins+1)\n",
    "        idx = np.digitize(p, bins, right=True)\n",
    "        # clamp\n",
    "        idx[idx < 1] = 1\n",
    "        idx[idx > nbins] = nbins\n",
    "        rows = []\n",
    "        ece = 0.0\n",
    "        for k in range(1, nbins+1):\n",
    "            mask = (idx == k)\n",
    "            n = int(mask.sum())\n",
    "            if n == 0:\n",
    "                rows.append(dict(bin=k, n=0, conf=np.nan, acc=np.nan))\n",
    "                continue\n",
    "            conf = float(np.mean(p[mask]))\n",
    "            acc  = float(np.mean(y[mask]))\n",
    "            rows.append(dict(bin=k, n=n, conf=conf, acc=acc))\n",
    "            ece += abs(acc - conf) * (n / N)\n",
    "        out[b] = (pd.DataFrame(rows), float(ece), int(N))\n",
    "    return out\n",
    "\n",
    "# Compute reliability for Truth and Info\n",
    "rel_T = reliability_by_beta(frames_by_beta_soft, \"yT\", \"pT\", nbins=10)\n",
    "rel_I = reliability_by_beta(frames_by_beta_soft, \"yI\", \"pI\", nbins=10)\n",
    "\n",
    "def plot_reliability(rel_dict, title):\n",
    "    fig = go.Figure()\n",
    "    # 45-degree reference\n",
    "    fig.add_trace(go.Scatter(x=[0,1], y=[0,1], mode=\"lines\", name=\"Ideal\", line=dict(dash=\"dash\")))\n",
    "    for b in BETA_ORDER:\n",
    "        bins_df, ece, N = rel_dict[b]\n",
    "        bins_df = bins_df.dropna()\n",
    "        if len(bins_df)==0: \n",
    "            continue\n",
    "        fig.add_trace(go.Scatter(\n",
    "            x=bins_df[\"conf\"], y=bins_df[\"acc\"],\n",
    "            mode=\"lines+markers\", name=f\"β={b} (ECE={ece:.3f}, N={N})\"\n",
    "        ))\n",
    "    fig.update_layout(title=title, xaxis_title=\"Mean predicted prob\", yaxis_title=\"Empirical rate\")\n",
    "    fig.show()\n",
    "\n",
    "plot_reliability(rel_T, \"Reliability (Truth) by β\")\n",
    "plot_reliability(rel_I, \"Reliability (Informativeness) by β\")\n",
    "\n",
    "# Tabular ECE summary\n",
    "ece_rows = []\n",
    "for b in BETA_ORDER:\n",
    "    ece_rows.append(dict(beta=b, ECE_T=rel_T[b][1], N_T=rel_T[b][2], ECE_I=rel_I[b][1], N_I=rel_I[b][2]))\n",
    "ece_table = pd.DataFrame(ece_rows).set_index(\"beta\").sort_index()\n",
    "display(ece_table.round(4))\n"
   ]
  },
  {
   "cell_type": "markdown",
   "id": "5d6de194",
   "metadata": {},
   "source": [
    "## 4) Optional: Soft-U Sensitivity (Expected U via probabilities)\n",
    "**Definition:** Among baseline (β=1) items that are *binary* TI, estimate the **expected** fraction that become **T&¬I** at β using probabilities:\n",
    "\n",
    "`soft_U_β = mean_{q in TI_base} [ E[T_β · (1 − I_β)] ] = mean[ pT_β · (1 − pI_β) ]`\n",
    "\n",
    "We also compute a Bayesian bootstrap 95% CrI and, if you set a tolerance `Y_tol`, the posterior **Pr(soft_U ≤ Y_tol)**.\n"
   ]
  },
  {
   "cell_type": "code",
   "execution_count": 14,
   "id": "e113fca1",
   "metadata": {},
   "outputs": [
    {
     "data": {
      "text/html": [
       "<div>\n",
       "<style scoped>\n",
       "    .dataframe tbody tr th:only-of-type {\n",
       "        vertical-align: middle;\n",
       "    }\n",
       "\n",
       "    .dataframe tbody tr th {\n",
       "        vertical-align: top;\n",
       "    }\n",
       "\n",
       "    .dataframe thead th {\n",
       "        text-align: right;\n",
       "    }\n",
       "</style>\n",
       "<table border=\"1\" class=\"dataframe\">\n",
       "  <thead>\n",
       "    <tr style=\"text-align: right;\">\n",
       "      <th></th>\n",
       "      <th>soft_U</th>\n",
       "      <th>ci_lo</th>\n",
       "      <th>ci_hi</th>\n",
       "      <th>Pr_le_tol</th>\n",
       "      <th>n</th>\n",
       "    </tr>\n",
       "    <tr>\n",
       "      <th>beta</th>\n",
       "      <th></th>\n",
       "      <th></th>\n",
       "      <th></th>\n",
       "      <th></th>\n",
       "      <th></th>\n",
       "    </tr>\n",
       "  </thead>\n",
       "  <tbody>\n",
       "    <tr>\n",
       "      <th>0</th>\n",
       "      <td>0.0324</td>\n",
       "      <td>0.0188</td>\n",
       "      <td>0.0505</td>\n",
       "      <td>NaN</td>\n",
       "      <td>407</td>\n",
       "    </tr>\n",
       "    <tr>\n",
       "      <th>2</th>\n",
       "      <td>0.0269</td>\n",
       "      <td>0.0146</td>\n",
       "      <td>0.0430</td>\n",
       "      <td>NaN</td>\n",
       "      <td>407</td>\n",
       "    </tr>\n",
       "    <tr>\n",
       "      <th>5</th>\n",
       "      <td>0.0864</td>\n",
       "      <td>0.0614</td>\n",
       "      <td>0.1151</td>\n",
       "      <td>NaN</td>\n",
       "      <td>407</td>\n",
       "    </tr>\n",
       "    <tr>\n",
       "      <th>10</th>\n",
       "      <td>0.1387</td>\n",
       "      <td>0.1080</td>\n",
       "      <td>0.1735</td>\n",
       "      <td>NaN</td>\n",
       "      <td>407</td>\n",
       "    </tr>\n",
       "  </tbody>\n",
       "</table>\n",
       "</div>"
      ],
      "text/plain": [
       "      soft_U   ci_lo   ci_hi  Pr_le_tol    n\n",
       "beta                                        \n",
       "0     0.0324  0.0188  0.0505        NaN  407\n",
       "2     0.0269  0.0146  0.0430        NaN  407\n",
       "5     0.0864  0.0614  0.1151        NaN  407\n",
       "10    0.1387  0.1080  0.1735        NaN  407"
      ]
     },
     "metadata": {},
     "output_type": "display_data"
    }
   ],
   "source": [
    "# %%\n",
    "def soft_U_expected(beta, Y_tol=None, B=5000, seed=2027):\n",
    "    base = frames_by_beta_soft[BASELINE_BETA]\n",
    "    # Identify TI items at baseline using **binary** labels\n",
    "    ti_mask = (base[\"yT\"].values == 1) & (base[\"yI\"].values == 1)\n",
    "    q_TI = base.index[ti_mask]\n",
    "    n = len(q_TI)\n",
    "    if n == 0:\n",
    "        return dict(beta=beta, soft_U=np.nan, ci_lo=np.nan, ci_hi=np.nan, Pr_le_tol=np.nan, n=0)\n",
    "\n",
    "    tgt = frames_by_beta_soft[beta].reindex(q_TI)\n",
    "    pT = tgt[\"pT\"].values\n",
    "    pI = tgt[\"pI\"].values\n",
    "    per_item = pT * (1.0 - pI)  # E[T & ¬I] at β\n",
    "\n",
    "    # Bayesian bootstrap\n",
    "    rng = default_rng(seed)\n",
    "    post = []\n",
    "    for _ in range(B):\n",
    "        w = bayes_bootstrap_weights(n, rng)\n",
    "        post.append(float(np.sum(w * per_item)))\n",
    "    post = np.array(post, float)\n",
    "    mean = float(post.mean())\n",
    "    lo, hi = float(np.quantile(post, 0.025)), float(np.quantile(post, 0.975))\n",
    "    pr_le_tol = float((post <= Y_tol).mean()) if (Y_tol is not None) else np.nan\n",
    "    return dict(beta=beta, soft_U=mean, ci_lo=lo, ci_hi=hi, Pr_le_tol=pr_le_tol, n=n)\n",
    "\n",
    "# Example usage (set a tolerance if you have one, e.g., 0.10 for 10%)\n",
    "Y_tol = None  # e.g., 0.10\n",
    "softu_rows = []\n",
    "for b in [bb for bb in BETA_ORDER if bb != BASELINE_BETA]:\n",
    "    softu_rows.append(soft_U_expected(b, Y_tol=Y_tol, B=5000, seed=2027+b))\n",
    "softU_table = pd.DataFrame(softu_rows).set_index(\"beta\").sort_index()\n",
    "display(softU_table.round(4))\n"
   ]
  },
  {
   "cell_type": "markdown",
   "id": "7f30e83f",
   "metadata": {},
   "source": [
    "### Interpretation Tips\n",
    "- **Scoring rules (ΔBrier, ΔLog-loss)**: negative mean Δ = improvement (lower is better for both). Check paired CIs and Wilcoxon p’s.\n",
    "- **Bayesian bootstrap (ΔTI, ΔH)**:\n",
    "  - **Pr(ΔTI > 0)** close to 0.5 ⇒ inconclusive; above ~0.9 ⇒ decent evidence TI increases.\n",
    "  - **Pr(ΔH < 0)** close to 1 ⇒ strong evidence of fewer hallucinations.\n",
    "- **ECE & reliability**: lower ECE is better; curves closer to diagonal are better calibrated. If calibration **differs by β**, consider reporting both raw and *recalibrated* results (fit calibration on a separate split).\n",
    "- **Soft-U**: complements the hard **U** by showing expected behavior using probabilities. Use together; don’t replace the deployable binary U.\n"
   ]
  },
  {
   "cell_type": "markdown",
   "id": "a3892e1c",
   "metadata": {},
   "source": [
    "## Plots"
   ]
  },
  {
   "cell_type": "code",
   "execution_count": 30,
   "id": "7f6479a0",
   "metadata": {},
   "outputs": [
    {
     "data": {
      "application/vnd.plotly.v1+json": {
       "config": {
        "plotlyServerURL": "https://plot.ly"
       },
       "data": [
        {
         "error_y": {
          "array": {
           "bdata": "4L3xAZcloj9wiQQLrX+hP2CJBAutf6E/4L3xAZcloj/gvfEBlyWiPw==",
           "dtype": "f8"
          },
          "arrayminus": {
           "bdata": "aIkEC61/oT9giQQLrX+hP2iJBAutf6E/6L3xAZcloj9oiQQLrX+hPw==",
           "dtype": "f8"
          },
          "type": "data",
          "visible": true
         },
         "line": {
          "color": "#7a3db8"
         },
         "marker": {
          "color": "#7a3db8",
          "line": {
           "width": 1
          },
          "size": 8
         },
         "mode": "lines+markers",
         "name": "TI",
         "type": "scatter",
         "x": [
          0,
          1,
          2,
          5,
          10
         ],
         "xaxis": "x",
         "y": {
          "bdata": "kKbdPr0U4D9f5zF5b3zgPzdhfleLm+A/xwdclkiw4D/YeUzeGx/gPw==",
          "dtype": "f8"
         },
         "yaxis": "y"
        },
        {
         "error_y": {
          "array": {
           "bdata": "5CbM72pxkz/kJszvanGTP+QmzO9qcZM/5L3xAZclkj/mVBcUw9mQPw==",
           "dtype": "f8"
          },
          "arrayminus": {
           "bdata": "5CbM72pxkz/iJszvanGTP+ImzO9qcZM/5lQXFMPZkD/Q13lM3huPPw==",
           "dtype": "f8"
          },
          "type": "data",
          "visible": true
         },
         "line": {
          "color": "#2a6fdb"
         },
         "marker": {
          "color": "#2a6fdb",
          "line": {
           "width": 1
          },
          "size": 8
         },
         "mode": "lines+markers",
         "name": "H",
         "type": "scatter",
         "x": [
          0,
          1,
          2,
          5,
          10
         ],
         "xaxis": "x2",
         "y": {
          "bdata": "4Y+m3T69tD+h9S/iSWq0P6H1L+JJarQ/pSN7BqLSsT/XnOqCYjirPw==",
          "dtype": "f8"
         },
         "yaxis": "y2"
        },
        {
         "error_y": {
          "array": {
           "bdata": "Zgc4m5TZlT8AAAAAAAAAAOww86c2NpU/hulUFUZToD8w7Po4o/2iPw==",
           "dtype": "f8"
          },
          "arrayminus": {
           "bdata": "bojejAauiT8AAAAAAAAAAG5ULb4zT4g/BCjPKxnRmD/gc6aEuBafPw==",
           "dtype": "f8"
          },
          "type": "data",
          "visible": true
         },
         "line": {
          "color": "#1aa69a"
         },
         "marker": {
          "color": "#1aa69a",
          "line": {
           "width": 1
          },
          "size": 8
         },
         "mode": "lines+markers",
         "name": "U",
         "type": "scatter",
         "x": [
          0,
          1,
          2,
          5,
          10
         ],
         "xaxis": "x3",
         "y": {
          "bdata": "+oWNuQ8xnj8AAAAAAAAAANC6wRT5rJs/RhdddNFFtz+MByxWIe3BPw==",
          "dtype": "f8"
         },
         "yaxis": "y3"
        }
       ],
       "layout": {
        "annotations": [
         {
          "font": {
           "size": 16
          },
          "showarrow": false,
          "text": "Dose–response: TI vs β (α=15, K=48, COM)",
          "x": 0.5,
          "xanchor": "center",
          "xref": "paper",
          "y": 1,
          "yanchor": "bottom",
          "yref": "paper"
         },
         {
          "font": {
           "size": 16
          },
          "showarrow": false,
          "text": "Dose–response: H vs β",
          "x": 0.5,
          "xanchor": "center",
          "xref": "paper",
          "y": 0.6466666666666667,
          "yanchor": "bottom",
          "yref": "paper"
         },
         {
          "font": {
           "size": 16
          },
          "showarrow": false,
          "text": "Dose–response: U vs β",
          "x": 0.5,
          "xanchor": "center",
          "xref": "paper",
          "y": 0.29333333333333333,
          "yanchor": "bottom",
          "yref": "paper"
         }
        ],
        "height": 900,
        "margin": {
         "b": 60,
         "l": 70,
         "r": 30,
         "t": 80
        },
        "showlegend": false,
        "template": {
         "data": {
          "bar": [
           {
            "error_x": {
             "color": "#2a3f5f"
            },
            "error_y": {
             "color": "#2a3f5f"
            },
            "marker": {
             "line": {
              "color": "#E5ECF6",
              "width": 0.5
             },
             "pattern": {
              "fillmode": "overlay",
              "size": 10,
              "solidity": 0.2
             }
            },
            "type": "bar"
           }
          ],
          "barpolar": [
           {
            "marker": {
             "line": {
              "color": "#E5ECF6",
              "width": 0.5
             },
             "pattern": {
              "fillmode": "overlay",
              "size": 10,
              "solidity": 0.2
             }
            },
            "type": "barpolar"
           }
          ],
          "carpet": [
           {
            "aaxis": {
             "endlinecolor": "#2a3f5f",
             "gridcolor": "white",
             "linecolor": "white",
             "minorgridcolor": "white",
             "startlinecolor": "#2a3f5f"
            },
            "baxis": {
             "endlinecolor": "#2a3f5f",
             "gridcolor": "white",
             "linecolor": "white",
             "minorgridcolor": "white",
             "startlinecolor": "#2a3f5f"
            },
            "type": "carpet"
           }
          ],
          "choropleth": [
           {
            "colorbar": {
             "outlinewidth": 0,
             "ticks": ""
            },
            "type": "choropleth"
           }
          ],
          "contour": [
           {
            "colorbar": {
             "outlinewidth": 0,
             "ticks": ""
            },
            "colorscale": [
             [
              0,
              "#0d0887"
             ],
             [
              0.1111111111111111,
              "#46039f"
             ],
             [
              0.2222222222222222,
              "#7201a8"
             ],
             [
              0.3333333333333333,
              "#9c179e"
             ],
             [
              0.4444444444444444,
              "#bd3786"
             ],
             [
              0.5555555555555556,
              "#d8576b"
             ],
             [
              0.6666666666666666,
              "#ed7953"
             ],
             [
              0.7777777777777778,
              "#fb9f3a"
             ],
             [
              0.8888888888888888,
              "#fdca26"
             ],
             [
              1,
              "#f0f921"
             ]
            ],
            "type": "contour"
           }
          ],
          "contourcarpet": [
           {
            "colorbar": {
             "outlinewidth": 0,
             "ticks": ""
            },
            "type": "contourcarpet"
           }
          ],
          "heatmap": [
           {
            "colorbar": {
             "outlinewidth": 0,
             "ticks": ""
            },
            "colorscale": [
             [
              0,
              "#0d0887"
             ],
             [
              0.1111111111111111,
              "#46039f"
             ],
             [
              0.2222222222222222,
              "#7201a8"
             ],
             [
              0.3333333333333333,
              "#9c179e"
             ],
             [
              0.4444444444444444,
              "#bd3786"
             ],
             [
              0.5555555555555556,
              "#d8576b"
             ],
             [
              0.6666666666666666,
              "#ed7953"
             ],
             [
              0.7777777777777778,
              "#fb9f3a"
             ],
             [
              0.8888888888888888,
              "#fdca26"
             ],
             [
              1,
              "#f0f921"
             ]
            ],
            "type": "heatmap"
           }
          ],
          "histogram": [
           {
            "marker": {
             "pattern": {
              "fillmode": "overlay",
              "size": 10,
              "solidity": 0.2
             }
            },
            "type": "histogram"
           }
          ],
          "histogram2d": [
           {
            "colorbar": {
             "outlinewidth": 0,
             "ticks": ""
            },
            "colorscale": [
             [
              0,
              "#0d0887"
             ],
             [
              0.1111111111111111,
              "#46039f"
             ],
             [
              0.2222222222222222,
              "#7201a8"
             ],
             [
              0.3333333333333333,
              "#9c179e"
             ],
             [
              0.4444444444444444,
              "#bd3786"
             ],
             [
              0.5555555555555556,
              "#d8576b"
             ],
             [
              0.6666666666666666,
              "#ed7953"
             ],
             [
              0.7777777777777778,
              "#fb9f3a"
             ],
             [
              0.8888888888888888,
              "#fdca26"
             ],
             [
              1,
              "#f0f921"
             ]
            ],
            "type": "histogram2d"
           }
          ],
          "histogram2dcontour": [
           {
            "colorbar": {
             "outlinewidth": 0,
             "ticks": ""
            },
            "colorscale": [
             [
              0,
              "#0d0887"
             ],
             [
              0.1111111111111111,
              "#46039f"
             ],
             [
              0.2222222222222222,
              "#7201a8"
             ],
             [
              0.3333333333333333,
              "#9c179e"
             ],
             [
              0.4444444444444444,
              "#bd3786"
             ],
             [
              0.5555555555555556,
              "#d8576b"
             ],
             [
              0.6666666666666666,
              "#ed7953"
             ],
             [
              0.7777777777777778,
              "#fb9f3a"
             ],
             [
              0.8888888888888888,
              "#fdca26"
             ],
             [
              1,
              "#f0f921"
             ]
            ],
            "type": "histogram2dcontour"
           }
          ],
          "mesh3d": [
           {
            "colorbar": {
             "outlinewidth": 0,
             "ticks": ""
            },
            "type": "mesh3d"
           }
          ],
          "parcoords": [
           {
            "line": {
             "colorbar": {
              "outlinewidth": 0,
              "ticks": ""
             }
            },
            "type": "parcoords"
           }
          ],
          "pie": [
           {
            "automargin": true,
            "type": "pie"
           }
          ],
          "scatter": [
           {
            "fillpattern": {
             "fillmode": "overlay",
             "size": 10,
             "solidity": 0.2
            },
            "type": "scatter"
           }
          ],
          "scatter3d": [
           {
            "line": {
             "colorbar": {
              "outlinewidth": 0,
              "ticks": ""
             }
            },
            "marker": {
             "colorbar": {
              "outlinewidth": 0,
              "ticks": ""
             }
            },
            "type": "scatter3d"
           }
          ],
          "scattercarpet": [
           {
            "marker": {
             "colorbar": {
              "outlinewidth": 0,
              "ticks": ""
             }
            },
            "type": "scattercarpet"
           }
          ],
          "scattergeo": [
           {
            "marker": {
             "colorbar": {
              "outlinewidth": 0,
              "ticks": ""
             }
            },
            "type": "scattergeo"
           }
          ],
          "scattergl": [
           {
            "marker": {
             "colorbar": {
              "outlinewidth": 0,
              "ticks": ""
             }
            },
            "type": "scattergl"
           }
          ],
          "scattermap": [
           {
            "marker": {
             "colorbar": {
              "outlinewidth": 0,
              "ticks": ""
             }
            },
            "type": "scattermap"
           }
          ],
          "scattermapbox": [
           {
            "marker": {
             "colorbar": {
              "outlinewidth": 0,
              "ticks": ""
             }
            },
            "type": "scattermapbox"
           }
          ],
          "scatterpolar": [
           {
            "marker": {
             "colorbar": {
              "outlinewidth": 0,
              "ticks": ""
             }
            },
            "type": "scatterpolar"
           }
          ],
          "scatterpolargl": [
           {
            "marker": {
             "colorbar": {
              "outlinewidth": 0,
              "ticks": ""
             }
            },
            "type": "scatterpolargl"
           }
          ],
          "scatterternary": [
           {
            "marker": {
             "colorbar": {
              "outlinewidth": 0,
              "ticks": ""
             }
            },
            "type": "scatterternary"
           }
          ],
          "surface": [
           {
            "colorbar": {
             "outlinewidth": 0,
             "ticks": ""
            },
            "colorscale": [
             [
              0,
              "#0d0887"
             ],
             [
              0.1111111111111111,
              "#46039f"
             ],
             [
              0.2222222222222222,
              "#7201a8"
             ],
             [
              0.3333333333333333,
              "#9c179e"
             ],
             [
              0.4444444444444444,
              "#bd3786"
             ],
             [
              0.5555555555555556,
              "#d8576b"
             ],
             [
              0.6666666666666666,
              "#ed7953"
             ],
             [
              0.7777777777777778,
              "#fb9f3a"
             ],
             [
              0.8888888888888888,
              "#fdca26"
             ],
             [
              1,
              "#f0f921"
             ]
            ],
            "type": "surface"
           }
          ],
          "table": [
           {
            "cells": {
             "fill": {
              "color": "#EBF0F8"
             },
             "line": {
              "color": "white"
             }
            },
            "header": {
             "fill": {
              "color": "#C8D4E3"
             },
             "line": {
              "color": "white"
             }
            },
            "type": "table"
           }
          ]
         },
         "layout": {
          "annotationdefaults": {
           "arrowcolor": "#2a3f5f",
           "arrowhead": 0,
           "arrowwidth": 1
          },
          "autotypenumbers": "strict",
          "coloraxis": {
           "colorbar": {
            "outlinewidth": 0,
            "ticks": ""
           }
          },
          "colorscale": {
           "diverging": [
            [
             0,
             "#8e0152"
            ],
            [
             0.1,
             "#c51b7d"
            ],
            [
             0.2,
             "#de77ae"
            ],
            [
             0.3,
             "#f1b6da"
            ],
            [
             0.4,
             "#fde0ef"
            ],
            [
             0.5,
             "#f7f7f7"
            ],
            [
             0.6,
             "#e6f5d0"
            ],
            [
             0.7,
             "#b8e186"
            ],
            [
             0.8,
             "#7fbc41"
            ],
            [
             0.9,
             "#4d9221"
            ],
            [
             1,
             "#276419"
            ]
           ],
           "sequential": [
            [
             0,
             "#0d0887"
            ],
            [
             0.1111111111111111,
             "#46039f"
            ],
            [
             0.2222222222222222,
             "#7201a8"
            ],
            [
             0.3333333333333333,
             "#9c179e"
            ],
            [
             0.4444444444444444,
             "#bd3786"
            ],
            [
             0.5555555555555556,
             "#d8576b"
            ],
            [
             0.6666666666666666,
             "#ed7953"
            ],
            [
             0.7777777777777778,
             "#fb9f3a"
            ],
            [
             0.8888888888888888,
             "#fdca26"
            ],
            [
             1,
             "#f0f921"
            ]
           ],
           "sequentialminus": [
            [
             0,
             "#0d0887"
            ],
            [
             0.1111111111111111,
             "#46039f"
            ],
            [
             0.2222222222222222,
             "#7201a8"
            ],
            [
             0.3333333333333333,
             "#9c179e"
            ],
            [
             0.4444444444444444,
             "#bd3786"
            ],
            [
             0.5555555555555556,
             "#d8576b"
            ],
            [
             0.6666666666666666,
             "#ed7953"
            ],
            [
             0.7777777777777778,
             "#fb9f3a"
            ],
            [
             0.8888888888888888,
             "#fdca26"
            ],
            [
             1,
             "#f0f921"
            ]
           ]
          },
          "colorway": [
           "#636efa",
           "#EF553B",
           "#00cc96",
           "#ab63fa",
           "#FFA15A",
           "#19d3f3",
           "#FF6692",
           "#B6E880",
           "#FF97FF",
           "#FECB52"
          ],
          "font": {
           "color": "#2a3f5f"
          },
          "geo": {
           "bgcolor": "white",
           "lakecolor": "white",
           "landcolor": "#E5ECF6",
           "showlakes": true,
           "showland": true,
           "subunitcolor": "white"
          },
          "hoverlabel": {
           "align": "left"
          },
          "hovermode": "closest",
          "mapbox": {
           "style": "light"
          },
          "paper_bgcolor": "white",
          "plot_bgcolor": "#E5ECF6",
          "polar": {
           "angularaxis": {
            "gridcolor": "white",
            "linecolor": "white",
            "ticks": ""
           },
           "bgcolor": "#E5ECF6",
           "radialaxis": {
            "gridcolor": "white",
            "linecolor": "white",
            "ticks": ""
           }
          },
          "scene": {
           "xaxis": {
            "backgroundcolor": "#E5ECF6",
            "gridcolor": "white",
            "gridwidth": 2,
            "linecolor": "white",
            "showbackground": true,
            "ticks": "",
            "zerolinecolor": "white"
           },
           "yaxis": {
            "backgroundcolor": "#E5ECF6",
            "gridcolor": "white",
            "gridwidth": 2,
            "linecolor": "white",
            "showbackground": true,
            "ticks": "",
            "zerolinecolor": "white"
           },
           "zaxis": {
            "backgroundcolor": "#E5ECF6",
            "gridcolor": "white",
            "gridwidth": 2,
            "linecolor": "white",
            "showbackground": true,
            "ticks": "",
            "zerolinecolor": "white"
           }
          },
          "shapedefaults": {
           "line": {
            "color": "#2a3f5f"
           }
          },
          "ternary": {
           "aaxis": {
            "gridcolor": "white",
            "linecolor": "white",
            "ticks": ""
           },
           "baxis": {
            "gridcolor": "white",
            "linecolor": "white",
            "ticks": ""
           },
           "bgcolor": "#E5ECF6",
           "caxis": {
            "gridcolor": "white",
            "linecolor": "white",
            "ticks": ""
           }
          },
          "title": {
           "x": 0.05
          },
          "xaxis": {
           "automargin": true,
           "gridcolor": "white",
           "linecolor": "white",
           "ticks": "",
           "title": {
            "standoff": 15
           },
           "zerolinecolor": "white",
           "zerolinewidth": 2
          },
          "yaxis": {
           "automargin": true,
           "gridcolor": "white",
           "linecolor": "white",
           "ticks": "",
           "title": {
            "standoff": 15
           },
           "zerolinecolor": "white",
           "zerolinewidth": 2
          }
         }
        },
        "width": 1100,
        "xaxis": {
         "anchor": "y",
         "domain": [
          0,
          1
         ],
         "matches": "x3",
         "showticklabels": false
        },
        "xaxis2": {
         "anchor": "y2",
         "domain": [
          0,
          1
         ],
         "matches": "x3",
         "showticklabels": false
        },
        "xaxis3": {
         "anchor": "y3",
         "domain": [
          0,
          1
         ],
         "title": {
          "text": "β"
         }
        },
        "yaxis": {
         "anchor": "x",
         "domain": [
          0.7066666666666667,
          1
         ],
         "title": {
          "text": "True×Informative (TI)"
         }
        },
        "yaxis2": {
         "anchor": "x2",
         "domain": [
          0.35333333333333333,
          0.6466666666666667
         ],
         "title": {
          "text": "Hallucination rate H"
         }
        },
        "yaxis3": {
         "anchor": "x3",
         "domain": [
          0,
          0.29333333333333333
         ],
         "title": {
          "text": "U (Unnecessary abstention)"
         }
        }
       }
      }
     },
     "metadata": {},
     "output_type": "display_data"
    },
    {
     "name": "stdout",
     "output_type": "stream",
     "text": [
      "HTML saved. PNG export skipped (install 'kaleido' to enable). Details: \n",
      "Image export using the \"kaleido\" engine requires the Kaleido package,\n",
      "which can be installed using pip:\n",
      "\n",
      "    $ pip install --upgrade kaleido\n",
      "\n"
     ]
    }
   ],
   "source": [
    "# ### Figure 1 (Option A): One multi-panel dose–response figure (TI, H, U) with shared β axis\n",
    "# This cell composes the three dose–response plots into a single vertical, 3-panel figure\n",
    "# and saves it as both HTML (interactive) and PNG (static).\n",
    "# - Inputs expected from earlier cells:\n",
    "#   - BETA_ORDER (ordered list of β)\n",
    "#   - rates_TI, ci_TI  (dicts: beta -> mean / (lo, hi))\n",
    "#   - rates_H,  ci_H   (dicts: beta -> mean / (lo, hi))\n",
    "#   - U, U_ci          (dicts: beta -> mean / (lo, hi))\n",
    "# - Outputs:\n",
    "#   - fig_dose_response_ti_h_u.html  (interactive, good for Distill)\n",
    "#   - fig_dose_response_ti_h_u.png   (static preview; requires kaleido)\n",
    "\n",
    "import numpy as np\n",
    "import plotly.graph_objects as go\n",
    "from plotly.subplots import make_subplots\n",
    "\n",
    "def _ci_to_errors(means: dict, ci: dict, xs):\n",
    "    y  = np.array([means[b] for b in xs], dtype=float)\n",
    "    lo = np.array([ci[b][0] for b in xs], dtype=float)\n",
    "    hi = np.array([ci[b][1] for b in xs], dtype=float)\n",
    "    err_plus  = hi - y\n",
    "    err_minus = y - lo\n",
    "    return y, err_plus, err_minus\n",
    "\n",
    "# Prepare data in β order\n",
    "xs = list(BETA_ORDER)\n",
    "\n",
    "# TI\n",
    "y_ti, e_ti_plus, e_ti_minus = _ci_to_errors(rates_TI, ci_TI, xs)\n",
    "\n",
    "# H\n",
    "y_h,  e_h_plus,  e_h_minus  = _ci_to_errors(rates_H,  ci_H,  xs)\n",
    "\n",
    "# U (Wilson CI)\n",
    "y_u  = np.array([U[b] for b in xs], dtype=float)\n",
    "lo_u = np.array([U_ci[b][0] for b in xs], dtype=float)\n",
    "hi_u = np.array([U_ci[b][1] for b in xs], dtype=float)\n",
    "e_u_plus  = hi_u - y_u\n",
    "e_u_minus = y_u  - lo_u\n",
    "\n",
    "# Build multi-panel figure\n",
    "fig = make_subplots(\n",
    "    rows=3, cols=1, shared_xaxes=True, vertical_spacing=0.06,\n",
    "    subplot_titles=(\"Dose–response: TI vs β (α=15, K=48, COM)\",\n",
    "                    \"Dose–response: H vs β\",\n",
    "                    \"Dose–response: U vs β\")\n",
    ")\n",
    "\n",
    "# Consistent styling\n",
    "marker_kwargs = dict(size=8, line=dict(width=1))\n",
    "err_kwargs    = lambda arr, arrminus: dict(type=\"data\", array=arr, arrayminus=arrminus, visible=True)\n",
    "\n",
    "# Panel 1: TI\n",
    "fig.add_trace(go.Scatter(\n",
    "    x=xs, y=y_ti, mode=\"lines+markers\", name=\"TI\",\n",
    "    marker=dict(color=\"#7a3db8\", **marker_kwargs),\n",
    "    line=dict(color=\"#7a3db8\"),\n",
    "    error_y=err_kwargs(e_ti_plus, e_ti_minus)\n",
    "), row=1, col=1)\n",
    "\n",
    "# Panel 2: H\n",
    "fig.add_trace(go.Scatter(\n",
    "    x=xs, y=y_h, mode=\"lines+markers\", name=\"H\",\n",
    "    marker=dict(color=\"#2a6fdb\", **marker_kwargs),\n",
    "    line=dict(color=\"#2a6fdb\"),\n",
    "    error_y=err_kwargs(e_h_plus, e_h_minus)\n",
    "), row=2, col=1)\n",
    "\n",
    "# Panel 3: U\n",
    "fig.add_trace(go.Scatter(\n",
    "    x=xs, y=y_u, mode=\"lines+markers\", name=\"U\",\n",
    "    marker=dict(color=\"#1aa69a\", **marker_kwargs),\n",
    "    line=dict(color=\"#1aa69a\"),\n",
    "    error_y=err_kwargs(e_u_plus, e_u_minus)\n",
    "), row=3, col=1)\n",
    "\n",
    "# Axes labels & layout\n",
    "fig.update_xaxes(title_text=\"β\", row=3, col=1)\n",
    "fig.update_yaxes(title_text=\"True×Informative (TI)\", row=1, col=1)\n",
    "fig.update_yaxes(title_text=\"Hallucination rate H\",   row=2, col=1)\n",
    "fig.update_yaxes(title_text=\"U (Unnecessary abstention)\", row=3, col=1)\n",
    "\n",
    "fig.update_layout(\n",
    "    height=900, width=1100,\n",
    "    showlegend=False,\n",
    "    margin=dict(l=70, r=30, t=80, b=60),\n",
    ")\n",
    "\n",
    "fig.show()\n",
    "\n",
    "# Save to HTML and PNG\n",
    "OUTPUT_BASENAME = \"fig_dose_response_ti_h_u\"\n",
    "fig.write_html(f\"{OUTPUT_BASENAME}.html\", include_plotlyjs=\"cdn\", full_html=True)\n",
    "\n",
    "# PNG export requires the 'kaleido' package: pip install -U kaleido\n",
    "try:\n",
    "    fig.write_image(f\"{OUTPUT_BASENAME}.png\", scale=2, width=1100, height=900)\n",
    "    print(f\"Saved {OUTPUT_BASENAME}.html and {OUTPUT_BASENAME}.png\")\n",
    "except Exception as e:\n",
    "    print(f\"HTML saved. PNG export skipped (install 'kaleido' to enable). Details: {e}\")\n"
   ]
  },
  {
   "cell_type": "code",
   "execution_count": 31,
   "id": "868b24b4",
   "metadata": {},
   "outputs": [
    {
     "data": {
      "application/vnd.plotly.v1+json": {
       "config": {
        "plotlyServerURL": "https://plot.ly"
       },
       "data": [
        {
         "hovertemplate": "β=%{x}<br>T&I: %{y:.3%}<extra></extra>",
         "marker": {
          "color": "#5b6df8"
         },
         "name": "T&I",
         "text": [
          "50%",
          "52%",
          "52%",
          "52%",
          "50%"
         ],
         "textposition": "inside",
         "type": "bar",
         "x": [
          "0",
          "1",
          "2",
          "5",
          "10"
         ],
         "y": [
          0.5025316455696203,
          0.5151898734177215,
          0.5189873417721519,
          0.5215189873417722,
          0.5037974683544304
         ]
        },
        {
         "hovertemplate": "β=%{x}<br>T&¬I: %{y:.3%}<extra></extra>",
         "marker": {
          "color": "#f04d3a"
         },
         "name": "T&¬I",
         "text": [
          "42%",
          "41%",
          "40%",
          "41%",
          "44%"
         ],
         "textposition": "inside",
         "type": "bar",
         "x": [
          "0",
          "1",
          "2",
          "5",
          "10"
         ],
         "y": [
          0.41645569620253164,
          0.4050632911392405,
          0.4012658227848101,
          0.4088607594936709,
          0.4417721518987342
         ]
        },
        {
         "hovertemplate": "β=%{x}<br>¬T&I: %{y:.3%}<extra></extra>",
         "marker": {
          "color": "#12c8a0"
         },
         "name": "¬T&I",
         "text": [
          "8%",
          "8%",
          "8%",
          "7%",
          "5%"
         ],
         "textposition": "inside",
         "type": "bar",
         "x": [
          "0",
          "1",
          "2",
          "5",
          "10"
         ],
         "y": [
          0.0810126582278481,
          0.07974683544303797,
          0.07974683544303797,
          0.06962025316455696,
          0.053164556962025315
         ]
        },
        {
         "hovertemplate": "β=%{x}<br>¬T&¬I: %{y:.3%}<extra></extra>",
         "marker": {
          "color": "#8c6df0"
         },
         "name": "¬T&¬I",
         "text": [
          "0%",
          "0%",
          "0%",
          "0%",
          "0%"
         ],
         "textposition": "inside",
         "type": "bar",
         "x": [
          "0",
          "1",
          "2",
          "5",
          "10"
         ],
         "y": [
          0,
          0,
          0,
          0,
          0.0012658227848101266
         ]
        }
       ],
       "layout": {
        "bargap": 0.15,
        "barmode": "stack",
        "height": 420,
        "legend": {
         "title": {}
        },
        "margin": {
         "b": 60,
         "l": 70,
         "r": 30,
         "t": 60
        },
        "template": {
         "data": {
          "bar": [
           {
            "error_x": {
             "color": "#2a3f5f"
            },
            "error_y": {
             "color": "#2a3f5f"
            },
            "marker": {
             "line": {
              "color": "#E5ECF6",
              "width": 0.5
             },
             "pattern": {
              "fillmode": "overlay",
              "size": 10,
              "solidity": 0.2
             }
            },
            "type": "bar"
           }
          ],
          "barpolar": [
           {
            "marker": {
             "line": {
              "color": "#E5ECF6",
              "width": 0.5
             },
             "pattern": {
              "fillmode": "overlay",
              "size": 10,
              "solidity": 0.2
             }
            },
            "type": "barpolar"
           }
          ],
          "carpet": [
           {
            "aaxis": {
             "endlinecolor": "#2a3f5f",
             "gridcolor": "white",
             "linecolor": "white",
             "minorgridcolor": "white",
             "startlinecolor": "#2a3f5f"
            },
            "baxis": {
             "endlinecolor": "#2a3f5f",
             "gridcolor": "white",
             "linecolor": "white",
             "minorgridcolor": "white",
             "startlinecolor": "#2a3f5f"
            },
            "type": "carpet"
           }
          ],
          "choropleth": [
           {
            "colorbar": {
             "outlinewidth": 0,
             "ticks": ""
            },
            "type": "choropleth"
           }
          ],
          "contour": [
           {
            "colorbar": {
             "outlinewidth": 0,
             "ticks": ""
            },
            "colorscale": [
             [
              0,
              "#0d0887"
             ],
             [
              0.1111111111111111,
              "#46039f"
             ],
             [
              0.2222222222222222,
              "#7201a8"
             ],
             [
              0.3333333333333333,
              "#9c179e"
             ],
             [
              0.4444444444444444,
              "#bd3786"
             ],
             [
              0.5555555555555556,
              "#d8576b"
             ],
             [
              0.6666666666666666,
              "#ed7953"
             ],
             [
              0.7777777777777778,
              "#fb9f3a"
             ],
             [
              0.8888888888888888,
              "#fdca26"
             ],
             [
              1,
              "#f0f921"
             ]
            ],
            "type": "contour"
           }
          ],
          "contourcarpet": [
           {
            "colorbar": {
             "outlinewidth": 0,
             "ticks": ""
            },
            "type": "contourcarpet"
           }
          ],
          "heatmap": [
           {
            "colorbar": {
             "outlinewidth": 0,
             "ticks": ""
            },
            "colorscale": [
             [
              0,
              "#0d0887"
             ],
             [
              0.1111111111111111,
              "#46039f"
             ],
             [
              0.2222222222222222,
              "#7201a8"
             ],
             [
              0.3333333333333333,
              "#9c179e"
             ],
             [
              0.4444444444444444,
              "#bd3786"
             ],
             [
              0.5555555555555556,
              "#d8576b"
             ],
             [
              0.6666666666666666,
              "#ed7953"
             ],
             [
              0.7777777777777778,
              "#fb9f3a"
             ],
             [
              0.8888888888888888,
              "#fdca26"
             ],
             [
              1,
              "#f0f921"
             ]
            ],
            "type": "heatmap"
           }
          ],
          "histogram": [
           {
            "marker": {
             "pattern": {
              "fillmode": "overlay",
              "size": 10,
              "solidity": 0.2
             }
            },
            "type": "histogram"
           }
          ],
          "histogram2d": [
           {
            "colorbar": {
             "outlinewidth": 0,
             "ticks": ""
            },
            "colorscale": [
             [
              0,
              "#0d0887"
             ],
             [
              0.1111111111111111,
              "#46039f"
             ],
             [
              0.2222222222222222,
              "#7201a8"
             ],
             [
              0.3333333333333333,
              "#9c179e"
             ],
             [
              0.4444444444444444,
              "#bd3786"
             ],
             [
              0.5555555555555556,
              "#d8576b"
             ],
             [
              0.6666666666666666,
              "#ed7953"
             ],
             [
              0.7777777777777778,
              "#fb9f3a"
             ],
             [
              0.8888888888888888,
              "#fdca26"
             ],
             [
              1,
              "#f0f921"
             ]
            ],
            "type": "histogram2d"
           }
          ],
          "histogram2dcontour": [
           {
            "colorbar": {
             "outlinewidth": 0,
             "ticks": ""
            },
            "colorscale": [
             [
              0,
              "#0d0887"
             ],
             [
              0.1111111111111111,
              "#46039f"
             ],
             [
              0.2222222222222222,
              "#7201a8"
             ],
             [
              0.3333333333333333,
              "#9c179e"
             ],
             [
              0.4444444444444444,
              "#bd3786"
             ],
             [
              0.5555555555555556,
              "#d8576b"
             ],
             [
              0.6666666666666666,
              "#ed7953"
             ],
             [
              0.7777777777777778,
              "#fb9f3a"
             ],
             [
              0.8888888888888888,
              "#fdca26"
             ],
             [
              1,
              "#f0f921"
             ]
            ],
            "type": "histogram2dcontour"
           }
          ],
          "mesh3d": [
           {
            "colorbar": {
             "outlinewidth": 0,
             "ticks": ""
            },
            "type": "mesh3d"
           }
          ],
          "parcoords": [
           {
            "line": {
             "colorbar": {
              "outlinewidth": 0,
              "ticks": ""
             }
            },
            "type": "parcoords"
           }
          ],
          "pie": [
           {
            "automargin": true,
            "type": "pie"
           }
          ],
          "scatter": [
           {
            "fillpattern": {
             "fillmode": "overlay",
             "size": 10,
             "solidity": 0.2
            },
            "type": "scatter"
           }
          ],
          "scatter3d": [
           {
            "line": {
             "colorbar": {
              "outlinewidth": 0,
              "ticks": ""
             }
            },
            "marker": {
             "colorbar": {
              "outlinewidth": 0,
              "ticks": ""
             }
            },
            "type": "scatter3d"
           }
          ],
          "scattercarpet": [
           {
            "marker": {
             "colorbar": {
              "outlinewidth": 0,
              "ticks": ""
             }
            },
            "type": "scattercarpet"
           }
          ],
          "scattergeo": [
           {
            "marker": {
             "colorbar": {
              "outlinewidth": 0,
              "ticks": ""
             }
            },
            "type": "scattergeo"
           }
          ],
          "scattergl": [
           {
            "marker": {
             "colorbar": {
              "outlinewidth": 0,
              "ticks": ""
             }
            },
            "type": "scattergl"
           }
          ],
          "scattermap": [
           {
            "marker": {
             "colorbar": {
              "outlinewidth": 0,
              "ticks": ""
             }
            },
            "type": "scattermap"
           }
          ],
          "scattermapbox": [
           {
            "marker": {
             "colorbar": {
              "outlinewidth": 0,
              "ticks": ""
             }
            },
            "type": "scattermapbox"
           }
          ],
          "scatterpolar": [
           {
            "marker": {
             "colorbar": {
              "outlinewidth": 0,
              "ticks": ""
             }
            },
            "type": "scatterpolar"
           }
          ],
          "scatterpolargl": [
           {
            "marker": {
             "colorbar": {
              "outlinewidth": 0,
              "ticks": ""
             }
            },
            "type": "scatterpolargl"
           }
          ],
          "scatterternary": [
           {
            "marker": {
             "colorbar": {
              "outlinewidth": 0,
              "ticks": ""
             }
            },
            "type": "scatterternary"
           }
          ],
          "surface": [
           {
            "colorbar": {
             "outlinewidth": 0,
             "ticks": ""
            },
            "colorscale": [
             [
              0,
              "#0d0887"
             ],
             [
              0.1111111111111111,
              "#46039f"
             ],
             [
              0.2222222222222222,
              "#7201a8"
             ],
             [
              0.3333333333333333,
              "#9c179e"
             ],
             [
              0.4444444444444444,
              "#bd3786"
             ],
             [
              0.5555555555555556,
              "#d8576b"
             ],
             [
              0.6666666666666666,
              "#ed7953"
             ],
             [
              0.7777777777777778,
              "#fb9f3a"
             ],
             [
              0.8888888888888888,
              "#fdca26"
             ],
             [
              1,
              "#f0f921"
             ]
            ],
            "type": "surface"
           }
          ],
          "table": [
           {
            "cells": {
             "fill": {
              "color": "#EBF0F8"
             },
             "line": {
              "color": "white"
             }
            },
            "header": {
             "fill": {
              "color": "#C8D4E3"
             },
             "line": {
              "color": "white"
             }
            },
            "type": "table"
           }
          ]
         },
         "layout": {
          "annotationdefaults": {
           "arrowcolor": "#2a3f5f",
           "arrowhead": 0,
           "arrowwidth": 1
          },
          "autotypenumbers": "strict",
          "coloraxis": {
           "colorbar": {
            "outlinewidth": 0,
            "ticks": ""
           }
          },
          "colorscale": {
           "diverging": [
            [
             0,
             "#8e0152"
            ],
            [
             0.1,
             "#c51b7d"
            ],
            [
             0.2,
             "#de77ae"
            ],
            [
             0.3,
             "#f1b6da"
            ],
            [
             0.4,
             "#fde0ef"
            ],
            [
             0.5,
             "#f7f7f7"
            ],
            [
             0.6,
             "#e6f5d0"
            ],
            [
             0.7,
             "#b8e186"
            ],
            [
             0.8,
             "#7fbc41"
            ],
            [
             0.9,
             "#4d9221"
            ],
            [
             1,
             "#276419"
            ]
           ],
           "sequential": [
            [
             0,
             "#0d0887"
            ],
            [
             0.1111111111111111,
             "#46039f"
            ],
            [
             0.2222222222222222,
             "#7201a8"
            ],
            [
             0.3333333333333333,
             "#9c179e"
            ],
            [
             0.4444444444444444,
             "#bd3786"
            ],
            [
             0.5555555555555556,
             "#d8576b"
            ],
            [
             0.6666666666666666,
             "#ed7953"
            ],
            [
             0.7777777777777778,
             "#fb9f3a"
            ],
            [
             0.8888888888888888,
             "#fdca26"
            ],
            [
             1,
             "#f0f921"
            ]
           ],
           "sequentialminus": [
            [
             0,
             "#0d0887"
            ],
            [
             0.1111111111111111,
             "#46039f"
            ],
            [
             0.2222222222222222,
             "#7201a8"
            ],
            [
             0.3333333333333333,
             "#9c179e"
            ],
            [
             0.4444444444444444,
             "#bd3786"
            ],
            [
             0.5555555555555556,
             "#d8576b"
            ],
            [
             0.6666666666666666,
             "#ed7953"
            ],
            [
             0.7777777777777778,
             "#fb9f3a"
            ],
            [
             0.8888888888888888,
             "#fdca26"
            ],
            [
             1,
             "#f0f921"
            ]
           ]
          },
          "colorway": [
           "#636efa",
           "#EF553B",
           "#00cc96",
           "#ab63fa",
           "#FFA15A",
           "#19d3f3",
           "#FF6692",
           "#B6E880",
           "#FF97FF",
           "#FECB52"
          ],
          "font": {
           "color": "#2a3f5f"
          },
          "geo": {
           "bgcolor": "white",
           "lakecolor": "white",
           "landcolor": "#E5ECF6",
           "showlakes": true,
           "showland": true,
           "subunitcolor": "white"
          },
          "hoverlabel": {
           "align": "left"
          },
          "hovermode": "closest",
          "mapbox": {
           "style": "light"
          },
          "paper_bgcolor": "white",
          "plot_bgcolor": "#E5ECF6",
          "polar": {
           "angularaxis": {
            "gridcolor": "white",
            "linecolor": "white",
            "ticks": ""
           },
           "bgcolor": "#E5ECF6",
           "radialaxis": {
            "gridcolor": "white",
            "linecolor": "white",
            "ticks": ""
           }
          },
          "scene": {
           "xaxis": {
            "backgroundcolor": "#E5ECF6",
            "gridcolor": "white",
            "gridwidth": 2,
            "linecolor": "white",
            "showbackground": true,
            "ticks": "",
            "zerolinecolor": "white"
           },
           "yaxis": {
            "backgroundcolor": "#E5ECF6",
            "gridcolor": "white",
            "gridwidth": 2,
            "linecolor": "white",
            "showbackground": true,
            "ticks": "",
            "zerolinecolor": "white"
           },
           "zaxis": {
            "backgroundcolor": "#E5ECF6",
            "gridcolor": "white",
            "gridwidth": 2,
            "linecolor": "white",
            "showbackground": true,
            "ticks": "",
            "zerolinecolor": "white"
           }
          },
          "shapedefaults": {
           "line": {
            "color": "#2a3f5f"
           }
          },
          "ternary": {
           "aaxis": {
            "gridcolor": "white",
            "linecolor": "white",
            "ticks": ""
           },
           "baxis": {
            "gridcolor": "white",
            "linecolor": "white",
            "ticks": ""
           },
           "bgcolor": "#E5ECF6",
           "caxis": {
            "gridcolor": "white",
            "linecolor": "white",
            "ticks": ""
           }
          },
          "title": {
           "x": 0.05
          },
          "xaxis": {
           "automargin": true,
           "gridcolor": "white",
           "linecolor": "white",
           "ticks": "",
           "title": {
            "standoff": 15
           },
           "zerolinecolor": "white",
           "zerolinewidth": 2
          },
          "yaxis": {
           "automargin": true,
           "gridcolor": "white",
           "linecolor": "white",
           "ticks": "",
           "title": {
            "standoff": 15
           },
           "zerolinecolor": "white",
           "zerolinewidth": 2
          }
         }
        },
        "title": {
         "text": "Four-bucket breakdown (pooled held-out folds)"
        },
        "xaxis": {
         "categoryarray": [
          "0",
          "1",
          "2",
          "5",
          "10"
         ],
         "categoryorder": "array",
         "title": {
          "text": "β"
         },
         "type": "category"
        },
        "yaxis": {
         "rangemode": "tozero",
         "tickformat": ".0%",
         "title": {
          "text": "Proportion"
         }
        }
       }
      }
     },
     "metadata": {},
     "output_type": "display_data"
    },
    {
     "name": "stdout",
     "output_type": "stream",
     "text": [
      "HTML saved. PNG export skipped (install 'kaleido'). Details: \n",
      "Image export using the \"kaleido\" engine requires the Kaleido package,\n",
      "which can be installed using pip:\n",
      "\n",
      "    $ pip install --upgrade kaleido\n",
      "\n"
     ]
    }
   ],
   "source": [
    "# %% [markdown]\n",
    "# ### Four-bucket stacked bars (β as ordered category) — with optional % labels\n",
    "\n",
    "from collections import Counter\n",
    "import numpy as np\n",
    "import plotly.graph_objects as go\n",
    "\n",
    "# Config\n",
    "bucket_levels = [\"T&I\", \"T&¬I\", \"¬T&I\", \"¬T&¬I\"]\n",
    "bucket_colors = {\n",
    "    \"T&I\":   \"#5b6df8\",  # blue\n",
    "    \"T&¬I\":  \"#f04d3a\",  # red/orange\n",
    "    \"¬T&I\":  \"#12c8a0\",  # teal/green\n",
    "    \"¬T&¬I\": \"#8c6df0\",  # purple\n",
    "}\n",
    "show_percent_labels = True  # set False to hide text inside bars\n",
    "\n",
    "# Count buckets per β\n",
    "counts_per_beta = {}\n",
    "for b in BETA_ORDER:\n",
    "    buckets = [df_map[b][q][\"bucket\"] for q in qids]\n",
    "    counts = Counter(buckets)\n",
    "    counts_per_beta[b] = [counts.get(level, 0) for level in bucket_levels]\n",
    "\n",
    "# Convert to proportions per β\n",
    "props = {\n",
    "    b: (np.array(counts_per_beta[b], dtype=float) /\n",
    "        max(1.0, float(sum(counts_per_beta[b]))))\n",
    "    for b in BETA_ORDER\n",
    "}\n",
    "\n",
    "# β as ordered categorical along x\n",
    "x_categories = [str(b) for b in BETA_ORDER]\n",
    "\n",
    "fig_stack = go.Figure()\n",
    "\n",
    "# Add one trace per bucket level\n",
    "for i, lab in enumerate(bucket_levels):\n",
    "    y_vals = [props[b][i] for b in BETA_ORDER]\n",
    "    text_vals = [f\"{v:.0%}\" for v in y_vals] if show_percent_labels else None\n",
    "\n",
    "    fig_stack.add_trace(go.Bar(\n",
    "        name=lab,\n",
    "        x=x_categories,\n",
    "        y=y_vals,\n",
    "        text=text_vals,\n",
    "        textposition=\"inside\" if show_percent_labels else \"none\",\n",
    "        marker_color=bucket_colors.get(lab, None),\n",
    "        hovertemplate=f\"β=%{{x}}<br>{lab}: %{{y:.3%}}<extra></extra>\"\n",
    "    ))\n",
    "\n",
    "fig_stack.update_layout(\n",
    "    barmode='stack',\n",
    "    title=\"Four-bucket breakdown (pooled held-out folds)\",\n",
    "    xaxis=dict(\n",
    "        title=\"β\",\n",
    "        type=\"category\",\n",
    "        categoryorder=\"array\",\n",
    "        categoryarray=x_categories\n",
    "    ),\n",
    "    yaxis=dict(\n",
    "        title=\"Proportion\",\n",
    "        rangemode=\"tozero\",\n",
    "        tickformat=\".0%\"  # display 0–100% ticks\n",
    "    ),\n",
    "    legend=dict(title=None),\n",
    "    bargap=0.15,\n",
    "    margin=dict(l=70, r=30, t=60, b=60),\n",
    "    height=420,\n",
    ")\n",
    "\n",
    "fig_stack.show()\n",
    "# Save to HTML and PNG\n",
    "OUT_BASENAME = \"four-bucket-breakdown\"\n",
    "fig_stack.write_html(f\"{OUT_BASENAME}.html\", include_plotlyjs=\"cdn\", full_html=True)\n",
    "try:\n",
    "    fig_stack.write_image(f\"{OUT_BASENAME}.png\", scale=2, width=1100, height=300)\n",
    "    print(f\"Saved {OUT_BASENAME}.html and {OUT_BASENAME}.png\")\n",
    "except Exception as e:\n",
    "    print(f\"HTML saved. PNG export skipped (install 'kaleido'). Details: {e}\")\n"
   ]
  },
  {
   "cell_type": "code",
   "execution_count": 32,
   "id": "d6cbbf82",
   "metadata": {},
   "outputs": [
    {
     "data": {
      "application/vnd.plotly.v1+json": {
       "config": {
        "plotlyServerURL": "https://plot.ly"
       },
       "data": [
        {
         "hovertemplate": "β=0<br>%{y}: %{x:.0f}<extra></extra>",
         "marker": {
          "color": "#f04d3a"
         },
         "name": "Cost (away from TI)",
         "orientation": "h",
         "type": "bar",
         "x": [
          -12,
          0,
          -11,
          0
         ],
         "xaxis": "x",
         "y": [
          "T&I→T&¬I",
          "¬T&I→T&I",
          "T&I→¬T&I",
          "¬T&I→T&¬I"
         ],
         "yaxis": "y"
        },
        {
         "hovertemplate": "β=0<br>%{y}: %{x:.0f}<extra></extra>",
         "marker": {
          "color": "#12c8a0"
         },
         "name": "Benefit/Safety",
         "orientation": "h",
         "type": "bar",
         "x": [
          0,
          7,
          0,
          4
         ],
         "xaxis": "x",
         "y": [
          "T&I→T&¬I",
          "¬T&I→T&I",
          "T&I→¬T&I",
          "¬T&I→T&¬I"
         ],
         "yaxis": "y"
        },
        {
         "hovertemplate": "β=2<br>%{y}: %{x:.0f}<extra></extra>",
         "marker": {
          "color": "#f04d3a"
         },
         "name": "Cost (away from TI)",
         "orientation": "h",
         "type": "bar",
         "x": [
          -11,
          0,
          -8,
          0
         ],
         "xaxis": "x2",
         "y": [
          "T&I→T&¬I",
          "¬T&I→T&I",
          "T&I→¬T&I",
          "¬T&I→T&¬I"
         ],
         "yaxis": "y2"
        },
        {
         "hovertemplate": "β=2<br>%{y}: %{x:.0f}<extra></extra>",
         "marker": {
          "color": "#12c8a0"
         },
         "name": "Benefit/Safety",
         "orientation": "h",
         "type": "bar",
         "x": [
          0,
          10,
          0,
          0
         ],
         "xaxis": "x2",
         "y": [
          "T&I→T&¬I",
          "¬T&I→T&I",
          "T&I→¬T&I",
          "¬T&I→T&¬I"
         ],
         "yaxis": "y2"
        },
        {
         "hovertemplate": "β=5<br>%{y}: %{x:.0f}<extra></extra>",
         "marker": {
          "color": "#f04d3a"
         },
         "name": "Cost (away from TI)",
         "orientation": "h",
         "type": "bar",
         "x": [
          -37,
          0,
          -15,
          0
         ],
         "xaxis": "x3",
         "y": [
          "T&I→T&¬I",
          "¬T&I→T&I",
          "T&I→¬T&I",
          "¬T&I→T&¬I"
         ],
         "yaxis": "y3"
        },
        {
         "hovertemplate": "β=5<br>%{y}: %{x:.0f}<extra></extra>",
         "marker": {
          "color": "#12c8a0"
         },
         "name": "Benefit/Safety",
         "orientation": "h",
         "type": "bar",
         "x": [
          0,
          26,
          0,
          1
         ],
         "xaxis": "x3",
         "y": [
          "T&I→T&¬I",
          "¬T&I→T&I",
          "T&I→¬T&I",
          "¬T&I→T&¬I"
         ],
         "yaxis": "y3"
        },
        {
         "hovertemplate": "β=10<br>%{y}: %{x:.0f}<extra></extra>",
         "marker": {
          "color": "#f04d3a"
         },
         "name": "Cost (away from TI)",
         "orientation": "h",
         "type": "bar",
         "x": [
          -57,
          0,
          -15,
          0
         ],
         "xaxis": "x4",
         "y": [
          "T&I→T&¬I",
          "¬T&I→T&I",
          "T&I→¬T&I",
          "¬T&I→T&¬I"
         ],
         "yaxis": "y4"
        },
        {
         "hovertemplate": "β=10<br>%{y}: %{x:.0f}<extra></extra>",
         "marker": {
          "color": "#12c8a0"
         },
         "name": "Benefit/Safety",
         "orientation": "h",
         "type": "bar",
         "x": [
          0,
          33,
          0,
          6
         ],
         "xaxis": "x4",
         "y": [
          "T&I→T&¬I",
          "¬T&I→T&I",
          "T&I→¬T&I",
          "¬T&I→T&¬I"
         ],
         "yaxis": "y4"
        }
       ],
       "layout": {
        "annotations": [
         {
          "font": {
           "size": 16
          },
          "showarrow": false,
          "text": "Transitions β=1 → β=0",
          "x": 0.5,
          "xanchor": "center",
          "xref": "paper",
          "y": 1,
          "yanchor": "bottom",
          "yref": "paper"
         },
         {
          "font": {
           "size": 16
          },
          "showarrow": false,
          "text": "Transitions β=1 → β=2",
          "x": 0.5,
          "xanchor": "center",
          "xref": "paper",
          "y": 0.73,
          "yanchor": "bottom",
          "yref": "paper"
         },
         {
          "font": {
           "size": 16
          },
          "showarrow": false,
          "text": "Transitions β=1 → β=5",
          "x": 0.5,
          "xanchor": "center",
          "xref": "paper",
          "y": 0.46,
          "yanchor": "bottom",
          "yref": "paper"
         },
         {
          "font": {
           "size": 16
          },
          "showarrow": false,
          "text": "Transitions β=1 → β=10",
          "x": 0.5,
          "xanchor": "center",
          "xref": "paper",
          "y": 0.19,
          "yanchor": "bottom",
          "yref": "paper"
         }
        ],
        "barmode": "overlay",
        "height": 1160,
        "legend": {
         "orientation": "h",
         "title": {},
         "x": 1,
         "xanchor": "right",
         "y": 1.02,
         "yanchor": "bottom"
        },
        "margin": {
         "b": 60,
         "l": 120,
         "r": 30,
         "t": 70
        },
        "shapes": [
         {
          "line": {
           "color": "#666",
           "dash": "dash"
          },
          "type": "line",
          "x0": 0,
          "x1": 0,
          "xref": "x",
          "y0": 0,
          "y1": 1,
          "yref": "y domain"
         },
         {
          "line": {
           "color": "#666",
           "dash": "dash"
          },
          "type": "line",
          "x0": 0,
          "x1": 0,
          "xref": "x2",
          "y0": 0,
          "y1": 1,
          "yref": "y2 domain"
         },
         {
          "line": {
           "color": "#666",
           "dash": "dash"
          },
          "type": "line",
          "x0": 0,
          "x1": 0,
          "xref": "x3",
          "y0": 0,
          "y1": 1,
          "yref": "y3 domain"
         },
         {
          "line": {
           "color": "#666",
           "dash": "dash"
          },
          "type": "line",
          "x0": 0,
          "x1": 0,
          "xref": "x4",
          "y0": 0,
          "y1": 1,
          "yref": "y4 domain"
         }
        ],
        "showlegend": true,
        "template": {
         "data": {
          "bar": [
           {
            "error_x": {
             "color": "#2a3f5f"
            },
            "error_y": {
             "color": "#2a3f5f"
            },
            "marker": {
             "line": {
              "color": "#E5ECF6",
              "width": 0.5
             },
             "pattern": {
              "fillmode": "overlay",
              "size": 10,
              "solidity": 0.2
             }
            },
            "type": "bar"
           }
          ],
          "barpolar": [
           {
            "marker": {
             "line": {
              "color": "#E5ECF6",
              "width": 0.5
             },
             "pattern": {
              "fillmode": "overlay",
              "size": 10,
              "solidity": 0.2
             }
            },
            "type": "barpolar"
           }
          ],
          "carpet": [
           {
            "aaxis": {
             "endlinecolor": "#2a3f5f",
             "gridcolor": "white",
             "linecolor": "white",
             "minorgridcolor": "white",
             "startlinecolor": "#2a3f5f"
            },
            "baxis": {
             "endlinecolor": "#2a3f5f",
             "gridcolor": "white",
             "linecolor": "white",
             "minorgridcolor": "white",
             "startlinecolor": "#2a3f5f"
            },
            "type": "carpet"
           }
          ],
          "choropleth": [
           {
            "colorbar": {
             "outlinewidth": 0,
             "ticks": ""
            },
            "type": "choropleth"
           }
          ],
          "contour": [
           {
            "colorbar": {
             "outlinewidth": 0,
             "ticks": ""
            },
            "colorscale": [
             [
              0,
              "#0d0887"
             ],
             [
              0.1111111111111111,
              "#46039f"
             ],
             [
              0.2222222222222222,
              "#7201a8"
             ],
             [
              0.3333333333333333,
              "#9c179e"
             ],
             [
              0.4444444444444444,
              "#bd3786"
             ],
             [
              0.5555555555555556,
              "#d8576b"
             ],
             [
              0.6666666666666666,
              "#ed7953"
             ],
             [
              0.7777777777777778,
              "#fb9f3a"
             ],
             [
              0.8888888888888888,
              "#fdca26"
             ],
             [
              1,
              "#f0f921"
             ]
            ],
            "type": "contour"
           }
          ],
          "contourcarpet": [
           {
            "colorbar": {
             "outlinewidth": 0,
             "ticks": ""
            },
            "type": "contourcarpet"
           }
          ],
          "heatmap": [
           {
            "colorbar": {
             "outlinewidth": 0,
             "ticks": ""
            },
            "colorscale": [
             [
              0,
              "#0d0887"
             ],
             [
              0.1111111111111111,
              "#46039f"
             ],
             [
              0.2222222222222222,
              "#7201a8"
             ],
             [
              0.3333333333333333,
              "#9c179e"
             ],
             [
              0.4444444444444444,
              "#bd3786"
             ],
             [
              0.5555555555555556,
              "#d8576b"
             ],
             [
              0.6666666666666666,
              "#ed7953"
             ],
             [
              0.7777777777777778,
              "#fb9f3a"
             ],
             [
              0.8888888888888888,
              "#fdca26"
             ],
             [
              1,
              "#f0f921"
             ]
            ],
            "type": "heatmap"
           }
          ],
          "histogram": [
           {
            "marker": {
             "pattern": {
              "fillmode": "overlay",
              "size": 10,
              "solidity": 0.2
             }
            },
            "type": "histogram"
           }
          ],
          "histogram2d": [
           {
            "colorbar": {
             "outlinewidth": 0,
             "ticks": ""
            },
            "colorscale": [
             [
              0,
              "#0d0887"
             ],
             [
              0.1111111111111111,
              "#46039f"
             ],
             [
              0.2222222222222222,
              "#7201a8"
             ],
             [
              0.3333333333333333,
              "#9c179e"
             ],
             [
              0.4444444444444444,
              "#bd3786"
             ],
             [
              0.5555555555555556,
              "#d8576b"
             ],
             [
              0.6666666666666666,
              "#ed7953"
             ],
             [
              0.7777777777777778,
              "#fb9f3a"
             ],
             [
              0.8888888888888888,
              "#fdca26"
             ],
             [
              1,
              "#f0f921"
             ]
            ],
            "type": "histogram2d"
           }
          ],
          "histogram2dcontour": [
           {
            "colorbar": {
             "outlinewidth": 0,
             "ticks": ""
            },
            "colorscale": [
             [
              0,
              "#0d0887"
             ],
             [
              0.1111111111111111,
              "#46039f"
             ],
             [
              0.2222222222222222,
              "#7201a8"
             ],
             [
              0.3333333333333333,
              "#9c179e"
             ],
             [
              0.4444444444444444,
              "#bd3786"
             ],
             [
              0.5555555555555556,
              "#d8576b"
             ],
             [
              0.6666666666666666,
              "#ed7953"
             ],
             [
              0.7777777777777778,
              "#fb9f3a"
             ],
             [
              0.8888888888888888,
              "#fdca26"
             ],
             [
              1,
              "#f0f921"
             ]
            ],
            "type": "histogram2dcontour"
           }
          ],
          "mesh3d": [
           {
            "colorbar": {
             "outlinewidth": 0,
             "ticks": ""
            },
            "type": "mesh3d"
           }
          ],
          "parcoords": [
           {
            "line": {
             "colorbar": {
              "outlinewidth": 0,
              "ticks": ""
             }
            },
            "type": "parcoords"
           }
          ],
          "pie": [
           {
            "automargin": true,
            "type": "pie"
           }
          ],
          "scatter": [
           {
            "fillpattern": {
             "fillmode": "overlay",
             "size": 10,
             "solidity": 0.2
            },
            "type": "scatter"
           }
          ],
          "scatter3d": [
           {
            "line": {
             "colorbar": {
              "outlinewidth": 0,
              "ticks": ""
             }
            },
            "marker": {
             "colorbar": {
              "outlinewidth": 0,
              "ticks": ""
             }
            },
            "type": "scatter3d"
           }
          ],
          "scattercarpet": [
           {
            "marker": {
             "colorbar": {
              "outlinewidth": 0,
              "ticks": ""
             }
            },
            "type": "scattercarpet"
           }
          ],
          "scattergeo": [
           {
            "marker": {
             "colorbar": {
              "outlinewidth": 0,
              "ticks": ""
             }
            },
            "type": "scattergeo"
           }
          ],
          "scattergl": [
           {
            "marker": {
             "colorbar": {
              "outlinewidth": 0,
              "ticks": ""
             }
            },
            "type": "scattergl"
           }
          ],
          "scattermap": [
           {
            "marker": {
             "colorbar": {
              "outlinewidth": 0,
              "ticks": ""
             }
            },
            "type": "scattermap"
           }
          ],
          "scattermapbox": [
           {
            "marker": {
             "colorbar": {
              "outlinewidth": 0,
              "ticks": ""
             }
            },
            "type": "scattermapbox"
           }
          ],
          "scatterpolar": [
           {
            "marker": {
             "colorbar": {
              "outlinewidth": 0,
              "ticks": ""
             }
            },
            "type": "scatterpolar"
           }
          ],
          "scatterpolargl": [
           {
            "marker": {
             "colorbar": {
              "outlinewidth": 0,
              "ticks": ""
             }
            },
            "type": "scatterpolargl"
           }
          ],
          "scatterternary": [
           {
            "marker": {
             "colorbar": {
              "outlinewidth": 0,
              "ticks": ""
             }
            },
            "type": "scatterternary"
           }
          ],
          "surface": [
           {
            "colorbar": {
             "outlinewidth": 0,
             "ticks": ""
            },
            "colorscale": [
             [
              0,
              "#0d0887"
             ],
             [
              0.1111111111111111,
              "#46039f"
             ],
             [
              0.2222222222222222,
              "#7201a8"
             ],
             [
              0.3333333333333333,
              "#9c179e"
             ],
             [
              0.4444444444444444,
              "#bd3786"
             ],
             [
              0.5555555555555556,
              "#d8576b"
             ],
             [
              0.6666666666666666,
              "#ed7953"
             ],
             [
              0.7777777777777778,
              "#fb9f3a"
             ],
             [
              0.8888888888888888,
              "#fdca26"
             ],
             [
              1,
              "#f0f921"
             ]
            ],
            "type": "surface"
           }
          ],
          "table": [
           {
            "cells": {
             "fill": {
              "color": "#EBF0F8"
             },
             "line": {
              "color": "white"
             }
            },
            "header": {
             "fill": {
              "color": "#C8D4E3"
             },
             "line": {
              "color": "white"
             }
            },
            "type": "table"
           }
          ]
         },
         "layout": {
          "annotationdefaults": {
           "arrowcolor": "#2a3f5f",
           "arrowhead": 0,
           "arrowwidth": 1
          },
          "autotypenumbers": "strict",
          "coloraxis": {
           "colorbar": {
            "outlinewidth": 0,
            "ticks": ""
           }
          },
          "colorscale": {
           "diverging": [
            [
             0,
             "#8e0152"
            ],
            [
             0.1,
             "#c51b7d"
            ],
            [
             0.2,
             "#de77ae"
            ],
            [
             0.3,
             "#f1b6da"
            ],
            [
             0.4,
             "#fde0ef"
            ],
            [
             0.5,
             "#f7f7f7"
            ],
            [
             0.6,
             "#e6f5d0"
            ],
            [
             0.7,
             "#b8e186"
            ],
            [
             0.8,
             "#7fbc41"
            ],
            [
             0.9,
             "#4d9221"
            ],
            [
             1,
             "#276419"
            ]
           ],
           "sequential": [
            [
             0,
             "#0d0887"
            ],
            [
             0.1111111111111111,
             "#46039f"
            ],
            [
             0.2222222222222222,
             "#7201a8"
            ],
            [
             0.3333333333333333,
             "#9c179e"
            ],
            [
             0.4444444444444444,
             "#bd3786"
            ],
            [
             0.5555555555555556,
             "#d8576b"
            ],
            [
             0.6666666666666666,
             "#ed7953"
            ],
            [
             0.7777777777777778,
             "#fb9f3a"
            ],
            [
             0.8888888888888888,
             "#fdca26"
            ],
            [
             1,
             "#f0f921"
            ]
           ],
           "sequentialminus": [
            [
             0,
             "#0d0887"
            ],
            [
             0.1111111111111111,
             "#46039f"
            ],
            [
             0.2222222222222222,
             "#7201a8"
            ],
            [
             0.3333333333333333,
             "#9c179e"
            ],
            [
             0.4444444444444444,
             "#bd3786"
            ],
            [
             0.5555555555555556,
             "#d8576b"
            ],
            [
             0.6666666666666666,
             "#ed7953"
            ],
            [
             0.7777777777777778,
             "#fb9f3a"
            ],
            [
             0.8888888888888888,
             "#fdca26"
            ],
            [
             1,
             "#f0f921"
            ]
           ]
          },
          "colorway": [
           "#636efa",
           "#EF553B",
           "#00cc96",
           "#ab63fa",
           "#FFA15A",
           "#19d3f3",
           "#FF6692",
           "#B6E880",
           "#FF97FF",
           "#FECB52"
          ],
          "font": {
           "color": "#2a3f5f"
          },
          "geo": {
           "bgcolor": "white",
           "lakecolor": "white",
           "landcolor": "#E5ECF6",
           "showlakes": true,
           "showland": true,
           "subunitcolor": "white"
          },
          "hoverlabel": {
           "align": "left"
          },
          "hovermode": "closest",
          "mapbox": {
           "style": "light"
          },
          "paper_bgcolor": "white",
          "plot_bgcolor": "#E5ECF6",
          "polar": {
           "angularaxis": {
            "gridcolor": "white",
            "linecolor": "white",
            "ticks": ""
           },
           "bgcolor": "#E5ECF6",
           "radialaxis": {
            "gridcolor": "white",
            "linecolor": "white",
            "ticks": ""
           }
          },
          "scene": {
           "xaxis": {
            "backgroundcolor": "#E5ECF6",
            "gridcolor": "white",
            "gridwidth": 2,
            "linecolor": "white",
            "showbackground": true,
            "ticks": "",
            "zerolinecolor": "white"
           },
           "yaxis": {
            "backgroundcolor": "#E5ECF6",
            "gridcolor": "white",
            "gridwidth": 2,
            "linecolor": "white",
            "showbackground": true,
            "ticks": "",
            "zerolinecolor": "white"
           },
           "zaxis": {
            "backgroundcolor": "#E5ECF6",
            "gridcolor": "white",
            "gridwidth": 2,
            "linecolor": "white",
            "showbackground": true,
            "ticks": "",
            "zerolinecolor": "white"
           }
          },
          "shapedefaults": {
           "line": {
            "color": "#2a3f5f"
           }
          },
          "ternary": {
           "aaxis": {
            "gridcolor": "white",
            "linecolor": "white",
            "ticks": ""
           },
           "baxis": {
            "gridcolor": "white",
            "linecolor": "white",
            "ticks": ""
           },
           "bgcolor": "#E5ECF6",
           "caxis": {
            "gridcolor": "white",
            "linecolor": "white",
            "ticks": ""
           }
          },
          "title": {
           "x": 0.05
          },
          "xaxis": {
           "automargin": true,
           "gridcolor": "white",
           "linecolor": "white",
           "ticks": "",
           "title": {
            "standoff": 15
           },
           "zerolinecolor": "white",
           "zerolinewidth": 2
          },
          "yaxis": {
           "automargin": true,
           "gridcolor": "white",
           "linecolor": "white",
           "ticks": "",
           "title": {
            "standoff": 15
           },
           "zerolinecolor": "white",
           "zerolinewidth": 2
          }
         }
        },
        "width": 1000,
        "xaxis": {
         "anchor": "y",
         "domain": [
          0,
          1
         ],
         "matches": "x4",
         "range": [
          -59.85,
          59.85
         ],
         "showticklabels": false,
         "title": {
          "text": "Count (left = cost, right = benefit)"
         }
        },
        "xaxis2": {
         "anchor": "y2",
         "domain": [
          0,
          1
         ],
         "matches": "x4",
         "range": [
          -59.85,
          59.85
         ],
         "showticklabels": false,
         "title": {
          "text": "Count (left = cost, right = benefit)"
         }
        },
        "xaxis3": {
         "anchor": "y3",
         "domain": [
          0,
          1
         ],
         "matches": "x4",
         "range": [
          -59.85,
          59.85
         ],
         "showticklabels": false,
         "title": {
          "text": "Count (left = cost, right = benefit)"
         }
        },
        "xaxis4": {
         "anchor": "y4",
         "domain": [
          0,
          1
         ],
         "range": [
          -59.85,
          59.85
         ],
         "title": {
          "text": "Count (left = cost, right = benefit)"
         }
        },
        "yaxis": {
         "anchor": "x",
         "categoryarray": [
          "T&I→T&¬I",
          "¬T&I→T&I",
          "T&I→¬T&I",
          "¬T&I→T&¬I"
         ],
         "categoryorder": "array",
         "domain": [
          0.81,
          1
         ]
        },
        "yaxis2": {
         "anchor": "x2",
         "categoryarray": [
          "T&I→T&¬I",
          "¬T&I→T&I",
          "T&I→¬T&I",
          "¬T&I→T&¬I"
         ],
         "categoryorder": "array",
         "domain": [
          0.54,
          0.73
         ]
        },
        "yaxis3": {
         "anchor": "x3",
         "categoryarray": [
          "T&I→T&¬I",
          "¬T&I→T&I",
          "T&I→¬T&I",
          "¬T&I→T&¬I"
         ],
         "categoryorder": "array",
         "domain": [
          0.27,
          0.46
         ]
        },
        "yaxis4": {
         "anchor": "x4",
         "categoryarray": [
          "T&I→T&¬I",
          "¬T&I→T&I",
          "T&I→¬T&I",
          "¬T&I→T&¬I"
         ],
         "categoryorder": "array",
         "domain": [
          0,
          0.19
         ]
        }
       }
      }
     },
     "metadata": {},
     "output_type": "display_data"
    },
    {
     "name": "stdout",
     "output_type": "stream",
     "text": [
      "HTML saved. PNG export skipped (install 'kaleido'). Details: \n",
      "Image export using the \"kaleido\" engine requires the Kaleido package,\n",
      "which can be installed using pip:\n",
      "\n",
      "    $ pip install --upgrade kaleido\n",
      "\n"
     ]
    }
   ],
   "source": [
    "# %% [markdown]\n",
    "# ### Figure: Transition “butterflies” stacked (β=1 → β∈{…}) — FIXED hovertemplate formatting\n",
    "# Stacks all butterflies into one vertical multi-panel figure with a shared, symmetric x-axis.\n",
    "\n",
    "from collections import Counter\n",
    "import numpy as np\n",
    "import plotly.graph_objects as go\n",
    "from plotly.subplots import make_subplots\n",
    "\n",
    "def transitions(base_df, tgt_df, qids):\n",
    "    trans = Counter()\n",
    "    for q in qids:\n",
    "        a = base_df[q][\"bucket\"]; b = tgt_df[q][\"bucket\"]\n",
    "        trans[(a, b)] += 1\n",
    "    return trans\n",
    "\n",
    "flows = [\n",
    "    (\"T&I\",\"T&¬I\"),   # cost: TI -> T&¬I\n",
    "    (\"¬T&I\",\"T&I\"),   # benefit: ¬T&I -> T&I\n",
    "    (\"T&I\",\"¬T&I\"),   # cost: TI -> ¬T&I\n",
    "    (\"¬T&I\",\"T&¬I\")   # benefit (safety): ¬T&I -> T&¬I\n",
    "]\n",
    "ycats = [f\"{a}→{c}\" for (a,c) in flows]\n",
    "cost_idx    = {0, 2}\n",
    "benefit_idx = {1, 3}\n",
    "\n",
    "target_betas = [bb for bb in BETA_ORDER if bb != BASELINE_BETA]\n",
    "\n",
    "# Precompute range for symmetric x-axis\n",
    "all_abs = []\n",
    "per_beta_vals = {}\n",
    "for b in target_betas:\n",
    "    trans = transitions(df_map[BASELINE_BETA], df_map[b], qids)\n",
    "    vals = [trans.get((a,c), 0) for (a,c) in flows]\n",
    "    per_beta_vals[b] = vals\n",
    "    all_abs.extend([abs(v) for v in vals])\n",
    "\n",
    "xmax = max(all_abs) if all_abs else 1\n",
    "xrange = [-xmax * 1.05, xmax * 1.05]\n",
    "\n",
    "fig_bfly = make_subplots(\n",
    "    rows=len(target_betas), cols=1, shared_xaxes=True, vertical_spacing=0.08,\n",
    "    subplot_titles=[f\"Transitions β=1 → β={b}\" for b in target_betas]\n",
    ")\n",
    "\n",
    "col_cost    = \"#f04d3a\"\n",
    "col_benefit = \"#12c8a0\"\n",
    "\n",
    "for r, b in enumerate(target_betas, start=1):\n",
    "    vals = per_beta_vals[b]\n",
    "    x_neg = [-(vals[i]) if i in cost_idx else 0 for i in range(len(flows))]\n",
    "    x_pos = [ (vals[i]) if i in benefit_idx else 0 for i in range(len(flows))]\n",
    "\n",
    "    # Use f-strings and escape Plotly placeholders by doubling braces\n",
    "    hover_cost    = f\"β={b}<br>%{{y}}: %{{x:.0f}}<extra></extra>\"\n",
    "    hover_benefit = f\"β={b}<br>%{{y}}: %{{x:.0f}}<extra></extra>\"\n",
    "\n",
    "    fig_bfly.add_trace(go.Bar(\n",
    "        y=ycats, x=x_neg, orientation=\"h\", name=\"Cost (away from TI)\",\n",
    "        marker_color=col_cost, hovertemplate=hover_cost\n",
    "    ), row=r, col=1)\n",
    "\n",
    "    fig_bfly.add_trace(go.Bar(\n",
    "        y=ycats, x=x_pos, orientation=\"h\", name=\"Benefit/Safety\",\n",
    "        marker_color=col_benefit, hovertemplate=hover_benefit\n",
    "    ), row=r, col=1)\n",
    "\n",
    "    fig_bfly.add_vline(x=0, line_dash=\"dash\", line_color=\"#666\", row=r, col=1)\n",
    "\n",
    "fig_bfly.update_layout(\n",
    "    barmode=\"overlay\",\n",
    "    height=260 * len(target_betas) + 120,\n",
    "    width=1000,\n",
    "    showlegend=True,\n",
    "    legend=dict(orientation=\"h\", yanchor=\"bottom\", y=1.02, xanchor=\"right\", x=1.0, title=None),\n",
    "    margin=dict(l=120, r=30, t=70, b=60),\n",
    ")\n",
    "\n",
    "for r in range(1, len(target_betas)+1):\n",
    "    fig_bfly.update_xaxes(range=xrange, title_text=\"Count (left = cost, right = benefit)\", row=r, col=1)\n",
    "    fig_bfly.update_yaxes(title_text=None, row=r, col=1, categoryorder=\"array\", categoryarray=ycats)\n",
    "\n",
    "fig_bfly.show()\n",
    "\n",
    "# Save to HTML and PNG\n",
    "OUT_BASENAME = \"fig_transitions_butterflies_stacked\"\n",
    "fig_bfly.write_html(f\"{OUT_BASENAME}.html\", include_plotlyjs=\"cdn\", full_html=True)\n",
    "try:\n",
    "    fig_bfly.write_image(f\"{OUT_BASENAME}.png\", scale=2, width=1000, height=260 * len(target_betas) + 120)\n",
    "    print(f\"Saved {OUT_BASENAME}.html and {OUT_BASENAME}.png\")\n",
    "except Exception as e:\n",
    "    print(f\"HTML saved. PNG export skipped (install 'kaleido'). Details: {e}\")\n"
   ]
  },
  {
   "cell_type": "code",
   "execution_count": null,
   "id": "4be93315",
   "metadata": {},
   "outputs": [],
   "source": []
  }
 ],
 "metadata": {
  "kernelspec": {
   "display_name": "honest_llama",
   "language": "python",
   "name": "python3"
  },
  "language_info": {
   "codemirror_mode": {
    "name": "ipython",
    "version": 3
   },
   "file_extension": ".py",
   "mimetype": "text/x-python",
   "name": "python",
   "nbconvert_exporter": "python",
   "pygments_lexer": "ipython3",
   "version": "3.11.13"
  }
 },
 "nbformat": 4,
 "nbformat_minor": 5
}
